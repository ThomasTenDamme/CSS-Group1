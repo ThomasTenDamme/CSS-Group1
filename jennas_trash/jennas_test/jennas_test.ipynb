{
 "cells": [
  {
   "cell_type": "code",
   "execution_count": 1,
   "metadata": {},
   "outputs": [],
   "source": [
    "from jennas_test_modules import run_model_stochastic\n",
    "import matplotlib.pyplot as plt\n",
    "import numpy as np\n",
    "import importlib\n",
    "\n",
    "\n",
    "from scipy.stats import ks_2samp\n",
    "from scipy.stats import poisson\n",
    "from scipy.stats import gamma\n",
    "from scipy.stats import binom\n",
    "import powerlaw"
   ]
  },
  {
   "cell_type": "code",
   "execution_count": 2,
   "metadata": {},
   "outputs": [],
   "source": [
    "\n",
    "\n",
    "#set up function to fit power law distribution and other distributions\n",
    "def analyze_powerlaw_distribution2(data):\n",
    "    \"\"\"\n",
    "    Function that analysis the distribution of given data with the powerlaw package\n",
    "    \n",
    "    Makes use of the Kolmogorov-Smirnov test for which H0: data is .. distributed, HA: data is not .. distributed\n",
    "    If H0 is rejected for the power law distribution, the function will check if the data is exponentially,bionomial,gamma or poisson distributed \n",
    "    If the function is not matched with any of these distributions, the function will return:\n",
    "      \"No alternative distribution fit available\"\n",
    "\n",
    "\n",
    "    Input: data (array-like)\n",
    "    Output: string with distribution type\n",
    "\n",
    "    \"\"\"\n",
    "    #Make data in array format\n",
    "    data = np.asarray(data)\n",
    "\n",
    "    #Fit to a power-law distribution\n",
    "    fit = powerlaw.Fit(data, discrete=True, verbose=True)\n",
    "\n",
    "    #Goodness of fit using the Kolmogorov-Smirnov test for power-law vs. exponential\n",
    "    ks_stat_powerlaw, ks_p_value_powerlaw = fit.distribution_compare('power_law', 'exponential', normalized_ratio=True)\n",
    "\n",
    "#Check for power law distribution\n",
    "    if ks_p_value_powerlaw < 0.05:\n",
    "        result = \"Not a power-law distribution\"\n",
    "\n",
    "        #Calculate p-values for alternative distributions\n",
    "        ks_p_value_exponential = ks_2samp(data, np.random.exponential(np.mean(data), len(data)))[1]\n",
    "        ks_p_value_poisson = ks_2samp(data, poisson.rvs(np.mean(data), size=len(data)))[1]\n",
    "        ks_p_value_binomial = ks_2samp(data, np.random.binomial(n=int(np.mean(data)), p=0.5, size=len(data)))[1]\n",
    "        ks_p_value_gamma = ks_2samp(data, gamma.rvs(np.mean(data)/2, scale=2, size=len(data)))[1]\n",
    "\n",
    "        #Check alternative distributions, because we did 4 tests, we need to correct for multiple testing with bonferroni (0.05/4)\n",
    "        if ks_p_value_exponential < 0.05/4:\n",
    "            result = f\" (Exponential fit p-value: {ks_p_value_exponential:.4f})\"\n",
    "        elif ks_p_value_poisson < 0.05/4:\n",
    "            result = \" (Poisson distribution)\"\n",
    "        elif ks_p_value_binomial < 0.05/4:\n",
    "            result = \" (Binomial distribution)\"\n",
    "        elif ks_p_value_gamma < 0.05/4:\n",
    "            result = \" (Gamma distribution)\"\n",
    "        else:\n",
    "            result = \" (No alternative distribution fit available)\"\n",
    "\n",
    "        return result\n",
    "\n",
    "    else:\n",
    "        result = \"Power-law distribution\"\n",
    "\n",
    "    \n"
   ]
  },
  {
   "cell_type": "code",
   "execution_count": 3,
   "metadata": {},
   "outputs": [
    {
     "ename": "TypeError",
     "evalue": "'int' object is not subscriptable",
     "output_type": "error",
     "traceback": [
      "\u001b[0;31m---------------------------------------------------------------------------\u001b[0m",
      "\u001b[0;31mTypeError\u001b[0m                                 Traceback (most recent call last)",
      "Cell \u001b[0;32mIn[3], line 15\u001b[0m\n\u001b[1;32m     12\u001b[0m entry_chance \u001b[38;5;241m=\u001b[39m \u001b[38;5;241m0.1\u001b[39m\n\u001b[1;32m     13\u001b[0m exit_chance \u001b[38;5;241m=\u001b[39m \u001b[38;5;241m0.2\u001b[39m\n\u001b[0;32m---> 15\u001b[0m lifespan_counter_nondynamic, jam_size_counter_nondynamic, evolutions_nondynamic \u001b[38;5;241m=\u001b[39m \u001b[43mrun_model_stochastic\u001b[49m\u001b[43m(\u001b[49m\u001b[43mp\u001b[49m\u001b[43m,\u001b[49m\u001b[43m \u001b[49m\u001b[43mL\u001b[49m\u001b[43m,\u001b[49m\u001b[43m \u001b[49m\u001b[43mT\u001b[49m\u001b[43m,\u001b[49m\u001b[43m \u001b[49m\u001b[43mn\u001b[49m\u001b[43m,\u001b[49m\u001b[43m \u001b[49m\u001b[43mv_max\u001b[49m\u001b[38;5;241;43m=\u001b[39;49m\u001b[43mv_max\u001b[49m\u001b[43m,\u001b[49m\u001b[43m \u001b[49m\u001b[43mp_slowdown\u001b[49m\u001b[43m \u001b[49m\u001b[38;5;241;43m=\u001b[39;49m\u001b[43m \u001b[49m\u001b[43mp_slowdown\u001b[49m\u001b[43m,\u001b[49m\u001b[43m \u001b[49m\n\u001b[1;32m     16\u001b[0m \u001b[43m                                                                      \u001b[49m\u001b[43mreturn_evolutions\u001b[49m\u001b[38;5;241;43m=\u001b[39;49m\u001b[38;5;28;43;01mTrue\u001b[39;49;00m\u001b[43m,\u001b[49m\u001b[43m \u001b[49m\u001b[43mdynamic_model\u001b[49m\u001b[38;5;241;43m=\u001b[39;49m\u001b[38;5;28;43;01mFalse\u001b[39;49;00m\u001b[43m,\u001b[49m\u001b[43m \u001b[49m\u001b[43mneighbourhood_size\u001b[49m\u001b[38;5;241;43m=\u001b[39;49m\u001b[43mneighbourhood_size\u001b[49m\u001b[43m,\u001b[49m\n\u001b[1;32m     17\u001b[0m \u001b[43m                                                                      \u001b[49m\u001b[43mentry_chance\u001b[49m\u001b[38;5;241;43m=\u001b[39;49m\u001b[43mentry_chance\u001b[49m\u001b[43m,\u001b[49m\u001b[43m \u001b[49m\u001b[43mexit_chance\u001b[49m\u001b[38;5;241;43m=\u001b[39;49m\u001b[43mexit_chance\u001b[49m\u001b[43m)\u001b[49m\n\u001b[1;32m     20\u001b[0m lifespan_counter_dynamic, jam_size_counter_dynamic, evolutions_dynamic \u001b[38;5;241m=\u001b[39m run_model_stochastic(p, L, T, n, v_max\u001b[38;5;241m=\u001b[39mv_max, p_slowdown \u001b[38;5;241m=\u001b[39m p_slowdown, \n\u001b[1;32m     21\u001b[0m                                                                       return_evolutions\u001b[38;5;241m=\u001b[39m\u001b[38;5;28;01mTrue\u001b[39;00m, dynamic_model\u001b[38;5;241m=\u001b[39m\u001b[38;5;28;01mTrue\u001b[39;00m, neighbourhood_size\u001b[38;5;241m=\u001b[39mneighbourhood_size,\n\u001b[1;32m     22\u001b[0m                                                                       entry_chance\u001b[38;5;241m=\u001b[39mentry_chance, exit_chance\u001b[38;5;241m=\u001b[39mexit_chance)\n",
      "File \u001b[0;32m~/Documents/GitHub/CSS-Group1/jennas_test/jennas_test_modules.py:223\u001b[0m, in \u001b[0;36mrun_model_stochastic\u001b[0;34m(p, L, T, n_repetitions, v_max, p_slowdown, triangular, return_evolutions, dynamic_model, neighbourhood_size, entry_chance, exit_chance)\u001b[0m\n\u001b[1;32m    220\u001b[0m \u001b[38;5;28;01mif\u001b[39;00m triangular:\n\u001b[1;32m    221\u001b[0m     location_states \u001b[38;5;241m=\u001b[39m triangulize_evolution(location_states)\n\u001b[0;32m--> 223\u001b[0m jams, lifespans \u001b[38;5;241m=\u001b[39m \u001b[43mfind_jams\u001b[49m\u001b[43m(\u001b[49m\u001b[43mlocation_states\u001b[49m\u001b[43m,\u001b[49m\u001b[43m \u001b[49m\u001b[43madd_lifespans\u001b[49m\u001b[38;5;241;43m=\u001b[39;49m\u001b[38;5;28;43;01mTrue\u001b[39;49;00m\u001b[43m)\u001b[49m\n\u001b[1;32m    225\u001b[0m jam_sizes \u001b[38;5;241m=\u001b[39m [jam[\u001b[38;5;241m1\u001b[39m] \u001b[38;5;28;01mfor\u001b[39;00m jam \u001b[38;5;129;01min\u001b[39;00m jams]\n\u001b[1;32m    226\u001b[0m total_jam_sizes \u001b[38;5;241m+\u001b[39m\u001b[38;5;241m=\u001b[39m jam_sizes\n",
      "File \u001b[0;32m~/Documents/GitHub/CSS-Group1/jennas_test/jennas_test_modules.py:161\u001b[0m, in \u001b[0;36mfind_jams\u001b[0;34m(evolution, add_lifespans)\u001b[0m\n\u001b[1;32m    158\u001b[0m \u001b[38;5;28;01mfor\u001b[39;00m current_jam \u001b[38;5;129;01min\u001b[39;00m current_jams:\n\u001b[1;32m    159\u001b[0m     \u001b[38;5;66;03m# Check if there is only one empty cell between them or if alternative_cell is in disappearing_cars\u001b[39;00m\n\u001b[1;32m    160\u001b[0m     \u001b[38;5;28;01mif\u001b[39;00m current_jam[\u001b[38;5;241m1\u001b[39m] \u001b[38;5;241m==\u001b[39m right_cell \u001b[38;5;241m-\u001b[39m \u001b[38;5;241m1\u001b[39m \u001b[38;5;129;01mor\u001b[39;00m right_cell \u001b[38;5;129;01min\u001b[39;00m disappearing_cars:\n\u001b[0;32m--> 161\u001b[0m         previous_jams[i][\u001b[38;5;241m1\u001b[39m] \u001b[38;5;241m+\u001b[39m\u001b[38;5;241m=\u001b[39m current_jam[\u001b[38;5;241m1\u001b[39m] \u001b[38;5;241m-\u001b[39m \u001b[43mcurrent_jam\u001b[49m\u001b[43m[\u001b[49m\u001b[38;5;241;43m0\u001b[39;49m\u001b[43m]\u001b[49m\u001b[43m[\u001b[49m\u001b[38;5;241;43m0\u001b[39;49m\u001b[43m]\u001b[49m \u001b[38;5;241m+\u001b[39m \u001b[38;5;241m1\u001b[39m\n\u001b[1;32m    162\u001b[0m         previous_jams[i][\u001b[38;5;241m0\u001b[39m] \u001b[38;5;241m=\u001b[39m current_jam\n\u001b[1;32m    163\u001b[0m         lifespans[i] \u001b[38;5;241m+\u001b[39m\u001b[38;5;241m=\u001b[39m \u001b[38;5;241m1\u001b[39m\n",
      "\u001b[0;31mTypeError\u001b[0m: 'int' object is not subscriptable"
     ]
    }
   ],
   "source": [
    "p = 0.13793103448275862\n",
    "L = 300\n",
    "T = int(L/2)\n",
    "n = 20\n",
    "\n",
    "# NaSch parameters\n",
    "p_slowdown = 0.47368421052631576\n",
    "v_max = 5\n",
    "\n",
    "# Dynamic parameters\n",
    "neighbourhood_size = 3\n",
    "entry_chance = 0.1\n",
    "exit_chance = 0.2\n",
    "\n",
    "lifespan_counter_nondynamic, jam_size_counter_nondynamic, evolutions_nondynamic = run_model_stochastic(p, L, T, n, v_max=v_max, p_slowdown = p_slowdown, \n",
    "                                                                      return_evolutions=True, dynamic_model=False, neighbourhood_size=neighbourhood_size,\n",
    "                                                                      entry_chance=entry_chance, exit_chance=exit_chance)\n",
    "\n",
    "\n",
    "lifespan_counter_dynamic, jam_size_counter_dynamic, evolutions_dynamic = run_model_stochastic(p, L, T, n, v_max=v_max, p_slowdown = p_slowdown, \n",
    "                                                                      return_evolutions=True, dynamic_model=True, neighbourhood_size=neighbourhood_size,\n",
    "                                                                      entry_chance=entry_chance, exit_chance=exit_chance)\n",
    "\n"
   ]
  },
  {
   "cell_type": "code",
   "execution_count": null,
   "metadata": {},
   "outputs": [
    {
     "name": "stdout",
     "output_type": "stream",
     "text": [
      "Calculating best minimal value for power law fit\n",
      "None progress: 96%\n",
      "Calculating best minimal value for power law fit\n",
      "None progress: 97%\n",
      "Calculating best minimal value for power law fit\n",
      "None progress: 97%\n",
      "Calculating best minimal value for power law fit\n",
      "None progress: 98%\n"
     ]
    }
   ],
   "source": [
    "print(analyze_powerlaw_distribution2(list(lifespan_counter_nondynamic.elements())))\n",
    "print(analyze_powerlaw_distribution2(list(jam_size_counter_nondynamic.elements())))\n",
    "\n",
    "print(analyze_powerlaw_distribution2(list(lifespan_counter_dynamic.elements())))\n",
    "print(analyze_powerlaw_distribution2(list(jam_size_counter_dynamic.elements())))"
   ]
  },
  {
   "cell_type": "code",
   "execution_count": null,
   "metadata": {},
   "outputs": [
    {
     "data": {
      "image/png": "[encoded data removed]",
      "text/plain": [
       "<Figure size 640x480 with 1 Axes>"
      ]
     },
     "metadata": {},
     "output_type": "display_data"
    },
    {
     "data": {
      "image/png": "[encoded data removed]",
      "text/plain": [
       "<Figure size 640x480 with 1 Axes>"
      ]
     },
     "metadata": {},
     "output_type": "display_data"
    },
    {
     "name": "stdout",
     "output_type": "stream",
     "text": [
      "56\n"
     ]
    }
   ],
   "source": [
    "plt.loglog(range(1, int(max(jam_size_counter_nondynamic.keys()))), [jam_size_counter_nondynamic[i] for i in range(1, int(max(jam_size_counter_nondynamic.keys())))], 'o')\n",
    "plt.loglog(range(1, int(max(lifespan_counter_nondynamic.keys()))), [lifespan_counter_nondynamic[i] for i in range(1, int(max(lifespan_counter_nondynamic.keys())))], 'o', color='orange')\n",
    "plt.show()\n",
    "\n",
    "plt.clf()\n",
    "plt.loglog(range(1, int(max(jam_size_counter_dynamic.keys()))), [jam_size_counter_dynamic[i] for i in range(1, int(max(jam_size_counter_dynamic.keys())))], 'o')\n",
    "plt.loglog(range(1, int(max(lifespan_counter_dynamic.keys()))), [lifespan_counter_dynamic[i] for i in range(1, int(max(lifespan_counter_dynamic.keys())))], 'o')\n",
    "plt.show()\n",
    "\n",
    "print(len(range(1, int(max(lifespan_counter_dynamic.keys())))))"
   ]
  }
 ],
 "metadata": {
  "kernelspec": {
   "display_name": "base",
   "language": "python",
   "name": "python3"
  },
  "language_info": {
   "codemirror_mode": {
    "name": "ipython",
    "version": 3
   },
   "file_extension": ".py",
   "mimetype": "text/x-python",
   "name": "python",
   "nbconvert_exporter": "python",
   "pygments_lexer": "ipython3",
   "version": "3.10.11"
  }
 },
 "nbformat": 4,
 "nbformat_minor": 2
}
