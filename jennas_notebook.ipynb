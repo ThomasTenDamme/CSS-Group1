{
 "cells": [
  {
   "cell_type": "code",
   "execution_count": null,
   "metadata": {},
   "outputs": [],
   "source": [
    "import importlib\n",
    "import modules\n",
    "from collections import Counter\n",
    "import numpy as np\n",
    "\n",
    "importlib.reload(modules)\n",
    "\n",
    "from modules import CA\n",
    "import matplotlib.pyplot as plt\n",
    "\n",
    "from modules import run_model_stochastic\n",
    "import random\n",
    "\n",
    "importlib.reload(modules)"
   ]
  },
  {
   "cell_type": "code",
   "execution_count": null,
   "metadata": {},
   "outputs": [],
   "source": []
  },
  {
   "cell_type": "code",
   "execution_count": null,
   "metadata": {},
   "outputs": [],
   "source": [
    "density_list = np.linspace(0.3, 0.9, 100)\n",
    "L = 100\n",
    "T = 50\n",
    "n_repetitions = 100\n",
    "v_max = 5\n",
    "trials = 5\n",
    "shannon_entropy = {}\n",
    "\n",
    "import itertools\n",
    "\n",
    "for p in density_list:\n",
    "    print(p)\n",
    "    for n in range(trials):\n",
    "        lifespan_counter, jam_counter, all_evolutions = run_model_stochastic(p, L, T, n_repetitions, v_max, return_evolutions=True)\n",
    "        merged = list(itertools.chain.from_iterable(list(itertools.chain.from_iterable(all_evolutions))))\n",
    "        second_items = [tuple_item[1] for tuple_item in merged]\n",
    "        speeds = Counter(second_items)\n",
    "        \n",
    "        probabilities = [count / len(second_items) for count in speeds.values()]\n",
    "\n",
    "        # shannon_entropy[p] += -sum(p * np.log2(p) for p in probabilities)\n",
    "\n",
    "        if p not in shannon_entropy:\n",
    "                    shannon_entropy[p] = [-sum(p * np.log2(p) for p in probabilities)]\n",
    "        else:\n",
    "            shannon_entropy[p] += [-sum(p * np.log2(p) for p in probabilities)]\n"
   ]
  }
 ],
 "metadata": {
  "kernelspec": {
   "display_name": "base",
   "language": "python",
   "name": "python3"
  },
  "language_info": {
   "codemirror_mode": {
    "name": "ipython",
    "version": 3
   },
   "file_extension": ".py",
   "mimetype": "text/x-python",
   "name": "python",
   "nbconvert_exporter": "python",
   "pygments_lexer": "ipython3",
   "version": "3.10.11"
  },
  "orig_nbformat": 4
 },
 "nbformat": 4,
 "nbformat_minor": 2
}
