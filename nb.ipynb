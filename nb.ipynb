{
 "cells": [
  {
   "cell_type": "code",
   "execution_count": null,
   "metadata": {},
   "outputs": [],
   "source": [
    "import importlib\n",
    "import modules\n",
    "\n",
    "importlib.reload(modules)\n",
    "\n",
    "from modules import CA\n",
    "import matplotlib.pyplot as plt\n"
   ]
  },
  {
   "cell_type": "code",
   "execution_count": null,
   "metadata": {},
   "outputs": [],
   "source": [
    "ca_184 = CA()\n",
    "\n",
    "p = 0.5\n",
    "L = 100\n",
    "initial_state = ca_184.gen_initial_state_bernoulli(L, p)\n",
    "lambda_parameter, evolution = ca_184.gen_CA(L, r=1, k=2, dec_rule=184, t_end=10, s_q='0')\n",
    "transient_length = ca_184.calculate_transient_length()\n",
    "\n",
    "plt.figure(figsize=(8,10))\n",
    "plt.title(f'Rule 184')\n",
    "plt.imshow(evolution, cmap='binary')\n",
    "\n",
    "print(f\"Transient length: {transient_length}\")\n"
   ]
  },
  {
   "cell_type": "code",
   "execution_count": null,
   "metadata": {},
   "outputs": [],
   "source": [
    "import cellpylib as cpl\n",
    "import numpy as np"
   ]
  },
  {
   "cell_type": "code",
   "execution_count": null,
   "metadata": {},
   "outputs": [],
   "source": [
    "importlib.reload(modules)\n",
    "from modules import triangulize_evolution\n",
    "\n",
    "p = 0.5\n",
    "L = 1000\n",
    "T = int(L / 2)\n",
    "initial_state = ca_184.gen_initial_state_bernoulli(L, p)\n",
    "\n",
    "# print(cellular_automaton)\n",
    "cellular_automaton = cpl.evolve(initial_state, timesteps=T, memoize=True, apply_rule=lambda n, c, t: cpl.nks_rule(n, rule=184))\n",
    "cellular_automaton = triangulize_evolution(cellular_automaton)\n",
    "\n",
    "fig, ax = plt.subplots(figsize=(12, 6))  # Adjust the size as needed\n",
    "cpl.plot(cellular_automaton, colormap='GnBu')\n",
    "\n"
   ]
  },
  {
   "cell_type": "code",
   "execution_count": null,
   "metadata": {},
   "outputs": [],
   "source": [
    "importlib.reload(modules)\n",
    "from modules import find_elem_jams\n",
    "\n",
    "jams = find_elem_jams(cellular_automaton)\n",
    "print(f\"The jams in the evolution above are: {jams}\")\n",
    "print(f\"\\'[[i, j], size]\\' with i and j being the row coordinates in the row that the jam was last found in and size being the size of the jam.\")\n",
    "jam_sizes = [jam[1] for jam in jams]\n",
    "print(f\"Jam sizes: {jam_sizes}\")"
   ]
  },
  {
   "cell_type": "code",
   "execution_count": null,
   "metadata": {},
   "outputs": [],
   "source": [
    "importlib.reload(modules)\n",
    "from modules import triangulize_evolution\n",
    "from modules import initial_to_random_walk\n",
    "\n",
    "# Plot the random walk that is the initial state, go up for 1, down for 0\n",
    "random_walk = initial_to_random_walk(initial_state)\n",
    "\n",
    "plt.figure(figsize=(12,6))\n",
    "plt.title(f'Initial State')\n",
    "plt.plot(random_walk)\n",
    "\n",
    "cellular_automaton = triangulize_evolution(cellular_automaton)\n",
    "\n",
    "fig, ax = plt.subplots(figsize=(12, 6))  # Adjust the size as needed\n",
    "cpl.plot(cellular_automaton, colormap='Blues')\n",
    "\n",
    "\n",
    "\n"
   ]
  },
  {
   "cell_type": "code",
   "execution_count": null,
   "metadata": {},
   "outputs": [],
   "source": [
    "from collections import Counter\n",
    "importlib.reload(modules)\n",
    "from modules import jam_lifespans\n",
    "\n",
    "lifespans = jam_lifespans(random_walk)\n",
    "\n",
    "# Count the number of jams of each duration\n",
    "jam_lifespans = Counter(lifespans)\n",
    "\n",
    "# Plot the distribution of jam lifespans on log log scale\n",
    "plt.figure(figsize=(12,6))\n",
    "plt.title(f'Jam Lifespans')\n",
    "plt.loglog(jam_lifespans.keys(), jam_lifespans.values(), 'o')\n",
    "plt.xlabel('Jam lifespan')\n",
    "plt.ylabel('Number of jams')\n",
    "\n",
    "# Add a vertical line at T\n",
    "plt.axvline(x=T, color='red', linestyle='--')\n",
    "plt.show()\n",
    "\n",
    "# Count and plot the jam sizes:\n",
    "jam_sizes = Counter(jam_sizes)\n",
    "\n",
    "plt.figure(figsize=(12,6))\n",
    "plt.title(f'Jam Sizes')\n",
    "plt.loglog(jam_sizes.keys(), jam_sizes.values(), 'o')\n",
    "plt.xlabel('Jam size')\n",
    "plt.ylabel('Number of jams')\n",
    "plt.show()\n",
    "\n",
    "print(f\"Number of jam lifespan values: {len(jam_lifespans.keys())}\")\n",
    "print(f\"Number of elementary jam size values: {len(jam_sizes.keys())}\")\n",
    "\n"
   ]
  },
  {
   "cell_type": "code",
   "execution_count": null,
   "metadata": {},
   "outputs": [],
   "source": []
  }
 ],
 "metadata": {
  "kernelspec": {
   "display_name": "base",
   "language": "python",
   "name": "python3"
  },
  "language_info": {
   "codemirror_mode": {
    "name": "ipython",
    "version": 3
   },
   "file_extension": ".py",
   "mimetype": "text/x-python",
   "name": "python",
   "nbconvert_exporter": "python",
   "pygments_lexer": "ipython3",
   "version": "3.10.11"
  }
 },
 "nbformat": 4,
 "nbformat_minor": 2
}
