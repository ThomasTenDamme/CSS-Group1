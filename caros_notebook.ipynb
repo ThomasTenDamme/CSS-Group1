{
 "cells": [
  {
   "cell_type": "code",
   "execution_count": 60,
   "metadata": {},
   "outputs": [
    {
     "data": {
      "text/plain": [
       "<module 'modules' from '/Users/carokluin/Documents/CSM/ComplexSystems/Project_complexsystems/CSS-Group1/modules.py'>"
      ]
     },
     "execution_count": 60,
     "metadata": {},
     "output_type": "execute_result"
    }
   ],
   "source": [
    "\n",
    "import importlib\n",
    "import modules\n",
    "from collections import Counter\n",
    "import numpy as np\n",
    "import powerlaw\n",
    "importlib.reload(modules)\n",
    "\n",
    "from modules import CA\n",
    "from modules import triangulize_evolution\n",
    "from modules import find_jams\n",
    "import matplotlib.pyplot as plt\n",
    "\n",
    "from modules import run_model_stochastic\n",
    "import random\n",
    "\n",
    "\n",
    "importlib.reload(modules)\n"
   ]
  },
  {
   "cell_type": "markdown",
   "metadata": {},
   "source": [
    "# Traffic density heatmap\n",
    "## We could plot the traffic density over time, see if it approaches the critical density like we would expect for Self-Organized Criticality"
   ]
  },
  {
   "cell_type": "code",
   "execution_count": 45,
   "metadata": {},
   "outputs": [],
   "source": [
    "def plot_traffic_density(evolution):\n",
    "    \"\"\"\n",
    "    Plot the traffic density heatmap for a given density evolution.\n",
    "\n",
    "    Parameters:\n",
    "    - evolution (numpy.ndarray): Traffic density evolution over time and space.\n",
    "    \"\"\"\n",
    "    plt.figure(figsize=(10, 6))\n",
    "    plt.imshow(evolution, cmap='YlOrRd', aspect='auto', origin='lower')\n",
    "    plt.colorbar(label='Traffic Density')\n",
    "    plt.xlabel('Position')\n",
    "    plt.ylabel('Time Step')\n",
    "    plt.title('Traffic Density Evolution')\n",
    "\n",
    "    plt.show()\n"
   ]
  },
  {
   "cell_type": "markdown",
   "metadata": {},
   "source": [
    "# Density as function of critical exponent "
   ]
  },
  {
   "cell_type": "code",
   "execution_count": 46,
   "metadata": {},
   "outputs": [
    {
     "ename": "NameError",
     "evalue": "name 'all_critical_exponents' is not defined",
     "output_type": "error",
     "traceback": [
      "\u001b[0;31m---------------------------------------------------------------------------\u001b[0m",
      "\u001b[0;31mNameError\u001b[0m                                 Traceback (most recent call last)",
      "Cell \u001b[0;32mIn[46], line 3\u001b[0m\n\u001b[1;32m      1\u001b[0m \u001b[38;5;66;03m#Fit power law curve: density as a function of the critical exponents\u001b[39;00m\n\u001b[1;32m      2\u001b[0m \u001b[38;5;66;03m# Calculate mean and standard deviation of critical exponents\u001b[39;00m\n\u001b[0;32m----> 3\u001b[0m mean_critical_exponents \u001b[38;5;241m=\u001b[39m np\u001b[38;5;241m.\u001b[39mmean(all_critical_exponents, axis\u001b[38;5;241m=\u001b[39m\u001b[38;5;241m0\u001b[39m)\n\u001b[1;32m      4\u001b[0m std_critical_exponents \u001b[38;5;241m=\u001b[39m np\u001b[38;5;241m.\u001b[39mstd(all_critical_exponents, axis\u001b[38;5;241m=\u001b[39m\u001b[38;5;241m0\u001b[39m)\n\u001b[1;32m      6\u001b[0m \u001b[38;5;66;03m# Fit a curve to the mean critical exponents\u001b[39;00m\n",
      "\u001b[0;31mNameError\u001b[0m: name 'all_critical_exponents' is not defined"
     ]
    }
   ],
   "source": [
    "#Fit power law curve: density as a function of the critical exponents\n",
    "# Calculate mean and standard deviation of critical exponents\n",
    "mean_critical_exponents = np.mean(all_critical_exponents, axis=0)\n",
    "std_critical_exponents = np.std(all_critical_exponents, axis=0)\n",
    "\n",
    "# Fit a curve to the mean critical exponents\n",
    "def func(x, a, b):\n",
    "    return a * x ** -b \n",
    "\n",
    "popt, pcov = curve_fit(func, all_densities[0], mean_critical_exponents, p0=[1, 0.5])\n",
    "\n",
    "# Plot the results\n",
    "plt.figure(figsize=(8, 6))\n",
    "\n",
    "#Plot individual datapoints from iterations\n",
    "for i in range(n_alpha):\n",
    "    plt.plot(all_densities[i], all_critical_exponents[i], 'o', color=\"blue\")\n",
    "\n",
    "#Plot the mean values with std dev\n",
    "plt.errorbar(all_densities[0], mean_critical_exponents, yerr=std_critical_exponents, fmt='o-', color='black', label='Mean ± StdDev')\n",
    "\n",
    "#plot the fitted curve\n",
    "x_fit = np.linspace(min(all_densities[0]), max(all_densities[0]), 100)\n",
    "y_fit = func(x_fit, *popt)\n",
    "plt.plot(x_fit, y_fit, '--', color='red', label=f'Fitted Curve: a={popt[0]:.2f}, b={popt[1]:.2f}')\n",
    "\n",
    "plt.xlabel('Density (p)')\n",
    "plt.ylabel('Fitted Critical Exponent')\n",
    "plt.title('Critical Exponent vs. Density for L=500')\n",
    "plt.legend()\n",
    "plt.show()"
   ]
  },
  {
   "cell_type": "markdown",
   "metadata": {},
   "source": [
    "# Functions that checks if powerlaw distribution can be fitted"
   ]
  },
  {
   "cell_type": "code",
   "execution_count": null,
   "metadata": {},
   "outputs": [],
   "source": [
    "#set up function to fit power law distribution\n",
    "def analyze_powerlaw_distribution(data):\n",
    "    \"\"\"\n",
    "    Function that analysis the distribution of given data with the powerlaw package\n",
    "    (Only designed for heavy tailed distributions!)\n",
    "    Makes use of the Kolmogorov-Smirnov test for which H0: data is power-law distributed, HA: data is not power-law distributed\n",
    "    If H0 is rejected, the function will check if the data is exponentially distributed \n",
    "    If the function is not exponentially distributed, the function will return:\n",
    "      \"Not a power-law distribution (No alternative distribution fit available\"\n",
    "\n",
    "\n",
    "    Input: data (array-like)\n",
    "    Output: string with distribution type\n",
    "\n",
    "    \"\"\"\n",
    "    #Make data in array format\n",
    "    data = np.asarray(data)\n",
    "\n",
    "    #Fit to a power-law distribution\n",
    "    fit = powerlaw.Fit(data, discrete=True)\n",
    "\n",
    "    #Goodness of fit using the Kolmogorov-Smirnov test for power-law vs. exponential\n",
    "    ks_stat, ks_p_value = fit.distribution_compare('power_law', 'exponential', normalized_ratio=True)\n",
    "\n",
    "    # Analyze the fit and return the result\n",
    "    if ks_p_value < 0.05:\n",
    "        # Reject the null hypothesis (data is unlikely to be power-law distributed)\n",
    "        result = \"Not a power-law distribution\"\n",
    "\n",
    "        # Check for alternative distribution (exponential)\n",
    "        if fit.power_law.alpha is not None:\n",
    "            result += f\" (Exponential fit p-value: {ks_p_value:.4f})\"\n",
    "        else:\n",
    "            result += \" (No alternative distribution fit available)\"\n",
    "    else:\n",
    "        # Accept the null hypothesis (data is likely to be power-law distributed)\n",
    "        result = \"Power-law distribution\"\n",
    "\n",
    "    return result\n",
    "\n"
   ]
  },
  {
   "cell_type": "markdown",
   "metadata": {},
   "source": [
    "# Example of how to use the function analyze_powerlaw_distribution"
   ]
  },
  {
   "cell_type": "code",
   "execution_count": null,
   "metadata": {},
   "outputs": [
    {
     "name": "stdout",
     "output_type": "stream",
     "text": [
      "Calculating best minimal value for power law fit\n",
      "Power-law distribution\n"
     ]
    },
    {
     "data": {
      "text/plain": [
       "[<matplotlib.lines.Line2D at 0x16ba25ed0>]"
      ]
     },
     "execution_count": 66,
     "metadata": {},
     "output_type": "execute_result"
    },
    {
     "data": {
      "image/png": "[encoded data removed]",
      "text/plain": [
       "<Figure size 640x480 with 1 Axes>"
      ]
     },
     "metadata": {},
     "output_type": "display_data"
    }
   ],
   "source": [
    "\n",
    "lifespan_count, jam_count = run_model_stochastic(p, L, T, n_repetitions, v_max, p_slowdown)\n",
    "\n",
    "result_jam_test = analyze_powerlaw_distribution(list(jam_count.elements()))\n",
    "print(result_jam_test)\n",
    "\n",
    "#plt.hist(list(jam_size_counter.elements()), bins=100, density=True, label=\"Jam size distribution\")\n",
    "plt.loglog(range(1, int(max(jam_count.keys()))), [jam_count[i] for i in range(1, int(max(jam_count.keys())))], 'o')"
   ]
  },
  {
   "cell_type": "markdown",
   "metadata": {},
   "source": [
    "# Function that not only checks powerlaw 2.0 \n",
    "## Function that checks powerlaw versus exponential AND checks for bionomial, poisson and gamma "
   ]
  },
  {
   "cell_type": "code",
   "execution_count": null,
   "metadata": {},
   "outputs": [],
   "source": [
    "#set up function to fit power law distribution and other distributions\n",
    "def analyze_powerlaw_distribution2(data):\n",
    "    \"\"\"\n",
    "    Function that analysis the distribution of given data with the powerlaw package\n",
    "    \n",
    "    Makes use of the Kolmogorov-Smirnov test for which H0: data is .. distributed, HA: data is not .. distributed\n",
    "    If H0 is rejected for the power law distribution, the function will check if the data is exponentially,bionomial,gamma or poisson distributed \n",
    "    If the function is not matched with any of these distributions, the function will return:\n",
    "      \"No alternative distribution fit available\"\n",
    "\n",
    "\n",
    "    Input: data (array-like)\n",
    "    Output: string with distribution type\n",
    "\n",
    "    \"\"\"\n",
    "    #Make data in array format\n",
    "    data = np.asarray(data)\n",
    "\n",
    "    #Fit to a power-law distribution\n",
    "    fit = powerlaw.Fit(data, discrete=True, verbose=True)\n",
    "\n",
    "    #Goodness of fit using the Kolmogorov-Smirnov test for power-law vs. exponential\n",
    "    ks_stat_powerlaw, ks_p_value_powerlaw = fit.distribution_compare('power_law', 'exponential', normalized_ratio=True)\n",
    "\n",
    "#Check for power law distribution\n",
    "    if ks_p_value_powerlaw < 0.05:\n",
    "        result = \"Not a power-law distribution\"\n",
    "\n",
    "        #Calculate p-values for alternative distributions\n",
    "        ks_p_value_exponential = ks_2samp(data, np.random.exponential(np.mean(data), len(data)))[1]\n",
    "        ks_p_value_poisson = ks_2samp(data, poisson.rvs(np.mean(data), size=len(data)))[1]\n",
    "        ks_p_value_binomial = ks_2samp(data, np.random.binomial(n=int(np.mean(data)), p=0.5, size=len(data)))[1]\n",
    "        ks_p_value_gamma = ks_2samp(data, gamma.rvs(np.mean(data)/2, scale=2, size=len(data)))[1]\n",
    "\n",
    "        #Check alternative distributions, because we did 4 tests, we need to correct for multiple testing with bonferroni (0.05/4)\n",
    "        if ks_p_value_exponential < 0.05/4:\n",
    "            result += f\" (Exponential fit p-value: {ks_p_value_exponential:.4f})\"\n",
    "        elif ks_p_value_poisson < 0.05/4:\n",
    "            result += \" (Poisson distribution)\"\n",
    "        elif ks_p_value_binomial < 0.05/4:\n",
    "            result += \" (Binomial distribution)\"\n",
    "        elif ks_p_value_gamma < 0.05/4:\n",
    "            result += \" (Gamma distribution)\"\n",
    "        else:\n",
    "            result += \" (No alternative distribution fit available)\"\n",
    "\n",
    "    else:\n",
    "        result = \"Power-law distribution\"\n"
   ]
  },
  {
   "cell_type": "markdown",
   "metadata": {},
   "source": [
    "# Include enter and exit in NaSch model \n",
    "## Simulating influx and outflux to see critical behavior\n",
    "\n"
   ]
  },
  {
   "cell_type": "code",
   "execution_count": null,
   "metadata": {},
   "outputs": [],
   "source": [
    "\n",
    "#initialize NaSch model with entry point\n",
    "def initial_state_nasch_with_entry(L, p, v_max):\n",
    "    \"\"\"\n",
    "    Function to generate an initial state for the NaSch model with entry point.\n",
    "    It returns the initial state of the CA.\n",
    "\n",
    "    Parameters:\n",
    "    - L (int): The length of the CA.\n",
    "    - p (float): The probability of a cell being 1 in the initial state.\n",
    "    - v_max (int): Maximum speed of vehicles.\n",
    "\n",
    "    Returns:\n",
    "    - initial_state (list): The initial state of the CA. It contains a tuple for every cell,\n",
    "                            with the first element indicating whether the cell is occupied\n",
    "                            and the second element indicating the speed of the vehicle.\n",
    "    \"\"\"\n",
    "    initial_state = [(False, 0) if random.random() > p else (True, random.randint(1, v_max)) for _ in range(L)]\n",
    "\n",
    "    return initial_state\n",
    "\n"
   ]
  },
  {
   "cell_type": "markdown",
   "metadata": {},
   "source": [
    "Modify Entry and Exit based on Density? Is that correct "
   ]
  },
  {
   "cell_type": "code",
   "execution_count": 67,
   "metadata": {},
   "outputs": [],
   "source": [
    "#nasch_step_with_entry_exit function, ONLY enter at begin and exit at end!!!\n",
    "def nasch_step_with_entry_exit(current_state, v_max, p_slowdown, p_entry, p_exit):\n",
    "    \"\"\"\n",
    "    Function to perform a single timestep of the NaSch model with entry and exit points.\n",
    "\n",
    "    Parameters:\n",
    "    - current_state (list): The current state of the CA. It contains a tuple for every cell,\n",
    "                            with the first element indicating whether the cell is occupied\n",
    "                            and the second element indicating the speed of the vehicle.\n",
    "    - v_max (int): Maximum speed of vehicles.\n",
    "    - p_slowdown (float): Probability of slowing down.\n",
    "    - p_entry (float): Probability of a car entering the system at the entry point.\n",
    "    - p_exit (float): Probability of a car leaving the system at the exit point.\n",
    "\n",
    "    Returns:\n",
    "    - next_state (list): The next state of the CA. Same format as current_state.\n",
    "    \"\"\"\n",
    "    # Initialize the next state with the current state\n",
    "    next_state = current_state.copy()\n",
    "\n",
    "    # Entry: Check if a new car should enter at the entry point (only if the first cell is empty)\n",
    "    if random.random() < p_entry:\n",
    "        next_state[0] = (True, random.randint(1, v_max))\n",
    "\n",
    "    # Acceleration: Increase the speed of each vehicle by 1, up to the maximum speed\n",
    "    next_state = [(x[0], min(x[1] + 1, v_max)) for x in next_state]\n",
    "\n",
    "    # Slowing down: Slow down with probability p_slowdown\n",
    "    next_state = [(x[0], max(x[1] - 1, 0) if random.random() < p_slowdown else x[1]) for x in next_state]\n",
    "\n",
    "    # Movement: Move each vehicle forward by its speed (only if the next cell is empty)\n",
    "    for i in range(len(next_state) - 1, 0, -1): #loop over lattice cells in reverse order\n",
    "        if next_state[i - 1][0] and not next_state[i][0] and random.random() < p_exit: # Check if the next cell is empty and previous cell occupied.\n",
    "            next_state[i] = (False, 0)  #If the conditions are met,  the current cell (i) is updated to be empty (False) with a speed of 0.\n",
    "\n",
    "    # Update the state after movement\n",
    "    for i in range(len(next_state) - 1, 0, -1):\n",
    "        next_state[i] = next_state[i - 1]\n",
    "\n",
    "    # Clear the first cell after moving others\n",
    "    next_state[0] = (False, 0)\n",
    "\n",
    "    return next_state"
   ]
  },
  {
   "cell_type": "code",
   "execution_count": null,
   "metadata": {},
   "outputs": [],
   "source": [
    "\n",
    "initial_state = initial_state_nasch_with_entry(L, initial_density, v_max)\n",
    "evolution = [initial_state]\n",
    "\n",
    "nasch_step_with_entry_exit(evolution[-1], v_max, p_slowdown, p_entry, p_exit)"
   ]
  },
  {
   "cell_type": "code",
   "execution_count": 62,
   "metadata": {},
   "outputs": [],
   "source": [
    "def run_model_stochastic_with_entry_exit(p, L, T, n_repetitions=100, v_max=5, p_slowdown=0.1, p_entry=0.1, p_exit=0.05,\n",
    "                                         triangular=False, visualize=False, return_evolutions=True):\n",
    "    \"\"\"\n",
    "    Function to run the NaSch model for a given p, L, T with entry and exit points.\n",
    "\n",
    "    Parameters:\n",
    "    - p (float): The probability of a cell being 1 in the initial state.\n",
    "    - L (int): The length of the simulation.\n",
    "    - T (int): The number of timesteps.\n",
    "    - n_repetitions (int): The number of times the model should be run.\n",
    "    - v_max (int): Maximum speed of vehicles.\n",
    "    - p_slowdown (float): Probability of slowing down.\n",
    "    - p_entry (float): Probability of a car entering the system at the entry point.\n",
    "    - p_exit (float): Probability of a car leaving the system at the exit point.\n",
    "\n",
    "    Returns:\n",
    "    - lifespan_counter (Counter): A counter with the lifespans of all the jams found in the evolutions of the model.\n",
    "    - jam_counter (Counter): A counter with the sizes of all the jams found in the evolutions of the model.\n",
    "    - all_evolutions (list): A list containing the evolution of the model for every repetition.\n",
    "                             Only returned if return_evolutions is True.\n",
    "    \"\"\"\n",
    "    total_lifespans = []\n",
    "    total_jam_sizes = []\n",
    "\n",
    "    all_evolutions = []\n",
    "\n",
    "    for i in range(n_repetitions):\n",
    "        # Create initial state\n",
    "        initial_state = initial_state_nasch_with_entry(L, p, v_max)\n",
    "\n",
    "        # Run the model\n",
    "        evolution = [initial_state]\n",
    "        for t in range(T):\n",
    "            current, next = nasch_step_with_entry_exit(evolution[-1], v_max, p_slowdown, p_entry, p_exit)\n",
    "            evolution[-1] = current\n",
    "            evolution.append(next)\n",
    "        \n",
    "        all_evolutions.append(evolution)\n",
    "\n",
    "        location_states = np.array([[cell[0] for cell in state] for state in evolution])\n",
    "\n",
    "        if triangular:\n",
    "            location_states = triangulize_evolution(location_states)\n",
    "\n",
    "        jams, lifespans = find_jams(location_states, add_lifespans=True)\n",
    "        \n",
    "        jam_sizes = [jam[1] for jam in jams]\n",
    "        total_jam_sizes += jam_sizes\n",
    "        total_lifespans += lifespans\n",
    "\n",
    "    lifespan_counter = Counter(total_lifespans)\n",
    "    jam_counter = Counter(total_jam_sizes)\n",
    "\n",
    "    if return_evolutions:\n",
    "        return lifespan_counter, jam_counter, all_evolutions\n",
    "\n",
    "    return lifespan_counter, jam_counter"
   ]
  },
  {
   "cell_type": "code",
   "execution_count": 63,
   "metadata": {},
   "outputs": [],
   "source": [
    "def calculate_flow_nasch(evolution):\n",
    "    \"\"\"\n",
    "    Function to calculate the total flow of the NaSch model. The flow is defined as the \n",
    "    amount of car movement in total. This is calculated by summing the total movement of cars.\n",
    "    \"\"\"\n",
    "    total_flow = 0\n",
    "    \n",
    "    # Check all timesteps but the last one, because we assume that no movement happens in the last timestep\n",
    "    for t in range(len(evolution[:-1])):\n",
    "        for i in range(len(evolution[t])):\n",
    "            speed = evolution[t][i][1]\n",
    "            car_present = evolution[t][i][0]\n",
    "            if car_present:\n",
    "                # assert that there's a car in the cell i + speed in the next timestep\n",
    "                # Check if i + speed is within the bounds of the road length\n",
    "                if i + speed < len(evolution[t]) and i + speed >= 0:\n",
    "                    assert evolution[t + 1][i + speed][0], f\"There should be a car in the next timestep (error at t = {t}, i = {i}, speed = {speed}). Evolution at t={t}: {evolution[t]}, Evolution at t+1={t+1}: {evolution[t+1]}\"\n",
    "\n",
    "                \n",
    "                total_flow += speed\n",
    "    \n",
    "    return total_flow"
   ]
  },
  {
   "cell_type": "code",
   "execution_count": null,
   "metadata": {},
   "outputs": [],
   "source": [
    "\n",
    "def plot_model_evolution(evolution, v_max, title=\"NaSch Model Evolution\", cmap=\"Greys\"):\n",
    "    \"\"\"\n",
    "    Function to plot the evolution of the NaSch model.\n",
    "\n",
    "    Parameters:\n",
    "    - evolution (list): List containing the evolution of the model for each timestep.\n",
    "    - v_max (int): Maximum speed of vehicles.\n",
    "    - title (str): Title of the plot.\n",
    "    - cmap (str): Colormap for the heatmap.\n",
    "\n",
    "    Returns:\n",
    "    - None (displays the plot).\n",
    "    \"\"\"\n",
    "    density_evolution = np.array([[np.sum([cell[0] for cell in state]) / len(state) for state in evolution]])\n",
    "\n",
    "    plt.figure(figsize=(10, 6))\n",
    "    plt.imshow(density_evolution, cmap=cmap, origin=\"lower\", aspect=\"auto\", extent=[0, len(evolution[0]), 0, len(evolution)])\n",
    "    plt.title(title)\n",
    "    plt.xlabel(\"Time Step\")\n",
    "    plt.ylabel(\"Cell Index\")\n",
    "    plt.colorbar(label=\"Density\")\n",
    "    plt.yticks(np.arange(0, len(evolution) + 1, 5))\n",
    "    plt.xticks(np.arange(0, len(evolution[0]) + 1, 5))\n",
    "    plt.show()\n",
    "\n"
   ]
  },
  {
   "cell_type": "code",
   "execution_count": 66,
   "metadata": {},
   "outputs": [
    {
     "ename": "SyntaxError",
     "evalue": "positional argument follows keyword argument (480927599.py, line 18)",
     "output_type": "error",
     "traceback": [
      "\u001b[0;36m  Cell \u001b[0;32mIn[66], line 18\u001b[0;36m\u001b[0m\n\u001b[0;31m    evolution.append(nasch_step_with_entry_exit(evolution[-1], v_max=3, p_slowdown=0.8, p_entry, p_exit))\u001b[0m\n\u001b[0m                                                                                                       ^\u001b[0m\n\u001b[0;31mSyntaxError\u001b[0m\u001b[0;31m:\u001b[0m positional argument follows keyword argument\n"
     ]
    }
   ],
   "source": [
    "# Vary initial density from 0.1 to 0.9\n",
    "density_values = [0.1, 0.3, 0.5, 0.7, 0.9]\n",
    "flow_values = []\n",
    "L=300\n",
    "T=int(L / 2)\n",
    "v_max=5\n",
    "p_entry=0.1\n",
    "p_exit=0.05\n",
    "\n",
    "for initial_density in density_values:\n",
    "    total_flow = 0\n",
    "\n",
    "    # Run the model for each initial density\n",
    "    for _ in range(100):  # Run the model multiple times for each density\n",
    "        initial_state = initial_state_nasch_with_entry(L, initial_density, v_max)\n",
    "        evolution = [initial_state]\n",
    "\n",
    "        for _ in range(T):\n",
    "            evolution.append(nasch_step_with_entry_exit(evolution[-1], v_max=3, p_slowdown=0.8, p_entry, p_exit))\n",
    "\n",
    "        total_flow += calculate_flow_nasch(evolution)\n",
    "\n",
    "    # Average the flow over multiple runs\n",
    "    average_flow = total_flow / 100\n",
    "    flow_values.append(average_flow)\n",
    "\n",
    "# Plot the results\n",
    "plt.plot(density_values, flow_values, marker='o', linestyle='-')\n",
    "plt.title('Flow vs Initial Density')\n",
    "plt.xlabel('Initial Density')\n",
    "plt.ylabel('Flow')\n",
    "plt.show()"
   ]
  },
  {
   "cell_type": "code",
   "execution_count": null,
   "metadata": {},
   "outputs": [
    {
     "data": {
      "image/png": "[encoded data removed]",
      "text/plain": [
       "<Figure size 1000x600 with 2 Axes>"
      ]
     },
     "metadata": {},
     "output_type": "display_data"
    }
   ],
   "source": [
    "#try out function with entry and exit\n",
    "initial_state = initial_state_nasch_with_entry(L=300, p=0.5, v_max=3)\n",
    "evolution = [initial_state]\n",
    "\n",
    "for t in range(50):\n",
    "    next_state = nasch_step_with_entry_exit(evolution[-1], v_max=3, p_slowdown=0.8, p_entry=0.2, p_exit=0.1)\n",
    "    evolution.append(next_state)\n",
    "\n",
    "plot_model_evolution(evolution, v_max=5)"
   ]
  },
  {
   "cell_type": "code",
   "execution_count": 68,
   "metadata": {},
   "outputs": [],
   "source": [
    "\n",
    "#nasch_step_with_entry_exit function, random entry and exit!!!\n",
    "def nasch_step_with_entry_exit_rand(current_state, v_max, p_slowdown, p_entry, p_exit, p_late_entry, p_early_exit):\n",
    "    \"\"\"\n",
    "    Function to perform a single timestep of the NaSch model with entry and exit points.\n",
    "\n",
    "    Parameters:\n",
    "    - current_state (list): The current state of the CA. It contains a tuple for every cell,\n",
    "                            with the first element indicating whether the cell is occupied\n",
    "                            and the second element indicating the speed of the vehicle.\n",
    "    - v_max (int): Maximum speed of vehicles.\n",
    "    - p_slowdown (float): Probability of slowing down.\n",
    "    - p_entry (float): Probability of a car entering the system at the entry point.\n",
    "    - p_exit (float): Probability of a car leaving the system at the exit point.\n",
    "\n",
    "    Returns:\n",
    "    - next_state (list): The next state of the CA. Same format as current_state.\n",
    "    \"\"\"\n",
    "    # Initialize the next state with the current state\n",
    "    next_state = current_state.copy()\n",
    "\n",
    "    # Entry: Check if a new car should enter (either at the entry point or later)\n",
    "    for i in range(len(next_state)):\n",
    "        #Check if current cell is empty\n",
    "        entry_probability = p_entry if not next_state[i][0] else p_late_entry\n",
    "    \n",
    "        # Check if a new car should enter the current cell based on the entry probability\n",
    "        if random.random() < entry_probability:\n",
    "                    # If the random number is less than the entry probability, a new car enters\n",
    "                    # Set the current cell to indicate the presence of a car with a random speed\n",
    "            next_state[i] = (True, random.randint(1, v_max))\n",
    "\n",
    "    # Acceleration: Increase the speed of each vehicle by 1, up to the maximum speed\n",
    "    next_state = [(x[0], min(x[1] + 1, v_max)) for x in next_state]\n",
    "\n",
    "    # Slowing down: Slow down with probability p_slowdown\n",
    "    next_state = [(x[0], max(x[1] - 1, 0) if random.random() < p_slowdown else x[1]) for x in next_state]    \n",
    "\n",
    "    # Movement: Move each vehicle forward by its speed\n",
    "    for i in range(len(next_state) - 1, 0, -1):\n",
    "        exit_probability = p_exit if not next_state[i][0] and next_state[i - 1][0] else p_early_exit\n",
    "        if random.random() < exit_probability:\n",
    "            next_state[i] = (False, 0)\n",
    "\n",
    "    # Update the state after movement\n",
    "    for i in range(len(next_state) - 1, 0, -1):\n",
    "        next_state[i] = next_state[i - 1]\n",
    "\n",
    "    # Clear the first cell after moving others\n",
    "    next_state[0] = (False, 0)\n",
    "\n",
    "    return next_state"
   ]
  },
  {
   "cell_type": "code",
   "execution_count": 70,
   "metadata": {},
   "outputs": [
    {
     "data": {
      "image/png": "[encoded data removed]",
      "text/plain": [
       "<Figure size 1000x600 with 2 Axes>"
      ]
     },
     "metadata": {},
     "output_type": "display_data"
    }
   ],
   "source": [
    "#try out function with entry and exit\n",
    "initial_state = initial_state_nasch_with_entry(L=300, p=0.5, v_max=3)\n",
    "evolution = [initial_state]\n",
    "\n",
    "for t in range(50):\n",
    "    next_state = nasch_step_with_entry_exit_rand(evolution[-1], v_max=3, p_slowdown=0.8, p_entry=0.1, p_exit=0.1, p_late_entry=0.1, p_early_exit=0.1)\n",
    "    evolution.append(next_state)\n",
    "\n",
    "plot_model_evolution(evolution, v_max=5)"
   ]
  },
  {
   "cell_type": "code",
   "execution_count": 58,
   "metadata": {},
   "outputs": [],
   "source": [
    "def calculate_flow_nasch(evolution):\n",
    "    \"\"\"\n",
    "    Function to calculate the total flow of the NaSch model. The flow is defined as the \n",
    "    amount of car movement in total. This is calculated by summing the total movement of cars.\n",
    "    \"\"\"\n",
    "    total_flow = 0\n",
    "    \n",
    "    # Check all timesteps but the last one, because we assume that no movement happens in the last timestep\n",
    "    for t in range(len(evolution[:-1])):\n",
    "        for i in range(len(evolution[t])):\n",
    "            speed = evolution[t][i][1]\n",
    "            car_present = evolution[t][i][0]\n",
    "            if car_present:\n",
    "                # assert that there's a car in the cell i + speed in the next timestep\n",
    "                # Check if i + speed is within the bounds of the road length\n",
    "                if i + speed < len(evolution[t]) and i + speed >= 0:\n",
    "                    assert evolution[t + 1][i + speed][0], f\"There should be a car in the next timestep (error at t = {t}, i = {i}, speed = {speed}). Evolution at t={t}: {evolution[t]}, Evolution at t+1={t+1}: {evolution[t+1]}\"\n",
    "\n",
    "                \n",
    "                total_flow += speed\n",
    "    \n",
    "    return total_flow"
   ]
  },
  {
   "cell_type": "code",
   "execution_count": 71,
   "metadata": {},
   "outputs": [
    {
     "name": "stdout",
     "output_type": "stream",
     "text": [
      "Evolution at t=0: [[(False, 0), (False, 0), (False, 0), (False, 0), (False, 0), (False, 0), (True, 1), (False, 0), (False, 0), (False, 0)], [(False, 0), (True, 2), (False, 1), (False, 1), (False, 0), (False, 0), (False, 0), (True, 1), (False, 0), (False, 0)]]\n",
      "Evolution at t=1: [[(False, 0), (False, 0), (False, 0), (False, 0), (False, 0), (False, 0), (True, 1), (False, 0), (False, 0), (False, 0)], [(False, 0), (True, 2), (False, 1), (False, 1), (False, 0), (False, 0), (False, 0), (True, 1), (False, 0), (False, 0)], [(False, 0), (False, 1), (True, 2), (False, 0), (False, 1), (False, 0), (True, 1), (True, 1), (False, 0), (False, 0)]]\n",
      "Evolution at t=2: [[(False, 0), (False, 0), (False, 0), (False, 0), (False, 0), (False, 0), (True, 1), (False, 0), (False, 0), (False, 0)], [(False, 0), (True, 2), (False, 1), (False, 1), (False, 0), (False, 0), (False, 0), (True, 1), (False, 0), (False, 0)], [(False, 0), (False, 1), (True, 2), (False, 0), (False, 1), (False, 0), (True, 1), (True, 1), (False, 0), (False, 0)], [(False, 0), (False, 1), (False, 1), (True, 2), (False, 0), (False, 1), (False, 1), (True, 1), (True, 1), (False, 0)]]\n",
      "Evolution at t=3: [[(False, 0), (False, 0), (False, 0), (False, 0), (False, 0), (False, 0), (True, 1), (False, 0), (False, 0), (False, 0)], [(False, 0), (True, 2), (False, 1), (False, 1), (False, 0), (False, 0), (False, 0), (True, 1), (False, 0), (False, 0)], [(False, 0), (False, 1), (True, 2), (False, 0), (False, 1), (False, 0), (True, 1), (True, 1), (False, 0), (False, 0)], [(False, 0), (False, 1), (False, 1), (True, 2), (False, 0), (False, 1), (False, 1), (True, 1), (True, 1), (False, 0)], [(False, 0), (False, 0), (False, 2), (False, 1), (True, 3), (False, 0), (False, 0), (False, 1), (False, 0), (True, 1)]]\n",
      "Evolution at t=4: [[(False, 0), (False, 0), (False, 0), (False, 0), (False, 0), (False, 0), (True, 1), (False, 0), (False, 0), (False, 0)], [(False, 0), (True, 2), (False, 1), (False, 1), (False, 0), (False, 0), (False, 0), (True, 1), (False, 0), (False, 0)], [(False, 0), (False, 1), (True, 2), (False, 0), (False, 1), (False, 0), (True, 1), (True, 1), (False, 0), (False, 0)], [(False, 0), (False, 1), (False, 1), (True, 2), (False, 0), (False, 1), (False, 1), (True, 1), (True, 1), (False, 0)], [(False, 0), (False, 0), (False, 2), (False, 1), (True, 3), (False, 0), (False, 0), (False, 1), (False, 0), (True, 1)], [(False, 0), (False, 0), (False, 0), (False, 2), (False, 1), (True, 2), (False, 0), (False, 0), (False, 1), (False, 0)]]\n"
     ]
    },
    {
     "ename": "AssertionError",
     "evalue": "There should be a car in the next timestep (error at t = 1, i = 1, speed = 2). Evolution at t=1: [(False, 0), (True, 2), (False, 1), (False, 1), (False, 0), (False, 0), (False, 0), (True, 1), (False, 0), (False, 0)], Evolution at t+1=2: [(False, 0), (False, 1), (True, 2), (False, 0), (False, 1), (False, 0), (True, 1), (True, 1), (False, 0), (False, 0)]",
     "output_type": "error",
     "traceback": [
      "\u001b[0;31m---------------------------------------------------------------------------\u001b[0m",
      "\u001b[0;31mAssertionError\u001b[0m                            Traceback (most recent call last)",
      "Cell \u001b[0;32mIn[71], line 23\u001b[0m\n\u001b[1;32m     20\u001b[0m     \u001b[38;5;28mprint\u001b[39m(\u001b[38;5;124mf\u001b[39m\u001b[38;5;124m\"\u001b[39m\u001b[38;5;124mEvolution at t=\u001b[39m\u001b[38;5;132;01m{\u001b[39;00mt\u001b[38;5;132;01m}\u001b[39;00m\u001b[38;5;124m: \u001b[39m\u001b[38;5;132;01m{\u001b[39;00mevolution\u001b[38;5;132;01m}\u001b[39;00m\u001b[38;5;124m\"\u001b[39m)\n\u001b[1;32m     22\u001b[0m \u001b[38;5;66;03m# Calculate and print the flow\u001b[39;00m\n\u001b[0;32m---> 23\u001b[0m total_flow \u001b[38;5;241m=\u001b[39m calculate_flow_nasch(evolution)\n\u001b[1;32m     24\u001b[0m \u001b[38;5;28mprint\u001b[39m(\u001b[38;5;124mf\u001b[39m\u001b[38;5;124m\"\u001b[39m\u001b[38;5;124mTotal Flow: \u001b[39m\u001b[38;5;132;01m{\u001b[39;00mtotal_flow\u001b[38;5;132;01m}\u001b[39;00m\u001b[38;5;124m\"\u001b[39m)\n",
      "Cell \u001b[0;32mIn[63], line 17\u001b[0m, in \u001b[0;36mcalculate_flow_nasch\u001b[0;34m(evolution)\u001b[0m\n\u001b[1;32m     13\u001b[0m         \u001b[38;5;28;01mif\u001b[39;00m car_present:\n\u001b[1;32m     14\u001b[0m             \u001b[38;5;66;03m# assert that there's a car in the cell i + speed in the next timestep\u001b[39;00m\n\u001b[1;32m     15\u001b[0m             \u001b[38;5;66;03m# Check if i + speed is within the bounds of the road length\u001b[39;00m\n\u001b[1;32m     16\u001b[0m             \u001b[38;5;28;01mif\u001b[39;00m i \u001b[38;5;241m+\u001b[39m speed \u001b[38;5;241m<\u001b[39m \u001b[38;5;28mlen\u001b[39m(evolution[t]) \u001b[38;5;129;01mand\u001b[39;00m i \u001b[38;5;241m+\u001b[39m speed \u001b[38;5;241m>\u001b[39m\u001b[38;5;241m=\u001b[39m \u001b[38;5;241m0\u001b[39m:\n\u001b[0;32m---> 17\u001b[0m                 \u001b[38;5;28;01massert\u001b[39;00m evolution[t \u001b[38;5;241m+\u001b[39m \u001b[38;5;241m1\u001b[39m][i \u001b[38;5;241m+\u001b[39m speed][\u001b[38;5;241m0\u001b[39m], \u001b[38;5;124mf\u001b[39m\u001b[38;5;124m\"\u001b[39m\u001b[38;5;124mThere should be a car in the next timestep (error at t = \u001b[39m\u001b[38;5;132;01m{\u001b[39;00mt\u001b[38;5;132;01m}\u001b[39;00m\u001b[38;5;124m, i = \u001b[39m\u001b[38;5;132;01m{\u001b[39;00mi\u001b[38;5;132;01m}\u001b[39;00m\u001b[38;5;124m, speed = \u001b[39m\u001b[38;5;132;01m{\u001b[39;00mspeed\u001b[38;5;132;01m}\u001b[39;00m\u001b[38;5;124m). Evolution at t=\u001b[39m\u001b[38;5;132;01m{\u001b[39;00mt\u001b[38;5;132;01m}\u001b[39;00m\u001b[38;5;124m: \u001b[39m\u001b[38;5;132;01m{\u001b[39;00mevolution[t]\u001b[38;5;132;01m}\u001b[39;00m\u001b[38;5;124m, Evolution at t+1=\u001b[39m\u001b[38;5;132;01m{\u001b[39;00mt\u001b[38;5;241m+\u001b[39m\u001b[38;5;241m1\u001b[39m\u001b[38;5;132;01m}\u001b[39;00m\u001b[38;5;124m: \u001b[39m\u001b[38;5;132;01m{\u001b[39;00mevolution[t\u001b[38;5;241m+\u001b[39m\u001b[38;5;241m1\u001b[39m]\u001b[38;5;132;01m}\u001b[39;00m\u001b[38;5;124m\"\u001b[39m\n\u001b[1;32m     20\u001b[0m             total_flow \u001b[38;5;241m+\u001b[39m\u001b[38;5;241m=\u001b[39m speed\n\u001b[1;32m     22\u001b[0m \u001b[38;5;28;01mreturn\u001b[39;00m total_flow\n",
      "\u001b[0;31mAssertionError\u001b[0m: There should be a car in the next timestep (error at t = 1, i = 1, speed = 2). Evolution at t=1: [(False, 0), (True, 2), (False, 1), (False, 1), (False, 0), (False, 0), (False, 0), (True, 1), (False, 0), (False, 0)], Evolution at t+1=2: [(False, 0), (False, 1), (True, 2), (False, 0), (False, 1), (False, 0), (True, 1), (True, 1), (False, 0), (False, 0)]"
     ]
    }
   ],
   "source": [
    "# Parameters\n",
    "L = 10  # Shorter road length for testing\n",
    "T = 5   # Fewer time steps for testing\n",
    "v_max = 3  # Maximum speed of vehicles\n",
    "p_slowdown = 0.8  # Probability of slowing down\n",
    "p_entry = 0.1  # Probability of a car entering at the entry point\n",
    "p_exit = 0.1  # Probability of a car leaving at the exit point\n",
    "p_late_entry = 0.1  # Probability of a car entering later in the lattice\n",
    "p_early_exit = 0.1  # Probability of a car leaving earlier in the lattice\n",
    "\n",
    "# Initial density for testing\n",
    "initial_density = 0.3\n",
    "\n",
    "# Run the model for testing\n",
    "initial_state = initial_state_nasch_with_entry(L, initial_density, v_max)\n",
    "evolution = [initial_state]\n",
    "\n",
    "for t in range(T):\n",
    "    evolution.append(nasch_step_with_entry_exit_rand(evolution[-1], v_max, p_slowdown, p_entry, p_exit, p_late_entry, p_early_exit))\n",
    "    print(f\"Evolution at t={t}: {evolution}\")\n",
    "\n",
    "# Calculate and print the flow\n",
    "total_flow = calculate_flow_nasch(evolution)\n",
    "print(f\"Total Flow: {total_flow}\")\n"
   ]
  },
  {
   "cell_type": "code",
   "execution_count": 77,
   "metadata": {},
   "outputs": [],
   "source": [
    "def density_evolution_nasch (evolution):\n",
    "    \"\"\"\n",
    "    Function to calculate the density evolution of the NaSch model. The density is defined as the\n",
    "    amount of cars in total. This is calculated by summing the total amount of cars.\n",
    "    Input: \n",
    "    - evolution (list): List containing the evolution of the model for each timestep.\n",
    "    Output:\n",
    "    - density_evolution (list): List containing the density evolution of the model for each timestep.\n",
    "    \"\"\"\n",
    "    location_evolution = [[x[0] for x in line] for line in evolution]\n",
    "    density_evolution = [np.sum(line) / len(line) for line in location_evolution]\n",
    "    return density_evolution\n",
    "\n"
   ]
  },
  {
   "cell_type": "code",
   "execution_count": 91,
   "metadata": {},
   "outputs": [],
   "source": [
    "import importlib\n",
    "from modules import nasch_step\n",
    "from modules import initial_state_nasch\n",
    "from modules import run_model_stochastic\n",
    "importlib.reload(modules)\n",
    "\n",
    "import cellpylib as cpl\n",
    "\n",
    "L=100\n",
    "T=int(L / 2)\n",
    "p=0.5\n",
    "\n",
    "current_state = initial_state_nasch(L=10, p=0.5, v_max=3)\n",
    "evolution = nasch_step(current_state, v_max=3, p_slowdown=0.8)\n",
    "lifespan_counter, jam_counter, all_evolutions = run_model_stochastic(p, L, T, n_repetitions=100, v_max=3, p_slowdown=0.8, triangular=False, visualize=False, return_evolutions=True)\n"
   ]
  },
  {
   "cell_type": "code",
   "execution_count": 92,
   "metadata": {},
   "outputs": [
    {
     "data": {
      "image/png": "[encoded data removed]",
      "text/plain": [
       "<Figure size 640x480 with 1 Axes>"
      ]
     },
     "metadata": {},
     "output_type": "display_data"
    },
    {
     "data": {
      "image/png": "[encoded data removed]",
      "text/plain": [
       "<Figure size 1200x600 with 1 Axes>"
      ]
     },
     "metadata": {},
     "output_type": "display_data"
    }
   ],
   "source": [
    "density_test = density_evolution_nasch(all_evolutions[0])\n",
    "plt.plot(density_test)\n",
    "\n",
    "location_evolution = [[x[0] for x in line] for line in all_evolutions[0]]\n",
    "\n",
    "# plot the car evolution\n",
    "fig, ax = plt.subplots(figsize=(12, 6))  # Adjust the size as needed\n",
    "cpl.plot(location_evolution, colormap='GnBu')\n"
   ]
  }
 ],
 "metadata": {
  "kernelspec": {
   "display_name": "Python 3",
   "language": "python",
   "name": "python3"
  },
  "language_info": {
   "codemirror_mode": {
    "name": "ipython",
    "version": 3
   },
   "file_extension": ".py",
   "mimetype": "text/x-python",
   "name": "python",
   "nbconvert_exporter": "python",
   "pygments_lexer": "ipython3",
   "version": "3.11.5"
  }
 },
 "nbformat": 4,
 "nbformat_minor": 2
}
