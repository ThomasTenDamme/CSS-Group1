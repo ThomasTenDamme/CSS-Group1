{
 "cells": [
  {
   "cell_type": "code",
   "execution_count": 174,
   "id": "ce1bc2fd",
   "metadata": {},
   "outputs": [],
   "source": [
    "from IPython.core.interactiveshell import InteractiveShell\n",
    "InteractiveShell.ast_node_interactivity = \"all\"   "
   ]
  },
  {
   "cell_type": "code",
   "execution_count": 33,
   "id": "60a7c153",
   "metadata": {},
   "outputs": [
    {
     "data": {
      "text/plain": [
       "<module 'modules' from 'C:\\\\Users\\\\李凌峰\\\\complex simulation system\\\\01.24 update version\\\\modules.py'>"
      ]
     },
     "execution_count": 33,
     "metadata": {},
     "output_type": "execute_result"
    }
   ],
   "source": [
    "import numpy as np\n",
    "import pandas as pd\n",
    "import importlib\n",
    "import modules\n",
    "import cellpylib as cpl \n",
    "importlib.reload(modules)\n",
    "\n",
    "from modules import CA\n",
    "import matplotlib.pyplot as plt\n",
    "\n",
    "from modules import initial_to_random_walk\n",
    "from modules import jam_lifespans\n",
    "from modules import run_model"
   ]
  },
  {
   "cell_type": "code",
   "execution_count": null,
   "id": "dd9869b3",
   "metadata": {},
   "outputs": [],
   "source": []
  },
  {
   "cell_type": "code",
   "execution_count": 16,
   "id": "1848ed58",
   "metadata": {},
   "outputs": [
    {
     "data": {
      "text/plain": [
       "[5.0, 4.0]"
      ]
     },
     "execution_count": 16,
     "metadata": {},
     "output_type": "execute_result"
    }
   ],
   "source": []
  },
  {
   "cell_type": "code",
   "execution_count": 36,
   "id": "2a2156b1",
   "metadata": {},
   "outputs": [
    {
     "data": {
      "text/plain": [
       "1"
      ]
     },
     "execution_count": 36,
     "metadata": {},
     "output_type": "execute_result"
    }
   ],
   "source": []
  },
  {
   "cell_type": "code",
   "execution_count": 37,
   "id": "6e14ce18",
   "metadata": {},
   "outputs": [
    {
     "data": {
      "text/plain": [
       "<module 'modules' from 'C:\\\\Users\\\\李凌峰\\\\complex simulation system\\\\01.24 update version\\\\modules.py'>"
      ]
     },
     "execution_count": 37,
     "metadata": {},
     "output_type": "execute_result"
    },
    {
     "ename": "TypeError",
     "evalue": "unsupported operand type(s) for /: 'list' and 'float'",
     "output_type": "error",
     "traceback": [
      "\u001b[1;31m---------------------------------------------------------------------------\u001b[0m",
      "\u001b[1;31mTypeError\u001b[0m                                 Traceback (most recent call last)",
      "\u001b[1;32m<ipython-input-37-6fad39de46b7>\u001b[0m in \u001b[0;36m<module>\u001b[1;34m\u001b[0m\n\u001b[0;32m     19\u001b[0m \u001b[1;33m\u001b[0m\u001b[0m\n\u001b[0;32m     20\u001b[0m \u001b[1;31m#delay_experience\u001b[0m\u001b[1;33m\u001b[0m\u001b[1;33m\u001b[0m\u001b[1;33m\u001b[0m\u001b[0m\n\u001b[1;32m---> 21\u001b[1;33m \u001b[0mP_j\u001b[0m\u001b[1;33m=\u001b[0m\u001b[0mdelay_experience\u001b[0m\u001b[1;33m/\u001b[0m\u001b[0mA\u001b[0m\u001b[1;33m\u001b[0m\u001b[1;33m\u001b[0m\u001b[0m\n\u001b[0m",
      "\u001b[1;31mTypeError\u001b[0m: unsupported operand type(s) for /: 'list' and 'float'"
     ]
    }
   ],
   "source": [
    "importlib.reload(modules)\n",
    "from modules import run_model\n",
    "\n",
    "p = 0.5\n",
    "L = 1000\n",
    "T = int(L / 2)\n",
    "n = 1\n",
    "A= L*T/2 \n",
    "iteration=0\n",
    "delay_experience=[]\n",
    "while iteration<1000:  \n",
    "    lifespan_counter, jam_size_counter = run_model(p, L, T, n)\n",
    "    total_delay=0 \n",
    "    for item, count in jam_size_counter.items():\n",
    "        total_delay=total_delay+item*count\n",
    "    \n",
    "    delay_experience.append(total_delay)\n",
    "    iteration+=1 \n",
    "    \n",
    "#delay_experience \n",
    "# P_j=delay_experience/A     "
   ]
  },
  {
   "cell_type": "markdown",
   "id": "34391305",
   "metadata": {},
   "source": [
    "### Aggreated measures \n",
    "\n",
    "Trangulize area: $A$\n",
    "\n",
    "Total delay  $A_J$\n",
    "\n",
    "Total distance travel $A_C/2 =A/2-A_J$\n",
    "\n",
    "average density: $k_A$\n",
    "\n",
    "average flow: $q_A$\n",
    "\n",
    "average speed: $v_A$  \n",
    "\n",
    "congest probability $P_J$"
   ]
  },
  {
   "cell_type": "code",
   "execution_count": 194,
   "id": "67048315",
   "metadata": {},
   "outputs": [
    {
     "data": {
      "text/plain": [
       "[11514,\n",
       " 33873,\n",
       " 21581,\n",
       " 47182,\n",
       " 15476,\n",
       " 6072,\n",
       " 8050,\n",
       " 8482,\n",
       " 49617,\n",
       " 81201,\n",
       " 82851,\n",
       " 30902,\n",
       " 59361,\n",
       " 18230,\n",
       " 12407,\n",
       " 41221,\n",
       " 16242,\n",
       " 24122,\n",
       " 44687,\n",
       " 49321,\n",
       " 3993,\n",
       " 22928,\n",
       " 9712,\n",
       " 70028,\n",
       " 14061,\n",
       " 14583,\n",
       " 32670,\n",
       " 13909,\n",
       " 53920,\n",
       " 5012,\n",
       " 15152,\n",
       " 68449,\n",
       " 26514,\n",
       " 23132,\n",
       " 15086,\n",
       " 10132,\n",
       " 39226,\n",
       " 26084,\n",
       " 64145,\n",
       " 16109,\n",
       " 33635,\n",
       " 21024,\n",
       " 43430,\n",
       " 82406,\n",
       " 16391,\n",
       " 77777,\n",
       " 56813,\n",
       " 15582,\n",
       " 50027,\n",
       " 74416,\n",
       " 20499,\n",
       " 82579,\n",
       " 18579,\n",
       " 44376,\n",
       " 102975,\n",
       " 15599,\n",
       " 63018,\n",
       " 25045,\n",
       " 12243,\n",
       " 85784,\n",
       " 9029,\n",
       " 10349,\n",
       " 49699,\n",
       " 8127,\n",
       " 8116,\n",
       " 3936,\n",
       " 26179,\n",
       " 23672,\n",
       " 95289,\n",
       " 38817,\n",
       " 12378,\n",
       " 15957,\n",
       " 38074,\n",
       " 100390,\n",
       " 6415,\n",
       " 27303,\n",
       " 29735,\n",
       " 60663,\n",
       " 10985,\n",
       " 44107,\n",
       " 5885,\n",
       " 9856,\n",
       " 13193,\n",
       " 39189,\n",
       " 101478,\n",
       " 4289,\n",
       " 7946,\n",
       " 7148,\n",
       " 15383,\n",
       " 21871,\n",
       " 11395,\n",
       " 6345,\n",
       " 27416,\n",
       " 39723,\n",
       " 21125,\n",
       " 31593,\n",
       " 22168,\n",
       " 11905,\n",
       " 30979,\n",
       " 8686,\n",
       " 35151,\n",
       " 50956,\n",
       " 40958,\n",
       " 34212,\n",
       " 21910,\n",
       " 97998,\n",
       " 48830,\n",
       " 16031,\n",
       " 81366,\n",
       " 15813,\n",
       " 80996,\n",
       " 15345,\n",
       " 29474,\n",
       " 24459,\n",
       " 44955,\n",
       " 15427,\n",
       " 29426,\n",
       " 18263,\n",
       " 73630,\n",
       " 6954,\n",
       " 43263,\n",
       " 12938,\n",
       " 57061,\n",
       " 6007,\n",
       " 33302,\n",
       " 16430,\n",
       " 82468,\n",
       " 78647,\n",
       " 15366,\n",
       " 19239,\n",
       " 22573,\n",
       " 70430,\n",
       " 24819,\n",
       " 59116,\n",
       " 30815,\n",
       " 41765,\n",
       " 20343,\n",
       " 26194,\n",
       " 12839,\n",
       " 71848,\n",
       " 14243,\n",
       " 18354,\n",
       " 19994,\n",
       " 35963,\n",
       " 29458,\n",
       " 21461,\n",
       " 30883,\n",
       " 8007,\n",
       " 33533,\n",
       " 20052,\n",
       " 43860,\n",
       " 5943,\n",
       " 12907,\n",
       " 17884,\n",
       " 15386,\n",
       " 2999,\n",
       " 87439,\n",
       " 92858,\n",
       " 51923,\n",
       " 67040,\n",
       " 13262,\n",
       " 38682,\n",
       " 24247,\n",
       " 33961,\n",
       " 40958,\n",
       " 59243,\n",
       " 84879,\n",
       " 7358,\n",
       " 24033,\n",
       " 32029,\n",
       " 4635,\n",
       " 69093,\n",
       " 39443,\n",
       " 30757,\n",
       " 11828,\n",
       " 14228,\n",
       " 26316,\n",
       " 13780,\n",
       " 27055,\n",
       " 24982,\n",
       " 32143,\n",
       " 38639,\n",
       " 94115,\n",
       " 51763,\n",
       " 26251,\n",
       " 7909,\n",
       " 8850,\n",
       " 31390,\n",
       " 58650,\n",
       " 82483,\n",
       " 33891,\n",
       " 61752,\n",
       " 55765,\n",
       " 8019,\n",
       " 24103,\n",
       " 12956,\n",
       " 20210,\n",
       " 59856,\n",
       " 8028,\n",
       " 123072,\n",
       " 20229,\n",
       " 8816,\n",
       " 27828,\n",
       " 12271,\n",
       " 33117,\n",
       " 8571,\n",
       " 45967,\n",
       " 41581,\n",
       " 43044,\n",
       " 21949,\n",
       " 68432,\n",
       " 70752,\n",
       " 16762,\n",
       " 25532,\n",
       " 20298,\n",
       " 25284,\n",
       " 99800,\n",
       " 70467,\n",
       " 15282,\n",
       " 21522,\n",
       " 38783,\n",
       " 42525,\n",
       " 24901,\n",
       " 27979,\n",
       " 23102,\n",
       " 58743,\n",
       " 26497,\n",
       " 15346,\n",
       " 95245,\n",
       " 67418,\n",
       " 78789,\n",
       " 23752,\n",
       " 24353,\n",
       " 14618,\n",
       " 21444,\n",
       " 7220,\n",
       " 31687,\n",
       " 9722,\n",
       " 49371,\n",
       " 29707,\n",
       " 33197,\n",
       " 25265,\n",
       " 106353,\n",
       " 5043,\n",
       " 37278,\n",
       " 13978,\n",
       " 14043,\n",
       " 35962,\n",
       " 84742,\n",
       " 19545,\n",
       " 20817,\n",
       " 18654,\n",
       " 16793,\n",
       " 9006,\n",
       " 23718,\n",
       " 71769,\n",
       " 23083,\n",
       " 26896,\n",
       " 23424,\n",
       " 21658,\n",
       " 18803,\n",
       " 81037,\n",
       " 25622,\n",
       " 68345,\n",
       " 88476,\n",
       " 14863,\n",
       " 46911,\n",
       " 21355,\n",
       " 58873,\n",
       " 6240,\n",
       " 22044,\n",
       " 9206,\n",
       " 4885,\n",
       " 48941,\n",
       " 6086,\n",
       " 63608,\n",
       " 48624,\n",
       " 6953,\n",
       " 94873,\n",
       " 22139,\n",
       " 33492,\n",
       " 26827,\n",
       " 35954,\n",
       " 13696,\n",
       " 6000,\n",
       " 32617,\n",
       " 55017,\n",
       " 46689,\n",
       " 14326,\n",
       " 15481,\n",
       " 61985,\n",
       " 15809,\n",
       " 52897,\n",
       " 27931,\n",
       " 4780,\n",
       " 35572,\n",
       " 77379,\n",
       " 22533,\n",
       " 79293,\n",
       " 96406,\n",
       " 5168,\n",
       " 18427,\n",
       " 12990,\n",
       " 35869,\n",
       " 68684,\n",
       " 10525,\n",
       " 67201,\n",
       " 59447,\n",
       " 22709,\n",
       " 16328,\n",
       " 17172,\n",
       " 17142,\n",
       " 81495,\n",
       " 24048,\n",
       " 13029,\n",
       " 35300,\n",
       " 31438,\n",
       " 17816,\n",
       " 21872,\n",
       " 15643,\n",
       " 39147,\n",
       " 59079,\n",
       " 24750,\n",
       " 22760,\n",
       " 42553,\n",
       " 18311,\n",
       " 14062,\n",
       " 79291,\n",
       " 44729,\n",
       " 15678,\n",
       " 44319,\n",
       " 59961,\n",
       " 35896,\n",
       " 51337,\n",
       " 66597,\n",
       " 58675,\n",
       " 27573,\n",
       " 53547,\n",
       " 21044,\n",
       " 17585,\n",
       " 32693,\n",
       " 78511,\n",
       " 59851,\n",
       " 80859,\n",
       " 92294,\n",
       " 19387,\n",
       " 99682,\n",
       " 57453,\n",
       " 64105,\n",
       " 42904,\n",
       " 26934,\n",
       " 9164,\n",
       " 26007,\n",
       " 16897,\n",
       " 19385,\n",
       " 7059,\n",
       " 5919,\n",
       " 50684,\n",
       " 21374,\n",
       " 39030,\n",
       " 13445,\n",
       " 57485,\n",
       " 34149,\n",
       " 67936,\n",
       " 74475,\n",
       " 18892,\n",
       " 50856,\n",
       " 14933,\n",
       " 10463,\n",
       " 87694,\n",
       " 5343,\n",
       " 38782,\n",
       " 47652,\n",
       " 8791,\n",
       " 10892,\n",
       " 9894,\n",
       " 19032,\n",
       " 28632,\n",
       " 26186,\n",
       " 104962,\n",
       " 14782,\n",
       " 30757,\n",
       " 40276,\n",
       " 23561,\n",
       " 55853,\n",
       " 26302,\n",
       " 20806,\n",
       " 16022,\n",
       " 22947,\n",
       " 36110,\n",
       " 14928,\n",
       " 27732,\n",
       " 5456,\n",
       " 46566,\n",
       " 33330,\n",
       " 52278,\n",
       " 38237,\n",
       " 44685,\n",
       " 16101,\n",
       " 31239,\n",
       " 17839,\n",
       " 67598,\n",
       " 5429,\n",
       " 79931,\n",
       " 13636,\n",
       " 5589,\n",
       " 4619,\n",
       " 24814,\n",
       " 63202,\n",
       " 13175,\n",
       " 42072,\n",
       " 57678,\n",
       " 26886,\n",
       " 12532,\n",
       " 85235,\n",
       " 39544,\n",
       " 7585,\n",
       " 28092,\n",
       " 75559,\n",
       " 11024,\n",
       " 31087,\n",
       " 64205,\n",
       " 55716,\n",
       " 41236,\n",
       " 39044,\n",
       " 4397,\n",
       " 31264,\n",
       " 13838,\n",
       " 7961,\n",
       " 61140,\n",
       " 28233,\n",
       " 58559,\n",
       " 17265,\n",
       " 39257,\n",
       " 27746,\n",
       " 39635,\n",
       " 24921,\n",
       " 94183,\n",
       " 13117,\n",
       " 33679,\n",
       " 19308,\n",
       " 74192,\n",
       " 27507,\n",
       " 43371,\n",
       " 39228,\n",
       " 9063,\n",
       " 57746,\n",
       " 59227,\n",
       " 15556,\n",
       " 23022,\n",
       " 67294,\n",
       " 40385,\n",
       " 27700,\n",
       " 5702,\n",
       " 17625,\n",
       " 17094,\n",
       " 11749,\n",
       " 39340,\n",
       " 15490,\n",
       " 91884,\n",
       " 9054,\n",
       " 14762,\n",
       " 42899,\n",
       " 39568,\n",
       " 76989,\n",
       " 48166,\n",
       " 11745,\n",
       " 24975,\n",
       " 9749,\n",
       " 42118,\n",
       " 39149,\n",
       " 68068,\n",
       " 82198,\n",
       " 21514,\n",
       " 8024,\n",
       " 52039,\n",
       " 78999,\n",
       " 44489,\n",
       " 22892,\n",
       " 48701,\n",
       " 15742,\n",
       " 69008,\n",
       " 55321,\n",
       " 20467,\n",
       " 13955,\n",
       " 7585,\n",
       " 68357,\n",
       " 20887,\n",
       " 23534,\n",
       " 89304,\n",
       " 55788,\n",
       " 57010,\n",
       " 39578,\n",
       " 13486,\n",
       " 15719,\n",
       " 69002,\n",
       " 47632,\n",
       " 45018,\n",
       " 72416,\n",
       " 70737,\n",
       " 38911,\n",
       " 57297,\n",
       " 29271,\n",
       " 9387,\n",
       " 59696,\n",
       " 43761,\n",
       " 18822,\n",
       " 54232,\n",
       " 85557,\n",
       " 6568,\n",
       " 31629,\n",
       " 9365,\n",
       " 60097,\n",
       " 16460,\n",
       " 23863,\n",
       " 119580,\n",
       " 38920,\n",
       " 26554,\n",
       " 26609,\n",
       " 8313,\n",
       " 98211,\n",
       " 6620,\n",
       " 8711,\n",
       " 42258,\n",
       " 23756,\n",
       " 20029,\n",
       " 31442,\n",
       " 102339,\n",
       " 6108,\n",
       " 27038,\n",
       " 12188,\n",
       " 70917,\n",
       " 11451,\n",
       " 13403,\n",
       " 40366,\n",
       " 78577,\n",
       " 11113,\n",
       " 28095,\n",
       " 56784,\n",
       " 17549,\n",
       " 11028,\n",
       " 17395,\n",
       " 57570,\n",
       " 75792,\n",
       " 20942,\n",
       " 56945,\n",
       " 63144,\n",
       " 64334,\n",
       " 41170,\n",
       " 57087,\n",
       " 43570,\n",
       " 5935,\n",
       " 38964,\n",
       " 18231,\n",
       " 10231,\n",
       " 11377,\n",
       " 97234,\n",
       " 40657,\n",
       " 63378,\n",
       " 11187,\n",
       " 5324,\n",
       " 15918,\n",
       " 76112,\n",
       " 40035,\n",
       " 9363,\n",
       " 32749,\n",
       " 5731,\n",
       " 23065,\n",
       " 56155,\n",
       " 10861,\n",
       " 18913,\n",
       " 6658,\n",
       " 37638,\n",
       " 24994,\n",
       " 36255,\n",
       " 13660,\n",
       " 15848,\n",
       " 49202,\n",
       " 16953,\n",
       " 7228,\n",
       " 35424,\n",
       " 13258,\n",
       " 18885,\n",
       " 11669,\n",
       " 17117,\n",
       " 25641,\n",
       " 6131,\n",
       " 56281,\n",
       " 45204,\n",
       " 10530,\n",
       " 19841,\n",
       " 17394,\n",
       " 14533,\n",
       " 24036,\n",
       " 127114,\n",
       " 13203,\n",
       " 53519,\n",
       " 16484,\n",
       " 33673,\n",
       " 12435,\n",
       " 39758,\n",
       " 26292,\n",
       " 8919,\n",
       " 17531,\n",
       " 24465,\n",
       " 62810,\n",
       " 37899,\n",
       " 11588,\n",
       " 18501,\n",
       " 56911,\n",
       " 16683,\n",
       " 57988,\n",
       " 11974,\n",
       " 13325,\n",
       " 11826,\n",
       " 25821,\n",
       " 37323,\n",
       " 30751,\n",
       " 4450,\n",
       " 15520,\n",
       " 53163,\n",
       " 17952,\n",
       " 31308,\n",
       " 75222,\n",
       " 20391,\n",
       " 12341,\n",
       " 33354,\n",
       " 5464,\n",
       " 10520,\n",
       " 49096,\n",
       " 33454,\n",
       " 9072,\n",
       " 52835,\n",
       " 16567,\n",
       " 9870,\n",
       " 69716,\n",
       " 9508,\n",
       " 49574,\n",
       " 45195,\n",
       " 69283,\n",
       " 58695,\n",
       " 71532,\n",
       " 22647,\n",
       " 29576,\n",
       " 61900,\n",
       " 46150,\n",
       " 15757,\n",
       " 16195,\n",
       " 9952,\n",
       " 39337,\n",
       " 15213,\n",
       " 11848,\n",
       " 20885,\n",
       " 29926,\n",
       " 50078,\n",
       " 4155,\n",
       " 78174,\n",
       " 29745,\n",
       " 40888,\n",
       " 15457,\n",
       " 6596,\n",
       " 6549,\n",
       " 75995,\n",
       " 41721,\n",
       " 19539,\n",
       " 87735,\n",
       " 35321,\n",
       " 21351,\n",
       " 61508,\n",
       " 20617,\n",
       " 15834,\n",
       " 65604,\n",
       " 48522,\n",
       " 39720,\n",
       " 30313,\n",
       " 9026,\n",
       " 62240,\n",
       " 28287,\n",
       " 33593,\n",
       " 37710,\n",
       " 18424,\n",
       " 80182,\n",
       " 4507,\n",
       " 119037,\n",
       " 39669,\n",
       " 13517,\n",
       " 40578,\n",
       " 37325,\n",
       " 33848,\n",
       " 76399,\n",
       " 42497,\n",
       " 25678,\n",
       " 65803,\n",
       " 56308,\n",
       " 84370,\n",
       " 27844,\n",
       " 18413,\n",
       " 5186,\n",
       " 18062,\n",
       " 71828,\n",
       " 10881,\n",
       " 93742,\n",
       " 28400,\n",
       " 5428,\n",
       " 18159,\n",
       " 18826,\n",
       " 50711,\n",
       " 116037,\n",
       " 45892,\n",
       " 18757,\n",
       " 42155,\n",
       " 46443,\n",
       " 21956,\n",
       " 8831,\n",
       " 39360,\n",
       " 8460,\n",
       " 20204,\n",
       " 11212,\n",
       " 80440,\n",
       " 71481,\n",
       " 9753,\n",
       " 91331,\n",
       " 26657,\n",
       " 83187,\n",
       " 39879,\n",
       " 39995,\n",
       " 33489,\n",
       " 15687,\n",
       " 52258,\n",
       " 64127,\n",
       " 24344,\n",
       " 12044,\n",
       " 14759,\n",
       " 120351,\n",
       " 75080,\n",
       " 42444,\n",
       " 67656,\n",
       " 25004,\n",
       " 54018,\n",
       " 10477,\n",
       " 49356,\n",
       " 8136,\n",
       " 67313,\n",
       " 5915,\n",
       " 7687,\n",
       " 13471,\n",
       " 55503,\n",
       " 17900,\n",
       " 29876,\n",
       " 11277,\n",
       " 60230,\n",
       " 53736,\n",
       " 10274,\n",
       " 26787,\n",
       " 16418,\n",
       " 58893,\n",
       " 69574,\n",
       " 23858,\n",
       " 25140,\n",
       " 24115,\n",
       " 28279,\n",
       " 73448,\n",
       " 73993,\n",
       " 61159,\n",
       " 73887,\n",
       " 17997,\n",
       " 27940,\n",
       " 15147,\n",
       " 60731,\n",
       " 49313,\n",
       " 52460,\n",
       " 54620,\n",
       " 46877,\n",
       " 22770,\n",
       " 54445,\n",
       " 55111,\n",
       " 31549,\n",
       " 18859,\n",
       " 74598,\n",
       " 12096,\n",
       " 124598,\n",
       " 38428,\n",
       " 50146,\n",
       " 54865,\n",
       " 10020,\n",
       " 24725,\n",
       " 34651,\n",
       " 15365,\n",
       " 60314,\n",
       " 76194,\n",
       " 68918,\n",
       " 32796,\n",
       " 55007,\n",
       " 34874,\n",
       " 61847,\n",
       " 77683,\n",
       " 63732,\n",
       " 15179,\n",
       " 27138,\n",
       " 37026,\n",
       " 16842,\n",
       " 56567,\n",
       " 10142,\n",
       " 8080,\n",
       " 23879,\n",
       " 36758,\n",
       " 39034,\n",
       " 7402,\n",
       " 36307,\n",
       " 30316,\n",
       " 18908,\n",
       " 44100,\n",
       " 31282,\n",
       " 126070,\n",
       " 30378,\n",
       " 62080,\n",
       " 27254,\n",
       " 42226,\n",
       " 33647,\n",
       " 27489,\n",
       " 13823,\n",
       " 5996,\n",
       " 91867,\n",
       " 72609,\n",
       " 16135,\n",
       " 15838,\n",
       " 36306,\n",
       " 68512,\n",
       " 41733,\n",
       " 22494,\n",
       " 31087,\n",
       " 28120,\n",
       " 27777,\n",
       " 17834,\n",
       " 19654,\n",
       " 64641,\n",
       " 30597,\n",
       " 73033,\n",
       " 37755,\n",
       " 37715,\n",
       " 48073,\n",
       " 6316,\n",
       " 59181,\n",
       " 51880,\n",
       " 20808,\n",
       " 73344,\n",
       " 8407,\n",
       " 5925,\n",
       " 19486,\n",
       " 17949,\n",
       " 5834,\n",
       " 67365,\n",
       " 100089,\n",
       " 78607,\n",
       " 36725,\n",
       " 6365,\n",
       " 63860,\n",
       " 86779,\n",
       " 62470,\n",
       " 4793,\n",
       " 26217,\n",
       " 38858,\n",
       " 27125,\n",
       " 16549,\n",
       " 43766,\n",
       " 36590,\n",
       " 9091,\n",
       " 78112,\n",
       " 30646,\n",
       " 62477,\n",
       " 10494,\n",
       " 48254,\n",
       " 54513,\n",
       " 13213,\n",
       " 12315,\n",
       " 24286,\n",
       " 30151,\n",
       " 14834,\n",
       " 23929,\n",
       " 23252,\n",
       " 65502,\n",
       " 28425,\n",
       " 15212,\n",
       " 19158,\n",
       " 9927,\n",
       " 7805,\n",
       " 65430,\n",
       " 49118,\n",
       " 29174,\n",
       " 11369,\n",
       " 10316,\n",
       " 18835,\n",
       " 48694,\n",
       " 17973,\n",
       " 59995,\n",
       " 5244,\n",
       " 64894,\n",
       " 62122,\n",
       " 51605,\n",
       " 15105,\n",
       " 15601,\n",
       " 29122,\n",
       " 78928,\n",
       " 23399,\n",
       " 27091,\n",
       " 48636,\n",
       " 16787,\n",
       " 24878,\n",
       " 14681,\n",
       " 14307,\n",
       " 17222,\n",
       " 48698,\n",
       " 46827,\n",
       " 83907,\n",
       " 45009,\n",
       " 43933,\n",
       " 50363,\n",
       " 79705,\n",
       " 39611,\n",
       " 74947,\n",
       " 69231,\n",
       " 5317,\n",
       " 49740,\n",
       " 15181,\n",
       " 43599,\n",
       " 6387,\n",
       " 75073,\n",
       " 22794,\n",
       " 7122,\n",
       " 63688,\n",
       " 22066,\n",
       " 9786,\n",
       " 20423,\n",
       " 114179,\n",
       " 64759,\n",
       " 8791,\n",
       " 7556,\n",
       " 57678,\n",
       " 74938,\n",
       " 27238,\n",
       " 44598,\n",
       " 63743,\n",
       " 27069,\n",
       " 102354,\n",
       " 77874,\n",
       " 6029,\n",
       " 83296,\n",
       " 54812,\n",
       " 10860,\n",
       " 63236,\n",
       " 79902,\n",
       " 105666,\n",
       " 9340,\n",
       " 41351,\n",
       " 36862,\n",
       " 53491,\n",
       " 46845,\n",
       " 16156,\n",
       " 23971,\n",
       " 24149,\n",
       " 46258,\n",
       " 19518,\n",
       " 88235,\n",
       " 31070,\n",
       " 89995,\n",
       " 52314,\n",
       " 50603,\n",
       " 20002,\n",
       " 11874,\n",
       " 90692,\n",
       " 109751,\n",
       " 31387,\n",
       " 40776,\n",
       " 14809,\n",
       " 51667,\n",
       " 73272,\n",
       " 19861,\n",
       " 25281,\n",
       " 52217,\n",
       " 16454,\n",
       " 16206,\n",
       " 36995,\n",
       " 63739,\n",
       " 6645,\n",
       " 47888,\n",
       " 37611,\n",
       " 48878,\n",
       " 55902,\n",
       " 36179,\n",
       " 65329,\n",
       " 9643,\n",
       " 62432,\n",
       " 73962,\n",
       " 9276,\n",
       " 30967,\n",
       " 25302,\n",
       " 32724,\n",
       " 27330,\n",
       " 28731,\n",
       " 24119]"
      ]
     },
     "execution_count": 194,
     "metadata": {},
     "output_type": "execute_result"
    }
   ],
   "source": [
    "delay_experience\n",
    "distance_travel=A/2 - np.array(delay_experience)\n",
    "P_j= np.array(delay_experience)/A \n",
    "q_A = 1/2 - P_j \n",
    "v_A=1-2*P_j "
   ]
  },
  {
   "cell_type": "code",
   "execution_count": null,
   "id": "a6c63662",
   "metadata": {},
   "outputs": [],
   "source": []
  },
  {
   "cell_type": "code",
   "execution_count": null,
   "id": "654f3958",
   "metadata": {},
   "outputs": [],
   "source": []
  },
  {
   "cell_type": "code",
   "execution_count": 193,
   "id": "63524a1d",
   "metadata": {},
   "outputs": [
    {
     "data": {
      "text/plain": [
       "[<matplotlib.lines.Line2D at 0x41ad5598>]"
      ]
     },
     "execution_count": 193,
     "metadata": {},
     "output_type": "execute_result"
    },
    {
     "data": {
      "text/plain": [
       "Text(0.5, 1.0, 'Probability Density Function')"
      ]
     },
     "execution_count": 193,
     "metadata": {},
     "output_type": "execute_result"
    },
    {
     "data": {
      "text/plain": [
       "Text(0.5, 0, 'Total delay experience')"
      ]
     },
     "execution_count": 193,
     "metadata": {},
     "output_type": "execute_result"
    },
    {
     "data": {
      "text/plain": [
       "Text(0, 0.5, 'Density')"
      ]
     },
     "execution_count": 193,
     "metadata": {},
     "output_type": "execute_result"
    },
    {
     "data": {
      "text/plain": [
       "<matplotlib.legend.Legend at 0x41b963a0>"
      ]
     },
     "execution_count": 193,
     "metadata": {},
     "output_type": "execute_result"
    },
    {
     "data": {
      "image/png": "[encoded data removed]",
      "text/plain": [
       "<Figure size 432x288 with 1 Axes>"
      ]
     },
     "metadata": {
      "needs_background": "light"
     },
     "output_type": "display_data"
    }
   ],
   "source": [
    "## distribution of total delay \n",
    "import numpy as np\n",
    "import matplotlib.pyplot as plt\n",
    "from scipy.stats import gaussian_kde\n",
    "\n",
    "data = np.array(delay_experience) \n",
    "density = gaussian_kde(data)\n",
    "xs = np.linspace(min(data), max(data), 1000)\n",
    "density.covariance_factor = lambda : .25\n",
    "density._compute_covariance()\n",
    "plt.plot(xs, density(xs),color='red', linestyle='-', linewidth=2,label='pdf')\n",
    "plt.title('Probability Density Function')\n",
    "plt.xlabel('Total delay experience')\n",
    "plt.ylabel('Density')\n",
    "plt.grid(True)\n",
    "plt.legend()\n",
    "plt.tight_layout() \n",
    "plt.show()\n",
    "\n",
    "\n"
   ]
  },
  {
   "cell_type": "code",
   "execution_count": 192,
   "id": "549e46d9",
   "metadata": {},
   "outputs": [
    {
     "data": {
      "text/plain": [
       "[<matplotlib.lines.Line2D at 0x41b7ef88>]"
      ]
     },
     "execution_count": 192,
     "metadata": {},
     "output_type": "execute_result"
    },
    {
     "data": {
      "text/plain": [
       "Text(0.5, 1.0, 'Probability Density Function')"
      ]
     },
     "execution_count": 192,
     "metadata": {},
     "output_type": "execute_result"
    },
    {
     "data": {
      "text/plain": [
       "Text(0.5, 0, 'Total distance travel')"
      ]
     },
     "execution_count": 192,
     "metadata": {},
     "output_type": "execute_result"
    },
    {
     "data": {
      "text/plain": [
       "Text(0, 0.5, 'Density')"
      ]
     },
     "execution_count": 192,
     "metadata": {},
     "output_type": "execute_result"
    },
    {
     "data": {
      "text/plain": [
       "<matplotlib.legend.Legend at 0x41b739d0>"
      ]
     },
     "execution_count": 192,
     "metadata": {},
     "output_type": "execute_result"
    },
    {
     "data": {
      "image/png": "[encoded data removed]",
      "text/plain": [
       "<Figure size 432x288 with 1 Axes>"
      ]
     },
     "metadata": {
      "needs_background": "light"
     },
     "output_type": "display_data"
    }
   ],
   "source": [
    "## distribution of total distance travel \n",
    "density = gaussian_kde(distance_travel)\n",
    "xs = np.linspace(min(distance_travel), max(distance_travel), 1000)\n",
    "density.covariance_factor = lambda : .25\n",
    "density._compute_covariance() \n",
    "plt.plot(xs, density(xs),color='red', linestyle='-', linewidth=2,label='pdf')\n",
    "plt.title('Probability Density Function')\n",
    "plt.xlabel('Total distance travel')\n",
    "plt.ylabel('Density')\n",
    "plt.grid(True)\n",
    "plt.legend()\n",
    "plt.tight_layout() \n",
    "plt.show()"
   ]
  },
  {
   "cell_type": "code",
   "execution_count": 191,
   "id": "7e541ec6",
   "metadata": {},
   "outputs": [
    {
     "data": {
      "text/plain": [
       "[<matplotlib.lines.Line2D at 0x41b40130>]"
      ]
     },
     "execution_count": 191,
     "metadata": {},
     "output_type": "execute_result"
    },
    {
     "data": {
      "text/plain": [
       "Text(0.5, 1.0, 'Probability Density Function')"
      ]
     },
     "execution_count": 191,
     "metadata": {},
     "output_type": "execute_result"
    },
    {
     "data": {
      "text/plain": [
       "Text(0.5, 0, 'average flow')"
      ]
     },
     "execution_count": 191,
     "metadata": {},
     "output_type": "execute_result"
    },
    {
     "data": {
      "text/plain": [
       "Text(0, 0.5, 'Density')"
      ]
     },
     "execution_count": 191,
     "metadata": {},
     "output_type": "execute_result"
    },
    {
     "data": {
      "text/plain": [
       "<matplotlib.legend.Legend at 0x412679a0>"
      ]
     },
     "execution_count": 191,
     "metadata": {},
     "output_type": "execute_result"
    },
    {
     "data": {
      "image/png": "[encoded data removed]",
      "text/plain": [
       "<Figure size 432x288 with 1 Axes>"
      ]
     },
     "metadata": {
      "needs_background": "light"
     },
     "output_type": "display_data"
    }
   ],
   "source": [
    "## distribution of average flow \n",
    "mean_flow = np.array(q_A) \n",
    "density = gaussian_kde(mean_flow)\n",
    "xs = np.linspace(min(mean_flow), max(mean_flow), 500)\n",
    "density.covariance_factor = lambda : .25\n",
    "density._compute_covariance()\n",
    "plt.plot(xs, density(xs),color='blue', linestyle='-', linewidth=2,label='pdf')\n",
    "plt.title('Probability Density Function')\n",
    "plt.xlabel('average flow')\n",
    "plt.ylabel('Density')\n",
    "plt.grid(True)\n",
    "plt.legend()\n",
    "plt.tight_layout() \n",
    "plt.show()"
   ]
  },
  {
   "cell_type": "code",
   "execution_count": 189,
   "id": "b26b0975",
   "metadata": {},
   "outputs": [
    {
     "data": {
      "text/plain": [
       "[<matplotlib.lines.Line2D at 0x41acd190>]"
      ]
     },
     "execution_count": 189,
     "metadata": {},
     "output_type": "execute_result"
    },
    {
     "data": {
      "text/plain": [
       "Text(0.5, 1.0, 'Probability Density Function')"
      ]
     },
     "execution_count": 189,
     "metadata": {},
     "output_type": "execute_result"
    },
    {
     "data": {
      "text/plain": [
       "Text(0.5, 0, 'average speed')"
      ]
     },
     "execution_count": 189,
     "metadata": {},
     "output_type": "execute_result"
    },
    {
     "data": {
      "text/plain": [
       "Text(0, 0.5, 'Density')"
      ]
     },
     "execution_count": 189,
     "metadata": {},
     "output_type": "execute_result"
    },
    {
     "data": {
      "text/plain": [
       "<matplotlib.legend.Legend at 0x421c54d8>"
      ]
     },
     "execution_count": 189,
     "metadata": {},
     "output_type": "execute_result"
    },
    {
     "data": {
      "image/png": "[encoded data removed]",
      "text/plain": [
       "<Figure size 432x288 with 1 Axes>"
      ]
     },
     "metadata": {
      "needs_background": "light"
     },
     "output_type": "display_data"
    }
   ],
   "source": [
    "## distribution of average speed \n",
    "density = gaussian_kde(v_A)\n",
    "xs = np.linspace(min(v_A), max(v_A), 500)\n",
    "density.covariance_factor = lambda : .25\n",
    "density._compute_covariance()\n",
    "plt.plot(xs, density(xs),color='blue', linestyle='-', linewidth=2,label='pdf')\n",
    "plt.title('Probability Density Function')\n",
    "plt.xlabel('average speed')\n",
    "plt.ylabel('Density')\n",
    "plt.grid(True)\n",
    "plt.legend()\n",
    "plt.tight_layout() \n",
    "plt.show()\n",
    "\n"
   ]
  },
  {
   "cell_type": "code",
   "execution_count": null,
   "id": "7f0da2ae",
   "metadata": {},
   "outputs": [],
   "source": []
  },
  {
   "cell_type": "code",
   "execution_count": null,
   "id": "aae80c7f",
   "metadata": {},
   "outputs": [],
   "source": []
  },
  {
   "cell_type": "markdown",
   "id": "732d9aad",
   "metadata": {},
   "source": [
    "### ignore the following, I will modify "
   ]
  },
  {
   "cell_type": "code",
   "execution_count": null,
   "id": "e5f90019",
   "metadata": {},
   "outputs": [],
   "source": []
  },
  {
   "cell_type": "code",
   "execution_count": 148,
   "id": "5d0b689d",
   "metadata": {
    "scrolled": true
   },
   "outputs": [
    {
     "data": {
      "text/plain": [
       "<scipy.stats._distn_infrastructure.rv_continuous_frozen at 0x237f19b8>"
      ]
     },
     "execution_count": 148,
     "metadata": {},
     "output_type": "execute_result"
    },
    {
     "data": {
      "text/plain": [
       "<scipy.stats._continuous_distns.invgauss_gen at 0x3b98b880>"
      ]
     },
     "execution_count": 148,
     "metadata": {},
     "output_type": "execute_result"
    },
    {
     "name": "stderr",
     "output_type": "stream",
     "text": [
      "<ipython-input-106-def73c6e2161>:13: RuntimeWarning: divide by zero encountered in true_divide\n",
      "  coeff = np.sqrt(lambda_param / (2 * np.pi * x**3))\n",
      "<ipython-input-106-def73c6e2161>:14: RuntimeWarning: divide by zero encountered in true_divide\n",
      "  exp_part = np.exp(-lambda_param * ((x - mu)**2) / (2 * mu**2 * x))\n",
      "<ipython-input-106-def73c6e2161>:15: RuntimeWarning: invalid value encountered in multiply\n",
      "  return coeff * exp_part\n"
     ]
    },
    {
     "data": {
      "text/plain": [
       "<Figure size 576x288 with 0 Axes>"
      ]
     },
     "execution_count": 148,
     "metadata": {},
     "output_type": "execute_result"
    },
    {
     "data": {
      "text/plain": [
       "[<matplotlib.lines.Line2D at 0x4108e910>]"
      ]
     },
     "execution_count": 148,
     "metadata": {},
     "output_type": "execute_result"
    },
    {
     "data": {
      "text/plain": [
       "Text(0.5, 1.0, 'Inverse Gaussian Distribution')"
      ]
     },
     "execution_count": 148,
     "metadata": {},
     "output_type": "execute_result"
    },
    {
     "data": {
      "text/plain": [
       "Text(0.5, 0, 'Value')"
      ]
     },
     "execution_count": 148,
     "metadata": {},
     "output_type": "execute_result"
    },
    {
     "data": {
      "text/plain": [
       "Text(0, 0.5, 'Probability Density')"
      ]
     },
     "execution_count": 148,
     "metadata": {},
     "output_type": "execute_result"
    },
    {
     "data": {
      "text/plain": [
       "<matplotlib.legend.Legend at 0x41064fd0>"
      ]
     },
     "execution_count": 148,
     "metadata": {},
     "output_type": "execute_result"
    },
    {
     "data": {
      "image/png": "[encoded data removed]",
      "text/plain": [
       "<Figure size 576x288 with 1 Axes>"
      ]
     },
     "metadata": {
      "needs_background": "light"
     },
     "output_type": "display_data"
    },
    {
     "data": {
      "text/plain": [
       "(array(0.625416), array(0.24462845))"
      ]
     },
     "execution_count": 148,
     "metadata": {},
     "output_type": "execute_result"
    }
   ],
   "source": [
    "import numpy as np\n",
    "import matplotlib.pyplot as plt\n",
    "from scipy.stats import invgauss\n",
    "\n",
    "inv_gauss\n",
    "invgauss\n",
    "# 设置反高斯分布的参数\n",
    "mu = 0.625416  # 均值\n",
    "lambda_param = 9.8298  # 形状参数\n",
    "factor=2*L**(-3/2)\n",
    "# 生成数据点\n",
    "\n",
    "x = np.linspace(0,120000,1000)\n",
    "pdf = factor*pdf_IG(factor*x, mu=0.625416, lambda_param=9.8298)\n",
    "\n",
    "# 绘制概率密度函数（PDF）\n",
    "plt.figure(figsize=(8, 4))\n",
    "plt.plot(x, pdf, 'r-', lw=2, label='invgauss pdf')\n",
    "plt.title('Inverse Gaussian Distribution')\n",
    "plt.xlabel('Value')\n",
    "plt.ylabel('Probability Density')\n",
    "plt.legend(loc='best')\n",
    "plt.grid(True)\n",
    "plt.show()\n",
    "\n",
    "invgauss.stats(mu=0.625416)"
   ]
  },
  {
   "cell_type": "code",
   "execution_count": 162,
   "id": "d3d51c38",
   "metadata": {},
   "outputs": [
    {
     "data": {
      "text/plain": [
       "<Figure size 576x288 with 0 Axes>"
      ]
     },
     "execution_count": 162,
     "metadata": {},
     "output_type": "execute_result"
    },
    {
     "data": {
      "text/plain": [
       "[<matplotlib.lines.Line2D at 0x42ba0688>]"
      ]
     },
     "execution_count": 162,
     "metadata": {},
     "output_type": "execute_result"
    },
    {
     "data": {
      "text/plain": [
       "Text(0.5, 1.0, 'Inverse Gaussian Distribution (mu=0.6254, lambda=9.8298)')"
      ]
     },
     "execution_count": 162,
     "metadata": {},
     "output_type": "execute_result"
    },
    {
     "data": {
      "text/plain": [
       "Text(0.5, 0, 'Value')"
      ]
     },
     "execution_count": 162,
     "metadata": {},
     "output_type": "execute_result"
    },
    {
     "data": {
      "text/plain": [
       "Text(0, 0.5, 'Probability Density')"
      ]
     },
     "execution_count": 162,
     "metadata": {},
     "output_type": "execute_result"
    },
    {
     "data": {
      "text/plain": [
       "<matplotlib.legend.Legend at 0x42b94238>"
      ]
     },
     "execution_count": 162,
     "metadata": {},
     "output_type": "execute_result"
    },
    {
     "data": {
      "image/png": "[encoded data removed]",
      "text/plain": [
       "<Figure size 576x288 with 1 Axes>"
      ]
     },
     "metadata": {
      "needs_background": "light"
     },
     "output_type": "display_data"
    }
   ],
   "source": [
    "import numpy as np\n",
    "import matplotlib.pyplot as plt\n",
    "from scipy.stats import invgauss\n",
    "\n",
    "mu = 0.6254     # 均值参数\n",
    "lambda_param = 9.8298  # 形状参数\n",
    "factor=2*L**(-3/2)\n",
    "\n",
    "inv_gauss = invgauss(mu=mu, scale=lambda_param)\n",
    "\n",
    "# 生成x轴的值，需要足够的范围来展示分布\n",
    "#x_min = invgauss.ppf(0.01, mu, scale=lambda_param)\n",
    "#x_max = invgauss.ppf(0.99, mu, scale=lambda_param)\n",
    "x = np.linspace(2000, 130000, 1000)\n",
    "\n",
    "# 计算PDF\n",
    "pdf = factor*inv_gauss.pdf(factor*x)\n",
    "\n",
    "# 绘制PDF图像\n",
    "plt.figure(figsize=(8, 4))\n",
    "plt.plot(x, pdf, 'r-', lw=2, label='Inverse Gaussian PDF')\n",
    "plt.title('Inverse Gaussian Distribution (mu=0.6254, lambda=9.8298)')\n",
    "plt.xlabel('Value')\n",
    "plt.ylabel('Probability Density')\n",
    "plt.legend(loc='best')\n",
    "plt.grid(True)\n",
    "plt.show()\n"
   ]
  },
  {
   "cell_type": "code",
   "execution_count": 157,
   "id": "5339e832",
   "metadata": {},
   "outputs": [
    {
     "data": {
      "text/plain": [
       "1000"
      ]
     },
     "execution_count": 157,
     "metadata": {},
     "output_type": "execute_result"
    }
   ],
   "source": []
  },
  {
   "cell_type": "code",
   "execution_count": null,
   "id": "aa8d5f86",
   "metadata": {},
   "outputs": [],
   "source": []
  },
  {
   "cell_type": "code",
   "execution_count": null,
   "id": "8ec23cd0",
   "metadata": {},
   "outputs": [],
   "source": []
  },
  {
   "cell_type": "code",
   "execution_count": null,
   "id": "3ba759fa",
   "metadata": {},
   "outputs": [],
   "source": []
  },
  {
   "cell_type": "code",
   "execution_count": null,
   "id": "9667c478",
   "metadata": {},
   "outputs": [],
   "source": []
  },
  {
   "cell_type": "code",
   "execution_count": 164,
   "id": "2fa69c35",
   "metadata": {},
   "outputs": [
    {
     "data": {
      "text/plain": [
       "-0.008456000000000019"
      ]
     },
     "execution_count": 164,
     "metadata": {},
     "output_type": "execute_result"
    },
    {
     "data": {
      "text/plain": [
       "0.488004"
      ]
     },
     "execution_count": 164,
     "metadata": {},
     "output_type": "execute_result"
    }
   ],
   "source": [
    "np.min(q_A)\n",
    "np.max(q_A)"
   ]
  },
  {
   "cell_type": "code",
   "execution_count": null,
   "id": "974bc694",
   "metadata": {},
   "outputs": [],
   "source": []
  },
  {
   "cell_type": "code",
   "execution_count": 163,
   "id": "c8024a03",
   "metadata": {},
   "outputs": [
    {
     "data": {
      "text/plain": [
       "[<matplotlib.lines.Line2D at 0x42bd6d90>]"
      ]
     },
     "execution_count": 163,
     "metadata": {},
     "output_type": "execute_result"
    },
    {
     "data": {
      "text/plain": [
       "Text(0.5, 1.0, 'Probability Density Function')"
      ]
     },
     "execution_count": 163,
     "metadata": {},
     "output_type": "execute_result"
    },
    {
     "data": {
      "text/plain": [
       "Text(0.5, 0, 'average flow')"
      ]
     },
     "execution_count": 163,
     "metadata": {},
     "output_type": "execute_result"
    },
    {
     "data": {
      "text/plain": [
       "Text(0, 0.5, 'Density')"
      ]
     },
     "execution_count": 163,
     "metadata": {},
     "output_type": "execute_result"
    },
    {
     "data": {
      "image/png": "[encoded data removed]",
      "text/plain": [
       "<Figure size 432x288 with 1 Axes>"
      ]
     },
     "metadata": {
      "needs_background": "light"
     },
     "output_type": "display_data"
    }
   ],
   "source": []
  },
  {
   "cell_type": "code",
   "execution_count": null,
   "id": "0fd81757",
   "metadata": {},
   "outputs": [],
   "source": []
  },
  {
   "cell_type": "markdown",
   "id": "529913de",
   "metadata": {},
   "source": []
  },
  {
   "cell_type": "code",
   "execution_count": null,
   "id": "770bc7df",
   "metadata": {},
   "outputs": [],
   "source": []
  },
  {
   "cell_type": "code",
   "execution_count": null,
   "id": "7337a20f",
   "metadata": {},
   "outputs": [],
   "source": []
  },
  {
   "cell_type": "code",
   "execution_count": null,
   "id": "d05ca41e",
   "metadata": {},
   "outputs": [],
   "source": []
  },
  {
   "cell_type": "code",
   "execution_count": 169,
   "id": "79524ec6",
   "metadata": {},
   "outputs": [
    {
     "data": {
      "text/plain": [
       "<Figure size 576x288 with 0 Axes>"
      ]
     },
     "execution_count": 169,
     "metadata": {},
     "output_type": "execute_result"
    },
    {
     "data": {
      "text/plain": [
       "[<matplotlib.lines.Line2D at 0x3e740148>]"
      ]
     },
     "execution_count": 169,
     "metadata": {},
     "output_type": "execute_result"
    },
    {
     "data": {
      "text/plain": [
       "Text(0.5, 1.0, 'Inverse Gaussian Distribution (mu=0.6254, lambda=9.8298)')"
      ]
     },
     "execution_count": 169,
     "metadata": {},
     "output_type": "execute_result"
    },
    {
     "data": {
      "text/plain": [
       "Text(0.5, 0, 'Value')"
      ]
     },
     "execution_count": 169,
     "metadata": {},
     "output_type": "execute_result"
    },
    {
     "data": {
      "text/plain": [
       "Text(0, 0.5, 'Probability Density')"
      ]
     },
     "execution_count": 169,
     "metadata": {},
     "output_type": "execute_result"
    },
    {
     "data": {
      "text/plain": [
       "<matplotlib.legend.Legend at 0x417c1568>"
      ]
     },
     "execution_count": 169,
     "metadata": {},
     "output_type": "execute_result"
    },
    {
     "data": {
      "image/png": "[encoded data removed]",
      "text/plain": [
       "<Figure size 576x288 with 1 Axes>"
      ]
     },
     "metadata": {
      "needs_background": "light"
     },
     "output_type": "display_data"
    }
   ],
   "source": [
    "p = np.linspace(0, 0.5, 1000)\n",
    "flow_factor=(1/2)*L**(1/2) \n",
    "\n",
    "# 计算PDF\n",
    "flow_pdf = factor*inv_gauss.pdf(flow_factor*p) \n",
    "\n",
    "# 绘制PDF图像 \n",
    "plt.figure(figsize=(8, 4))\n",
    "plt.plot(p, flow_pdf, 'r-', lw=2, label='Inverse Gaussian PDF') \n",
    "plt.title('Inverse Gaussian Distribution (mu=0.6254, lambda=9.8298)')\n",
    "plt.xlabel('Value')\n",
    "plt.ylabel('Probability Density')\n",
    "plt.legend(loc='best')\n",
    "plt.grid(True)\n",
    "plt.show()"
   ]
  },
  {
   "cell_type": "code",
   "execution_count": null,
   "id": "f45a41dc",
   "metadata": {},
   "outputs": [],
   "source": []
  },
  {
   "cell_type": "code",
   "execution_count": null,
   "id": "5461d466",
   "metadata": {},
   "outputs": [],
   "source": []
  },
  {
   "cell_type": "code",
   "execution_count": 88,
   "id": "7174317f",
   "metadata": {},
   "outputs": [
    {
     "data": {
      "text/plain": [
       "[<matplotlib.lines.Line2D at 0x3e3580d0>]"
      ]
     },
     "execution_count": 88,
     "metadata": {},
     "output_type": "execute_result"
    },
    {
     "data": {
      "text/plain": [
       "(0.0, 1.0)"
      ]
     },
     "execution_count": 88,
     "metadata": {},
     "output_type": "execute_result"
    },
    {
     "data": {
      "text/plain": [
       "Text(0.5, 1.0, 'Inverse Gaussian Distribution')"
      ]
     },
     "execution_count": 88,
     "metadata": {},
     "output_type": "execute_result"
    },
    {
     "data": {
      "text/plain": [
       "Text(0.5, 0, 'Value')"
      ]
     },
     "execution_count": 88,
     "metadata": {},
     "output_type": "execute_result"
    },
    {
     "data": {
      "text/plain": [
       "Text(0, 0.5, 'Probability Density')"
      ]
     },
     "execution_count": 88,
     "metadata": {},
     "output_type": "execute_result"
    },
    {
     "data": {
      "image/png": "[encoded data removed]",
      "text/plain": [
       "<Figure size 432x288 with 1 Axes>"
      ]
     },
     "metadata": {
      "needs_background": "light"
     },
     "output_type": "display_data"
    }
   ],
   "source": [
    "import numpy as np\n",
    "import matplotlib.pyplot as plt\n",
    "from scipy.stats import invgauss\n",
    "\n",
    "# 反高斯分布的参数\n",
    "mu = 0.625416   # 均值参数\n",
    "shape = 9.82985 # 形状参数\n",
    "invgauss()\n",
    "# 创建反高斯分布对象\n",
    "inv_gauss = invgauss(mu=shape/mu)\n",
    "# 生成x轴的值，限制在0到1之间\n",
    "x = np.linspace(0, 1, 1000)\n",
    "# 计算PDF\n",
    "pdf = inv_gauss.pdf(x)\n",
    "\n",
    "# 绘制PDF，限制x轴在0到1之间\n",
    "plt.plot(x, pdf, 'r-', lw=2)\n",
    "plt.xlim(0, 1)  # 设置x轴的范围为0到1\n",
    "plt.title('Inverse Gaussian Distribution')\n",
    "plt.xlabel('Value')\n",
    "plt.ylabel('Probability Density')\n",
    "plt.show()\n"
   ]
  },
  {
   "cell_type": "code",
   "execution_count": 147,
   "id": "84012c48",
   "metadata": {},
   "outputs": [
    {
     "data": {
      "text/plain": [
       "<scipy.stats._distn_infrastructure.rv_continuous_frozen at 0x237f19b8>"
      ]
     },
     "execution_count": 147,
     "metadata": {},
     "output_type": "execute_result"
    },
    {
     "data": {
      "text/plain": [
       "<scipy.stats._continuous_distns.invgauss_gen at 0x3b98b880>"
      ]
     },
     "execution_count": 147,
     "metadata": {},
     "output_type": "execute_result"
    },
    {
     "name": "stderr",
     "output_type": "stream",
     "text": [
      "<ipython-input-106-def73c6e2161>:13: RuntimeWarning: divide by zero encountered in true_divide\n",
      "  coeff = np.sqrt(lambda_param / (2 * np.pi * x**3))\n",
      "<ipython-input-106-def73c6e2161>:14: RuntimeWarning: divide by zero encountered in true_divide\n",
      "  exp_part = np.exp(-lambda_param * ((x - mu)**2) / (2 * mu**2 * x))\n",
      "<ipython-input-106-def73c6e2161>:15: RuntimeWarning: invalid value encountered in multiply\n",
      "  return coeff * exp_part\n"
     ]
    },
    {
     "data": {
      "text/plain": [
       "<Figure size 576x288 with 0 Axes>"
      ]
     },
     "execution_count": 147,
     "metadata": {},
     "output_type": "execute_result"
    },
    {
     "data": {
      "text/plain": [
       "[<matplotlib.lines.Line2D at 0x3fe7de50>]"
      ]
     },
     "execution_count": 147,
     "metadata": {},
     "output_type": "execute_result"
    },
    {
     "data": {
      "text/plain": [
       "Text(0.5, 1.0, 'Inverse Gaussian Distribution')"
      ]
     },
     "execution_count": 147,
     "metadata": {},
     "output_type": "execute_result"
    },
    {
     "data": {
      "text/plain": [
       "Text(0.5, 0, 'Value')"
      ]
     },
     "execution_count": 147,
     "metadata": {},
     "output_type": "execute_result"
    },
    {
     "data": {
      "text/plain": [
       "Text(0, 0.5, 'Probability Density')"
      ]
     },
     "execution_count": 147,
     "metadata": {},
     "output_type": "execute_result"
    },
    {
     "data": {
      "text/plain": [
       "<matplotlib.legend.Legend at 0x3fe799b8>"
      ]
     },
     "execution_count": 147,
     "metadata": {},
     "output_type": "execute_result"
    },
    {
     "data": {
      "image/png": "[encoded data removed]",
      "text/plain": [
       "<Figure size 576x288 with 1 Axes>"
      ]
     },
     "metadata": {
      "needs_background": "light"
     },
     "output_type": "display_data"
    },
    {
     "data": {
      "text/plain": [
       "(array(0.625416), array(0.24462845))"
      ]
     },
     "execution_count": 147,
     "metadata": {},
     "output_type": "execute_result"
    }
   ],
   "source": [
    "\n"
   ]
  },
  {
   "cell_type": "code",
   "execution_count": 140,
   "id": "e7c8b308",
   "metadata": {},
   "outputs": [
    {
     "data": {
      "text/plain": [
       "[11514,\n",
       " 33873,\n",
       " 21581,\n",
       " 47182,\n",
       " 15476,\n",
       " 6072,\n",
       " 8050,\n",
       " 8482,\n",
       " 49617,\n",
       " 81201,\n",
       " 82851,\n",
       " 30902,\n",
       " 59361,\n",
       " 18230,\n",
       " 12407,\n",
       " 41221,\n",
       " 16242,\n",
       " 24122,\n",
       " 44687,\n",
       " 49321,\n",
       " 3993,\n",
       " 22928,\n",
       " 9712,\n",
       " 70028,\n",
       " 14061,\n",
       " 14583,\n",
       " 32670,\n",
       " 13909,\n",
       " 53920,\n",
       " 5012,\n",
       " 15152,\n",
       " 68449,\n",
       " 26514,\n",
       " 23132,\n",
       " 15086,\n",
       " 10132,\n",
       " 39226,\n",
       " 26084,\n",
       " 64145,\n",
       " 16109,\n",
       " 33635,\n",
       " 21024,\n",
       " 43430,\n",
       " 82406,\n",
       " 16391,\n",
       " 77777,\n",
       " 56813,\n",
       " 15582,\n",
       " 50027,\n",
       " 74416,\n",
       " 20499,\n",
       " 82579,\n",
       " 18579,\n",
       " 44376,\n",
       " 102975,\n",
       " 15599,\n",
       " 63018,\n",
       " 25045,\n",
       " 12243,\n",
       " 85784,\n",
       " 9029,\n",
       " 10349,\n",
       " 49699,\n",
       " 8127,\n",
       " 8116,\n",
       " 3936,\n",
       " 26179,\n",
       " 23672,\n",
       " 95289,\n",
       " 38817,\n",
       " 12378,\n",
       " 15957,\n",
       " 38074,\n",
       " 100390,\n",
       " 6415,\n",
       " 27303,\n",
       " 29735,\n",
       " 60663,\n",
       " 10985,\n",
       " 44107,\n",
       " 5885,\n",
       " 9856,\n",
       " 13193,\n",
       " 39189,\n",
       " 101478,\n",
       " 4289,\n",
       " 7946,\n",
       " 7148,\n",
       " 15383,\n",
       " 21871,\n",
       " 11395,\n",
       " 6345,\n",
       " 27416,\n",
       " 39723,\n",
       " 21125,\n",
       " 31593,\n",
       " 22168,\n",
       " 11905,\n",
       " 30979,\n",
       " 8686,\n",
       " 35151,\n",
       " 50956,\n",
       " 40958,\n",
       " 34212,\n",
       " 21910,\n",
       " 97998,\n",
       " 48830,\n",
       " 16031,\n",
       " 81366,\n",
       " 15813,\n",
       " 80996,\n",
       " 15345,\n",
       " 29474,\n",
       " 24459,\n",
       " 44955,\n",
       " 15427,\n",
       " 29426,\n",
       " 18263,\n",
       " 73630,\n",
       " 6954,\n",
       " 43263,\n",
       " 12938,\n",
       " 57061,\n",
       " 6007,\n",
       " 33302,\n",
       " 16430,\n",
       " 82468,\n",
       " 78647,\n",
       " 15366,\n",
       " 19239,\n",
       " 22573,\n",
       " 70430,\n",
       " 24819,\n",
       " 59116,\n",
       " 30815,\n",
       " 41765,\n",
       " 20343,\n",
       " 26194,\n",
       " 12839,\n",
       " 71848,\n",
       " 14243,\n",
       " 18354,\n",
       " 19994,\n",
       " 35963,\n",
       " 29458,\n",
       " 21461,\n",
       " 30883,\n",
       " 8007,\n",
       " 33533,\n",
       " 20052,\n",
       " 43860,\n",
       " 5943,\n",
       " 12907,\n",
       " 17884,\n",
       " 15386,\n",
       " 2999,\n",
       " 87439,\n",
       " 92858,\n",
       " 51923,\n",
       " 67040,\n",
       " 13262,\n",
       " 38682,\n",
       " 24247,\n",
       " 33961,\n",
       " 40958,\n",
       " 59243,\n",
       " 84879,\n",
       " 7358,\n",
       " 24033,\n",
       " 32029,\n",
       " 4635,\n",
       " 69093,\n",
       " 39443,\n",
       " 30757,\n",
       " 11828,\n",
       " 14228,\n",
       " 26316,\n",
       " 13780,\n",
       " 27055,\n",
       " 24982,\n",
       " 32143,\n",
       " 38639,\n",
       " 94115,\n",
       " 51763,\n",
       " 26251,\n",
       " 7909,\n",
       " 8850,\n",
       " 31390,\n",
       " 58650,\n",
       " 82483,\n",
       " 33891,\n",
       " 61752,\n",
       " 55765,\n",
       " 8019,\n",
       " 24103,\n",
       " 12956,\n",
       " 20210,\n",
       " 59856,\n",
       " 8028,\n",
       " 123072,\n",
       " 20229,\n",
       " 8816,\n",
       " 27828,\n",
       " 12271,\n",
       " 33117,\n",
       " 8571,\n",
       " 45967,\n",
       " 41581,\n",
       " 43044,\n",
       " 21949,\n",
       " 68432,\n",
       " 70752,\n",
       " 16762,\n",
       " 25532,\n",
       " 20298,\n",
       " 25284,\n",
       " 99800,\n",
       " 70467,\n",
       " 15282,\n",
       " 21522,\n",
       " 38783,\n",
       " 42525,\n",
       " 24901,\n",
       " 27979,\n",
       " 23102,\n",
       " 58743,\n",
       " 26497,\n",
       " 15346,\n",
       " 95245,\n",
       " 67418,\n",
       " 78789,\n",
       " 23752,\n",
       " 24353,\n",
       " 14618,\n",
       " 21444,\n",
       " 7220,\n",
       " 31687,\n",
       " 9722,\n",
       " 49371,\n",
       " 29707,\n",
       " 33197,\n",
       " 25265,\n",
       " 106353,\n",
       " 5043,\n",
       " 37278,\n",
       " 13978,\n",
       " 14043,\n",
       " 35962,\n",
       " 84742,\n",
       " 19545,\n",
       " 20817,\n",
       " 18654,\n",
       " 16793,\n",
       " 9006,\n",
       " 23718,\n",
       " 71769,\n",
       " 23083,\n",
       " 26896,\n",
       " 23424,\n",
       " 21658,\n",
       " 18803,\n",
       " 81037,\n",
       " 25622,\n",
       " 68345,\n",
       " 88476,\n",
       " 14863,\n",
       " 46911,\n",
       " 21355,\n",
       " 58873,\n",
       " 6240,\n",
       " 22044,\n",
       " 9206,\n",
       " 4885,\n",
       " 48941,\n",
       " 6086,\n",
       " 63608,\n",
       " 48624,\n",
       " 6953,\n",
       " 94873,\n",
       " 22139,\n",
       " 33492,\n",
       " 26827,\n",
       " 35954,\n",
       " 13696,\n",
       " 6000,\n",
       " 32617,\n",
       " 55017,\n",
       " 46689,\n",
       " 14326,\n",
       " 15481,\n",
       " 61985,\n",
       " 15809,\n",
       " 52897,\n",
       " 27931,\n",
       " 4780,\n",
       " 35572,\n",
       " 77379,\n",
       " 22533,\n",
       " 79293,\n",
       " 96406,\n",
       " 5168,\n",
       " 18427,\n",
       " 12990,\n",
       " 35869,\n",
       " 68684,\n",
       " 10525,\n",
       " 67201,\n",
       " 59447,\n",
       " 22709,\n",
       " 16328,\n",
       " 17172,\n",
       " 17142,\n",
       " 81495,\n",
       " 24048,\n",
       " 13029,\n",
       " 35300,\n",
       " 31438,\n",
       " 17816,\n",
       " 21872,\n",
       " 15643,\n",
       " 39147,\n",
       " 59079,\n",
       " 24750,\n",
       " 22760,\n",
       " 42553,\n",
       " 18311,\n",
       " 14062,\n",
       " 79291,\n",
       " 44729,\n",
       " 15678,\n",
       " 44319,\n",
       " 59961,\n",
       " 35896,\n",
       " 51337,\n",
       " 66597,\n",
       " 58675,\n",
       " 27573,\n",
       " 53547,\n",
       " 21044,\n",
       " 17585,\n",
       " 32693,\n",
       " 78511,\n",
       " 59851,\n",
       " 80859,\n",
       " 92294,\n",
       " 19387,\n",
       " 99682,\n",
       " 57453,\n",
       " 64105,\n",
       " 42904,\n",
       " 26934,\n",
       " 9164,\n",
       " 26007,\n",
       " 16897,\n",
       " 19385,\n",
       " 7059,\n",
       " 5919,\n",
       " 50684,\n",
       " 21374,\n",
       " 39030,\n",
       " 13445,\n",
       " 57485,\n",
       " 34149,\n",
       " 67936,\n",
       " 74475,\n",
       " 18892,\n",
       " 50856,\n",
       " 14933,\n",
       " 10463,\n",
       " 87694,\n",
       " 5343,\n",
       " 38782,\n",
       " 47652,\n",
       " 8791,\n",
       " 10892,\n",
       " 9894,\n",
       " 19032,\n",
       " 28632,\n",
       " 26186,\n",
       " 104962,\n",
       " 14782,\n",
       " 30757,\n",
       " 40276,\n",
       " 23561,\n",
       " 55853,\n",
       " 26302,\n",
       " 20806,\n",
       " 16022,\n",
       " 22947,\n",
       " 36110,\n",
       " 14928,\n",
       " 27732,\n",
       " 5456,\n",
       " 46566,\n",
       " 33330,\n",
       " 52278,\n",
       " 38237,\n",
       " 44685,\n",
       " 16101,\n",
       " 31239,\n",
       " 17839,\n",
       " 67598,\n",
       " 5429,\n",
       " 79931,\n",
       " 13636,\n",
       " 5589,\n",
       " 4619,\n",
       " 24814,\n",
       " 63202,\n",
       " 13175,\n",
       " 42072,\n",
       " 57678,\n",
       " 26886,\n",
       " 12532,\n",
       " 85235,\n",
       " 39544,\n",
       " 7585,\n",
       " 28092,\n",
       " 75559,\n",
       " 11024,\n",
       " 31087,\n",
       " 64205,\n",
       " 55716,\n",
       " 41236,\n",
       " 39044,\n",
       " 4397,\n",
       " 31264,\n",
       " 13838,\n",
       " 7961,\n",
       " 61140,\n",
       " 28233,\n",
       " 58559,\n",
       " 17265,\n",
       " 39257,\n",
       " 27746,\n",
       " 39635,\n",
       " 24921,\n",
       " 94183,\n",
       " 13117,\n",
       " 33679,\n",
       " 19308,\n",
       " 74192,\n",
       " 27507,\n",
       " 43371,\n",
       " 39228,\n",
       " 9063,\n",
       " 57746,\n",
       " 59227,\n",
       " 15556,\n",
       " 23022,\n",
       " 67294,\n",
       " 40385,\n",
       " 27700,\n",
       " 5702,\n",
       " 17625,\n",
       " 17094,\n",
       " 11749,\n",
       " 39340,\n",
       " 15490,\n",
       " 91884,\n",
       " 9054,\n",
       " 14762,\n",
       " 42899,\n",
       " 39568,\n",
       " 76989,\n",
       " 48166,\n",
       " 11745,\n",
       " 24975,\n",
       " 9749,\n",
       " 42118,\n",
       " 39149,\n",
       " 68068,\n",
       " 82198,\n",
       " 21514,\n",
       " 8024,\n",
       " 52039,\n",
       " 78999,\n",
       " 44489,\n",
       " 22892,\n",
       " 48701,\n",
       " 15742,\n",
       " 69008,\n",
       " 55321,\n",
       " 20467,\n",
       " 13955,\n",
       " 7585,\n",
       " 68357,\n",
       " 20887,\n",
       " 23534,\n",
       " 89304,\n",
       " 55788,\n",
       " 57010,\n",
       " 39578,\n",
       " 13486,\n",
       " 15719,\n",
       " 69002,\n",
       " 47632,\n",
       " 45018,\n",
       " 72416,\n",
       " 70737,\n",
       " 38911,\n",
       " 57297,\n",
       " 29271,\n",
       " 9387,\n",
       " 59696,\n",
       " 43761,\n",
       " 18822,\n",
       " 54232,\n",
       " 85557,\n",
       " 6568,\n",
       " 31629,\n",
       " 9365,\n",
       " 60097,\n",
       " 16460,\n",
       " 23863,\n",
       " 119580,\n",
       " 38920,\n",
       " 26554,\n",
       " 26609,\n",
       " 8313,\n",
       " 98211,\n",
       " 6620,\n",
       " 8711,\n",
       " 42258,\n",
       " 23756,\n",
       " 20029,\n",
       " 31442,\n",
       " 102339,\n",
       " 6108,\n",
       " 27038,\n",
       " 12188,\n",
       " 70917,\n",
       " 11451,\n",
       " 13403,\n",
       " 40366,\n",
       " 78577,\n",
       " 11113,\n",
       " 28095,\n",
       " 56784,\n",
       " 17549,\n",
       " 11028,\n",
       " 17395,\n",
       " 57570,\n",
       " 75792,\n",
       " 20942,\n",
       " 56945,\n",
       " 63144,\n",
       " 64334,\n",
       " 41170,\n",
       " 57087,\n",
       " 43570,\n",
       " 5935,\n",
       " 38964,\n",
       " 18231,\n",
       " 10231,\n",
       " 11377,\n",
       " 97234,\n",
       " 40657,\n",
       " 63378,\n",
       " 11187,\n",
       " 5324,\n",
       " 15918,\n",
       " 76112,\n",
       " 40035,\n",
       " 9363,\n",
       " 32749,\n",
       " 5731,\n",
       " 23065,\n",
       " 56155,\n",
       " 10861,\n",
       " 18913,\n",
       " 6658,\n",
       " 37638,\n",
       " 24994,\n",
       " 36255,\n",
       " 13660,\n",
       " 15848,\n",
       " 49202,\n",
       " 16953,\n",
       " 7228,\n",
       " 35424,\n",
       " 13258,\n",
       " 18885,\n",
       " 11669,\n",
       " 17117,\n",
       " 25641,\n",
       " 6131,\n",
       " 56281,\n",
       " 45204,\n",
       " 10530,\n",
       " 19841,\n",
       " 17394,\n",
       " 14533,\n",
       " 24036,\n",
       " 127114,\n",
       " 13203,\n",
       " 53519,\n",
       " 16484,\n",
       " 33673,\n",
       " 12435,\n",
       " 39758,\n",
       " 26292,\n",
       " 8919,\n",
       " 17531,\n",
       " 24465,\n",
       " 62810,\n",
       " 37899,\n",
       " 11588,\n",
       " 18501,\n",
       " 56911,\n",
       " 16683,\n",
       " 57988,\n",
       " 11974,\n",
       " 13325,\n",
       " 11826,\n",
       " 25821,\n",
       " 37323,\n",
       " 30751,\n",
       " 4450,\n",
       " 15520,\n",
       " 53163,\n",
       " 17952,\n",
       " 31308,\n",
       " 75222,\n",
       " 20391,\n",
       " 12341,\n",
       " 33354,\n",
       " 5464,\n",
       " 10520,\n",
       " 49096,\n",
       " 33454,\n",
       " 9072,\n",
       " 52835,\n",
       " 16567,\n",
       " 9870,\n",
       " 69716,\n",
       " 9508,\n",
       " 49574,\n",
       " 45195,\n",
       " 69283,\n",
       " 58695,\n",
       " 71532,\n",
       " 22647,\n",
       " 29576,\n",
       " 61900,\n",
       " 46150,\n",
       " 15757,\n",
       " 16195,\n",
       " 9952,\n",
       " 39337,\n",
       " 15213,\n",
       " 11848,\n",
       " 20885,\n",
       " 29926,\n",
       " 50078,\n",
       " 4155,\n",
       " 78174,\n",
       " 29745,\n",
       " 40888,\n",
       " 15457,\n",
       " 6596,\n",
       " 6549,\n",
       " 75995,\n",
       " 41721,\n",
       " 19539,\n",
       " 87735,\n",
       " 35321,\n",
       " 21351,\n",
       " 61508,\n",
       " 20617,\n",
       " 15834,\n",
       " 65604,\n",
       " 48522,\n",
       " 39720,\n",
       " 30313,\n",
       " 9026,\n",
       " 62240,\n",
       " 28287,\n",
       " 33593,\n",
       " 37710,\n",
       " 18424,\n",
       " 80182,\n",
       " 4507,\n",
       " 119037,\n",
       " 39669,\n",
       " 13517,\n",
       " 40578,\n",
       " 37325,\n",
       " 33848,\n",
       " 76399,\n",
       " 42497,\n",
       " 25678,\n",
       " 65803,\n",
       " 56308,\n",
       " 84370,\n",
       " 27844,\n",
       " 18413,\n",
       " 5186,\n",
       " 18062,\n",
       " 71828,\n",
       " 10881,\n",
       " 93742,\n",
       " 28400,\n",
       " 5428,\n",
       " 18159,\n",
       " 18826,\n",
       " 50711,\n",
       " 116037,\n",
       " 45892,\n",
       " 18757,\n",
       " 42155,\n",
       " 46443,\n",
       " 21956,\n",
       " 8831,\n",
       " 39360,\n",
       " 8460,\n",
       " 20204,\n",
       " 11212,\n",
       " 80440,\n",
       " 71481,\n",
       " 9753,\n",
       " 91331,\n",
       " 26657,\n",
       " 83187,\n",
       " 39879,\n",
       " 39995,\n",
       " 33489,\n",
       " 15687,\n",
       " 52258,\n",
       " 64127,\n",
       " 24344,\n",
       " 12044,\n",
       " 14759,\n",
       " 120351,\n",
       " 75080,\n",
       " 42444,\n",
       " 67656,\n",
       " 25004,\n",
       " 54018,\n",
       " 10477,\n",
       " 49356,\n",
       " 8136,\n",
       " 67313,\n",
       " 5915,\n",
       " 7687,\n",
       " 13471,\n",
       " 55503,\n",
       " 17900,\n",
       " 29876,\n",
       " 11277,\n",
       " 60230,\n",
       " 53736,\n",
       " 10274,\n",
       " 26787,\n",
       " 16418,\n",
       " 58893,\n",
       " 69574,\n",
       " 23858,\n",
       " 25140,\n",
       " 24115,\n",
       " 28279,\n",
       " 73448,\n",
       " 73993,\n",
       " 61159,\n",
       " 73887,\n",
       " 17997,\n",
       " 27940,\n",
       " 15147,\n",
       " 60731,\n",
       " 49313,\n",
       " 52460,\n",
       " 54620,\n",
       " 46877,\n",
       " 22770,\n",
       " 54445,\n",
       " 55111,\n",
       " 31549,\n",
       " 18859,\n",
       " 74598,\n",
       " 12096,\n",
       " 124598,\n",
       " 38428,\n",
       " 50146,\n",
       " 54865,\n",
       " 10020,\n",
       " 24725,\n",
       " 34651,\n",
       " 15365,\n",
       " 60314,\n",
       " 76194,\n",
       " 68918,\n",
       " 32796,\n",
       " 55007,\n",
       " 34874,\n",
       " 61847,\n",
       " 77683,\n",
       " 63732,\n",
       " 15179,\n",
       " 27138,\n",
       " 37026,\n",
       " 16842,\n",
       " 56567,\n",
       " 10142,\n",
       " 8080,\n",
       " 23879,\n",
       " 36758,\n",
       " 39034,\n",
       " 7402,\n",
       " 36307,\n",
       " 30316,\n",
       " 18908,\n",
       " 44100,\n",
       " 31282,\n",
       " 126070,\n",
       " 30378,\n",
       " 62080,\n",
       " 27254,\n",
       " 42226,\n",
       " 33647,\n",
       " 27489,\n",
       " 13823,\n",
       " 5996,\n",
       " 91867,\n",
       " 72609,\n",
       " 16135,\n",
       " 15838,\n",
       " 36306,\n",
       " 68512,\n",
       " 41733,\n",
       " 22494,\n",
       " 31087,\n",
       " 28120,\n",
       " 27777,\n",
       " 17834,\n",
       " 19654,\n",
       " 64641,\n",
       " 30597,\n",
       " 73033,\n",
       " 37755,\n",
       " 37715,\n",
       " 48073,\n",
       " 6316,\n",
       " 59181,\n",
       " 51880,\n",
       " 20808,\n",
       " 73344,\n",
       " 8407,\n",
       " 5925,\n",
       " 19486,\n",
       " 17949,\n",
       " 5834,\n",
       " 67365,\n",
       " 100089,\n",
       " 78607,\n",
       " 36725,\n",
       " 6365,\n",
       " 63860,\n",
       " 86779,\n",
       " 62470,\n",
       " 4793,\n",
       " 26217,\n",
       " 38858,\n",
       " 27125,\n",
       " 16549,\n",
       " 43766,\n",
       " 36590,\n",
       " 9091,\n",
       " 78112,\n",
       " 30646,\n",
       " 62477,\n",
       " 10494,\n",
       " 48254,\n",
       " 54513,\n",
       " 13213,\n",
       " 12315,\n",
       " 24286,\n",
       " 30151,\n",
       " 14834,\n",
       " 23929,\n",
       " 23252,\n",
       " 65502,\n",
       " 28425,\n",
       " 15212,\n",
       " 19158,\n",
       " 9927,\n",
       " 7805,\n",
       " 65430,\n",
       " 49118,\n",
       " 29174,\n",
       " 11369,\n",
       " 10316,\n",
       " 18835,\n",
       " 48694,\n",
       " 17973,\n",
       " 59995,\n",
       " 5244,\n",
       " 64894,\n",
       " 62122,\n",
       " 51605,\n",
       " 15105,\n",
       " 15601,\n",
       " 29122,\n",
       " 78928,\n",
       " 23399,\n",
       " 27091,\n",
       " 48636,\n",
       " 16787,\n",
       " 24878,\n",
       " 14681,\n",
       " 14307,\n",
       " 17222,\n",
       " 48698,\n",
       " 46827,\n",
       " 83907,\n",
       " 45009,\n",
       " 43933,\n",
       " 50363,\n",
       " 79705,\n",
       " 39611,\n",
       " 74947,\n",
       " 69231,\n",
       " 5317,\n",
       " 49740,\n",
       " 15181,\n",
       " 43599,\n",
       " 6387,\n",
       " 75073,\n",
       " 22794,\n",
       " 7122,\n",
       " 63688,\n",
       " 22066,\n",
       " 9786,\n",
       " 20423,\n",
       " 114179,\n",
       " 64759,\n",
       " 8791,\n",
       " 7556,\n",
       " 57678,\n",
       " 74938,\n",
       " 27238,\n",
       " 44598,\n",
       " 63743,\n",
       " 27069,\n",
       " 102354,\n",
       " 77874,\n",
       " 6029,\n",
       " 83296,\n",
       " 54812,\n",
       " 10860,\n",
       " 63236,\n",
       " 79902,\n",
       " 105666,\n",
       " 9340,\n",
       " 41351,\n",
       " 36862,\n",
       " 53491,\n",
       " 46845,\n",
       " 16156,\n",
       " 23971,\n",
       " 24149,\n",
       " 46258,\n",
       " 19518,\n",
       " 88235,\n",
       " 31070,\n",
       " 89995,\n",
       " 52314,\n",
       " 50603,\n",
       " 20002,\n",
       " 11874,\n",
       " 90692,\n",
       " 109751,\n",
       " 31387,\n",
       " 40776,\n",
       " 14809,\n",
       " 51667,\n",
       " 73272,\n",
       " 19861,\n",
       " 25281,\n",
       " 52217,\n",
       " 16454,\n",
       " 16206,\n",
       " 36995,\n",
       " 63739,\n",
       " 6645,\n",
       " 47888,\n",
       " 37611,\n",
       " 48878,\n",
       " 55902,\n",
       " 36179,\n",
       " 65329,\n",
       " 9643,\n",
       " 62432,\n",
       " 73962,\n",
       " 9276,\n",
       " 30967,\n",
       " 25302,\n",
       " 32724,\n",
       " 27330,\n",
       " 28731,\n",
       " 24119]"
      ]
     },
     "execution_count": 140,
     "metadata": {},
     "output_type": "execute_result"
    }
   ],
   "source": []
  },
  {
   "cell_type": "code",
   "execution_count": 131,
   "id": "d7034351",
   "metadata": {},
   "outputs": [
    {
     "data": {
      "text/plain": [
       "6.324555320336759e-05"
      ]
     },
     "execution_count": 131,
     "metadata": {},
     "output_type": "execute_result"
    }
   ],
   "source": [
    "factor "
   ]
  },
  {
   "cell_type": "code",
   "execution_count": null,
   "id": "c5813366",
   "metadata": {},
   "outputs": [],
   "source": []
  },
  {
   "cell_type": "code",
   "execution_count": 106,
   "id": "538ff35e",
   "metadata": {},
   "outputs": [
    {
     "name": "stdout",
     "output_type": "stream",
     "text": [
      "0.21452650592302933\n"
     ]
    }
   ],
   "source": [
    "import numpy as np\n",
    "\n",
    "# Define the inverse Gaussian PDF function according to the given formula\n",
    "def pdf_IG(x, mu=0.625416, lambda_param=9.8298):\n",
    "    \"\"\"\n",
    "    Compute the probability density function of the Inverse Gaussian distribution.\n",
    "    \n",
    "    :param x: The value(s) at which to evaluate the PDF. Must be positive.\n",
    "    :param mu: The mean parameter of the distribution. Must be positive.\n",
    "    :param lambda_param: The shape parameter of the distribution. Must be positive.\n",
    "    :return: The probability density at x.\n",
    "    \"\"\"\n",
    "    coeff = np.sqrt(lambda_param / (2 * np.pi * x**3))\n",
    "    exp_part = np.exp(-lambda_param * ((x - mu)**2) / (2 * mu**2 * x))\n",
    "    return coeff * exp_part\n",
    "\n",
    "# Example usage:\n",
    "# Calculate the PDF at x = 1\n",
    "pdf_at_1 = pdf_IG(1)\n",
    "print(pdf_at_1)\n"
   ]
  },
  {
   "cell_type": "code",
   "execution_count": 127,
   "id": "15bf9529",
   "metadata": {},
   "outputs": [
    {
     "data": {
      "text/plain": [
       "0.3334372629080458"
      ]
     },
     "execution_count": 127,
     "metadata": {},
     "output_type": "execute_result"
    }
   ],
   "source": [
    "invgauss.pdf(1, mu) "
   ]
  },
  {
   "cell_type": "code",
   "execution_count": 101,
   "id": "7be21f5c",
   "metadata": {},
   "outputs": [
    {
     "data": {
      "text/plain": [
       "0.625416"
      ]
     },
     "execution_count": 101,
     "metadata": {},
     "output_type": "execute_result"
    }
   ],
   "source": [
    "invgauss.pdf()"
   ]
  },
  {
   "cell_type": "code",
   "execution_count": 115,
   "id": "8b4b2c22",
   "metadata": {},
   "outputs": [
    {
     "data": {
      "text/plain": [
       "9.8298"
      ]
     },
     "execution_count": 115,
     "metadata": {},
     "output_type": "execute_result"
    }
   ],
   "source": [
    "lambda_param "
   ]
  },
  {
   "cell_type": "code",
   "execution_count": null,
   "id": "90ac1afd",
   "metadata": {},
   "outputs": [],
   "source": []
  },
  {
   "cell_type": "code",
   "execution_count": 93,
   "id": "716867cb",
   "metadata": {},
   "outputs": [
    {
     "data": {
      "text/plain": [
       "0.15760331875959033"
      ]
     },
     "execution_count": 93,
     "metadata": {},
     "output_type": "execute_result"
    }
   ],
   "source": [
    "np.sqrt(0.625**3/9.829)"
   ]
  },
  {
   "cell_type": "code",
   "execution_count": null,
   "id": "721e564a",
   "metadata": {},
   "outputs": [],
   "source": []
  },
  {
   "cell_type": "code",
   "execution_count": 77,
   "id": "31221ef5",
   "metadata": {},
   "outputs": [
    {
     "data": {
      "text/plain": [
       "[<matplotlib.lines.Line2D at 0x3da75598>]"
      ]
     },
     "execution_count": 77,
     "metadata": {},
     "output_type": "execute_result"
    },
    {
     "data": {
      "text/plain": [
       "Text(0.5, 1.0, 'PDF of A')"
      ]
     },
     "execution_count": 77,
     "metadata": {},
     "output_type": "execute_result"
    },
    {
     "data": {
      "text/plain": [
       "Text(0.5, 0, 'A')"
      ]
     },
     "execution_count": 77,
     "metadata": {},
     "output_type": "execute_result"
    },
    {
     "data": {
      "text/plain": [
       "Text(0, 0.5, 'Probability Density')"
      ]
     },
     "execution_count": 77,
     "metadata": {},
     "output_type": "execute_result"
    },
    {
     "data": {
      "text/plain": [
       "<matplotlib.legend.Legend at 0x3db6f4d8>"
      ]
     },
     "execution_count": 77,
     "metadata": {},
     "output_type": "execute_result"
    },
    {
     "data": {
      "image/png": "[encoded data removed]",
      "text/plain": [
       "<Figure size 432x288 with 1 Axes>"
      ]
     },
     "metadata": {
      "needs_background": "light"
     },
     "output_type": "display_data"
    }
   ],
   "source": [
    "from scipy.stats import invgauss\n",
    "\n",
    "# 反高斯分布的参数\n",
    "mu = 0.625416\n",
    "shape = 9.82985\n",
    "scale = 2 * 1000**(-3/2)\n",
    "\n",
    "# 创建反高斯分布对象\n",
    "inv_gauss = invgauss(mu=shape/mu)\n",
    "\n",
    "# 设定 A 的范围（这里假设 A 的取值范围为0到5）\n",
    "a_values = np.linspace(0, 5, 1000)\n",
    "\n",
    "# 计算 Z 对应的值\n",
    "z_values = scale * a_values\n",
    "\n",
    "# 计算 Z 的 PDF\n",
    "z_pdf = inv_gauss.pdf(z_values)\n",
    "\n",
    "# 由于变量变换，我们需要乘以 |dz/da| 的绝对值\n",
    "dz_da = scale\n",
    "a_pdf = z_pdf * dz_da\n",
    "\n",
    "# 绘制 A 的 PDF\n",
    "plt.plot(a_values, a_pdf, 'r-', lw=2, label='PDF of A')\n",
    "\n",
    "# 添加标签和图例\n",
    "plt.title('PDF of A')\n",
    "plt.xlabel('A')\n",
    "plt.ylabel('Probability Density')\n",
    "plt.legend()\n",
    "\n",
    "# 显示图表\n",
    "plt.show()"
   ]
  },
  {
   "cell_type": "code",
   "execution_count": 76,
   "id": "83b9b890",
   "metadata": {},
   "outputs": [
    {
     "data": {
      "text/plain": [
       "array([0.        , 0.001001  , 0.002002  , 0.003003  , 0.004004  ,\n",
       "       0.00500501, 0.00600601, 0.00700701, 0.00800801, 0.00900901,\n",
       "       0.01001001, 0.01101101, 0.01201201, 0.01301301, 0.01401401,\n",
       "       0.01501502, 0.01601602, 0.01701702, 0.01801802, 0.01901902,\n",
       "       0.02002002, 0.02102102, 0.02202202, 0.02302302, 0.02402402,\n",
       "       0.02502503, 0.02602603, 0.02702703, 0.02802803, 0.02902903,\n",
       "       0.03003003, 0.03103103, 0.03203203, 0.03303303, 0.03403403,\n",
       "       0.03503504, 0.03603604, 0.03703704, 0.03803804, 0.03903904,\n",
       "       0.04004004, 0.04104104, 0.04204204, 0.04304304, 0.04404404,\n",
       "       0.04504505, 0.04604605, 0.04704705, 0.04804805, 0.04904905,\n",
       "       0.05005005, 0.05105105, 0.05205205, 0.05305305, 0.05405405,\n",
       "       0.05505506, 0.05605606, 0.05705706, 0.05805806, 0.05905906,\n",
       "       0.06006006, 0.06106106, 0.06206206, 0.06306306, 0.06406406,\n",
       "       0.06506507, 0.06606607, 0.06706707, 0.06806807, 0.06906907,\n",
       "       0.07007007, 0.07107107, 0.07207207, 0.07307307, 0.07407407,\n",
       "       0.07507508, 0.07607608, 0.07707708, 0.07807808, 0.07907908,\n",
       "       0.08008008, 0.08108108, 0.08208208, 0.08308308, 0.08408408,\n",
       "       0.08508509, 0.08608609, 0.08708709, 0.08808809, 0.08908909,\n",
       "       0.09009009, 0.09109109, 0.09209209, 0.09309309, 0.09409409,\n",
       "       0.0950951 , 0.0960961 , 0.0970971 , 0.0980981 , 0.0990991 ,\n",
       "       0.1001001 , 0.1011011 , 0.1021021 , 0.1031031 , 0.1041041 ,\n",
       "       0.10510511, 0.10610611, 0.10710711, 0.10810811, 0.10910911,\n",
       "       0.11011011, 0.11111111, 0.11211211, 0.11311311, 0.11411411,\n",
       "       0.11511512, 0.11611612, 0.11711712, 0.11811812, 0.11911912,\n",
       "       0.12012012, 0.12112112, 0.12212212, 0.12312312, 0.12412412,\n",
       "       0.12512513, 0.12612613, 0.12712713, 0.12812813, 0.12912913,\n",
       "       0.13013013, 0.13113113, 0.13213213, 0.13313313, 0.13413413,\n",
       "       0.13513514, 0.13613614, 0.13713714, 0.13813814, 0.13913914,\n",
       "       0.14014014, 0.14114114, 0.14214214, 0.14314314, 0.14414414,\n",
       "       0.14514515, 0.14614615, 0.14714715, 0.14814815, 0.14914915,\n",
       "       0.15015015, 0.15115115, 0.15215215, 0.15315315, 0.15415415,\n",
       "       0.15515516, 0.15615616, 0.15715716, 0.15815816, 0.15915916,\n",
       "       0.16016016, 0.16116116, 0.16216216, 0.16316316, 0.16416416,\n",
       "       0.16516517, 0.16616617, 0.16716717, 0.16816817, 0.16916917,\n",
       "       0.17017017, 0.17117117, 0.17217217, 0.17317317, 0.17417417,\n",
       "       0.17517518, 0.17617618, 0.17717718, 0.17817818, 0.17917918,\n",
       "       0.18018018, 0.18118118, 0.18218218, 0.18318318, 0.18418418,\n",
       "       0.18518519, 0.18618619, 0.18718719, 0.18818819, 0.18918919,\n",
       "       0.19019019, 0.19119119, 0.19219219, 0.19319319, 0.19419419,\n",
       "       0.1951952 , 0.1961962 , 0.1971972 , 0.1981982 , 0.1991992 ,\n",
       "       0.2002002 , 0.2012012 , 0.2022022 , 0.2032032 , 0.2042042 ,\n",
       "       0.20520521, 0.20620621, 0.20720721, 0.20820821, 0.20920921,\n",
       "       0.21021021, 0.21121121, 0.21221221, 0.21321321, 0.21421421,\n",
       "       0.21521522, 0.21621622, 0.21721722, 0.21821822, 0.21921922,\n",
       "       0.22022022, 0.22122122, 0.22222222, 0.22322322, 0.22422422,\n",
       "       0.22522523, 0.22622623, 0.22722723, 0.22822823, 0.22922923,\n",
       "       0.23023023, 0.23123123, 0.23223223, 0.23323323, 0.23423423,\n",
       "       0.23523524, 0.23623624, 0.23723724, 0.23823824, 0.23923924,\n",
       "       0.24024024, 0.24124124, 0.24224224, 0.24324324, 0.24424424,\n",
       "       0.24524525, 0.24624625, 0.24724725, 0.24824825, 0.24924925,\n",
       "       0.25025025, 0.25125125, 0.25225225, 0.25325325, 0.25425425,\n",
       "       0.25525526, 0.25625626, 0.25725726, 0.25825826, 0.25925926,\n",
       "       0.26026026, 0.26126126, 0.26226226, 0.26326326, 0.26426426,\n",
       "       0.26526527, 0.26626627, 0.26726727, 0.26826827, 0.26926927,\n",
       "       0.27027027, 0.27127127, 0.27227227, 0.27327327, 0.27427427,\n",
       "       0.27527528, 0.27627628, 0.27727728, 0.27827828, 0.27927928,\n",
       "       0.28028028, 0.28128128, 0.28228228, 0.28328328, 0.28428428,\n",
       "       0.28528529, 0.28628629, 0.28728729, 0.28828829, 0.28928929,\n",
       "       0.29029029, 0.29129129, 0.29229229, 0.29329329, 0.29429429,\n",
       "       0.2952953 , 0.2962963 , 0.2972973 , 0.2982983 , 0.2992993 ,\n",
       "       0.3003003 , 0.3013013 , 0.3023023 , 0.3033033 , 0.3043043 ,\n",
       "       0.30530531, 0.30630631, 0.30730731, 0.30830831, 0.30930931,\n",
       "       0.31031031, 0.31131131, 0.31231231, 0.31331331, 0.31431431,\n",
       "       0.31531532, 0.31631632, 0.31731732, 0.31831832, 0.31931932,\n",
       "       0.32032032, 0.32132132, 0.32232232, 0.32332332, 0.32432432,\n",
       "       0.32532533, 0.32632633, 0.32732733, 0.32832833, 0.32932933,\n",
       "       0.33033033, 0.33133133, 0.33233233, 0.33333333, 0.33433433,\n",
       "       0.33533534, 0.33633634, 0.33733734, 0.33833834, 0.33933934,\n",
       "       0.34034034, 0.34134134, 0.34234234, 0.34334334, 0.34434434,\n",
       "       0.34534535, 0.34634635, 0.34734735, 0.34834835, 0.34934935,\n",
       "       0.35035035, 0.35135135, 0.35235235, 0.35335335, 0.35435435,\n",
       "       0.35535536, 0.35635636, 0.35735736, 0.35835836, 0.35935936,\n",
       "       0.36036036, 0.36136136, 0.36236236, 0.36336336, 0.36436436,\n",
       "       0.36536537, 0.36636637, 0.36736737, 0.36836837, 0.36936937,\n",
       "       0.37037037, 0.37137137, 0.37237237, 0.37337337, 0.37437437,\n",
       "       0.37537538, 0.37637638, 0.37737738, 0.37837838, 0.37937938,\n",
       "       0.38038038, 0.38138138, 0.38238238, 0.38338338, 0.38438438,\n",
       "       0.38538539, 0.38638639, 0.38738739, 0.38838839, 0.38938939,\n",
       "       0.39039039, 0.39139139, 0.39239239, 0.39339339, 0.39439439,\n",
       "       0.3953954 , 0.3963964 , 0.3973974 , 0.3983984 , 0.3993994 ,\n",
       "       0.4004004 , 0.4014014 , 0.4024024 , 0.4034034 , 0.4044044 ,\n",
       "       0.40540541, 0.40640641, 0.40740741, 0.40840841, 0.40940941,\n",
       "       0.41041041, 0.41141141, 0.41241241, 0.41341341, 0.41441441,\n",
       "       0.41541542, 0.41641642, 0.41741742, 0.41841842, 0.41941942,\n",
       "       0.42042042, 0.42142142, 0.42242242, 0.42342342, 0.42442442,\n",
       "       0.42542543, 0.42642643, 0.42742743, 0.42842843, 0.42942943,\n",
       "       0.43043043, 0.43143143, 0.43243243, 0.43343343, 0.43443443,\n",
       "       0.43543544, 0.43643644, 0.43743744, 0.43843844, 0.43943944,\n",
       "       0.44044044, 0.44144144, 0.44244244, 0.44344344, 0.44444444,\n",
       "       0.44544545, 0.44644645, 0.44744745, 0.44844845, 0.44944945,\n",
       "       0.45045045, 0.45145145, 0.45245245, 0.45345345, 0.45445445,\n",
       "       0.45545546, 0.45645646, 0.45745746, 0.45845846, 0.45945946,\n",
       "       0.46046046, 0.46146146, 0.46246246, 0.46346346, 0.46446446,\n",
       "       0.46546547, 0.46646647, 0.46746747, 0.46846847, 0.46946947,\n",
       "       0.47047047, 0.47147147, 0.47247247, 0.47347347, 0.47447447,\n",
       "       0.47547548, 0.47647648, 0.47747748, 0.47847848, 0.47947948,\n",
       "       0.48048048, 0.48148148, 0.48248248, 0.48348348, 0.48448448,\n",
       "       0.48548549, 0.48648649, 0.48748749, 0.48848849, 0.48948949,\n",
       "       0.49049049, 0.49149149, 0.49249249, 0.49349349, 0.49449449,\n",
       "       0.4954955 , 0.4964965 , 0.4974975 , 0.4984985 , 0.4994995 ,\n",
       "       0.5005005 , 0.5015015 , 0.5025025 , 0.5035035 , 0.5045045 ,\n",
       "       0.50550551, 0.50650651, 0.50750751, 0.50850851, 0.50950951,\n",
       "       0.51051051, 0.51151151, 0.51251251, 0.51351351, 0.51451451,\n",
       "       0.51551552, 0.51651652, 0.51751752, 0.51851852, 0.51951952,\n",
       "       0.52052052, 0.52152152, 0.52252252, 0.52352352, 0.52452452,\n",
       "       0.52552553, 0.52652653, 0.52752753, 0.52852853, 0.52952953,\n",
       "       0.53053053, 0.53153153, 0.53253253, 0.53353353, 0.53453453,\n",
       "       0.53553554, 0.53653654, 0.53753754, 0.53853854, 0.53953954,\n",
       "       0.54054054, 0.54154154, 0.54254254, 0.54354354, 0.54454454,\n",
       "       0.54554555, 0.54654655, 0.54754755, 0.54854855, 0.54954955,\n",
       "       0.55055055, 0.55155155, 0.55255255, 0.55355355, 0.55455455,\n",
       "       0.55555556, 0.55655656, 0.55755756, 0.55855856, 0.55955956,\n",
       "       0.56056056, 0.56156156, 0.56256256, 0.56356356, 0.56456456,\n",
       "       0.56556557, 0.56656657, 0.56756757, 0.56856857, 0.56956957,\n",
       "       0.57057057, 0.57157157, 0.57257257, 0.57357357, 0.57457457,\n",
       "       0.57557558, 0.57657658, 0.57757758, 0.57857858, 0.57957958,\n",
       "       0.58058058, 0.58158158, 0.58258258, 0.58358358, 0.58458458,\n",
       "       0.58558559, 0.58658659, 0.58758759, 0.58858859, 0.58958959,\n",
       "       0.59059059, 0.59159159, 0.59259259, 0.59359359, 0.59459459,\n",
       "       0.5955956 , 0.5965966 , 0.5975976 , 0.5985986 , 0.5995996 ,\n",
       "       0.6006006 , 0.6016016 , 0.6026026 , 0.6036036 , 0.6046046 ,\n",
       "       0.60560561, 0.60660661, 0.60760761, 0.60860861, 0.60960961,\n",
       "       0.61061061, 0.61161161, 0.61261261, 0.61361361, 0.61461461,\n",
       "       0.61561562, 0.61661662, 0.61761762, 0.61861862, 0.61961962,\n",
       "       0.62062062, 0.62162162, 0.62262262, 0.62362362, 0.62462462,\n",
       "       0.62562563, 0.62662663, 0.62762763, 0.62862863, 0.62962963,\n",
       "       0.63063063, 0.63163163, 0.63263263, 0.63363363, 0.63463463,\n",
       "       0.63563564, 0.63663664, 0.63763764, 0.63863864, 0.63963964,\n",
       "       0.64064064, 0.64164164, 0.64264264, 0.64364364, 0.64464464,\n",
       "       0.64564565, 0.64664665, 0.64764765, 0.64864865, 0.64964965,\n",
       "       0.65065065, 0.65165165, 0.65265265, 0.65365365, 0.65465465,\n",
       "       0.65565566, 0.65665666, 0.65765766, 0.65865866, 0.65965966,\n",
       "       0.66066066, 0.66166166, 0.66266266, 0.66366366, 0.66466466,\n",
       "       0.66566567, 0.66666667, 0.66766767, 0.66866867, 0.66966967,\n",
       "       0.67067067, 0.67167167, 0.67267267, 0.67367367, 0.67467467,\n",
       "       0.67567568, 0.67667668, 0.67767768, 0.67867868, 0.67967968,\n",
       "       0.68068068, 0.68168168, 0.68268268, 0.68368368, 0.68468468,\n",
       "       0.68568569, 0.68668669, 0.68768769, 0.68868869, 0.68968969,\n",
       "       0.69069069, 0.69169169, 0.69269269, 0.69369369, 0.69469469,\n",
       "       0.6956957 , 0.6966967 , 0.6976977 , 0.6986987 , 0.6996997 ,\n",
       "       0.7007007 , 0.7017017 , 0.7027027 , 0.7037037 , 0.7047047 ,\n",
       "       0.70570571, 0.70670671, 0.70770771, 0.70870871, 0.70970971,\n",
       "       0.71071071, 0.71171171, 0.71271271, 0.71371371, 0.71471471,\n",
       "       0.71571572, 0.71671672, 0.71771772, 0.71871872, 0.71971972,\n",
       "       0.72072072, 0.72172172, 0.72272272, 0.72372372, 0.72472472,\n",
       "       0.72572573, 0.72672673, 0.72772773, 0.72872873, 0.72972973,\n",
       "       0.73073073, 0.73173173, 0.73273273, 0.73373373, 0.73473473,\n",
       "       0.73573574, 0.73673674, 0.73773774, 0.73873874, 0.73973974,\n",
       "       0.74074074, 0.74174174, 0.74274274, 0.74374374, 0.74474474,\n",
       "       0.74574575, 0.74674675, 0.74774775, 0.74874875, 0.74974975,\n",
       "       0.75075075, 0.75175175, 0.75275275, 0.75375375, 0.75475475,\n",
       "       0.75575576, 0.75675676, 0.75775776, 0.75875876, 0.75975976,\n",
       "       0.76076076, 0.76176176, 0.76276276, 0.76376376, 0.76476476,\n",
       "       0.76576577, 0.76676677, 0.76776777, 0.76876877, 0.76976977,\n",
       "       0.77077077, 0.77177177, 0.77277277, 0.77377377, 0.77477477,\n",
       "       0.77577578, 0.77677678, 0.77777778, 0.77877878, 0.77977978,\n",
       "       0.78078078, 0.78178178, 0.78278278, 0.78378378, 0.78478478,\n",
       "       0.78578579, 0.78678679, 0.78778779, 0.78878879, 0.78978979,\n",
       "       0.79079079, 0.79179179, 0.79279279, 0.79379379, 0.79479479,\n",
       "       0.7957958 , 0.7967968 , 0.7977978 , 0.7987988 , 0.7997998 ,\n",
       "       0.8008008 , 0.8018018 , 0.8028028 , 0.8038038 , 0.8048048 ,\n",
       "       0.80580581, 0.80680681, 0.80780781, 0.80880881, 0.80980981,\n",
       "       0.81081081, 0.81181181, 0.81281281, 0.81381381, 0.81481481,\n",
       "       0.81581582, 0.81681682, 0.81781782, 0.81881882, 0.81981982,\n",
       "       0.82082082, 0.82182182, 0.82282282, 0.82382382, 0.82482482,\n",
       "       0.82582583, 0.82682683, 0.82782783, 0.82882883, 0.82982983,\n",
       "       0.83083083, 0.83183183, 0.83283283, 0.83383383, 0.83483483,\n",
       "       0.83583584, 0.83683684, 0.83783784, 0.83883884, 0.83983984,\n",
       "       0.84084084, 0.84184184, 0.84284284, 0.84384384, 0.84484484,\n",
       "       0.84584585, 0.84684685, 0.84784785, 0.84884885, 0.84984985,\n",
       "       0.85085085, 0.85185185, 0.85285285, 0.85385385, 0.85485485,\n",
       "       0.85585586, 0.85685686, 0.85785786, 0.85885886, 0.85985986,\n",
       "       0.86086086, 0.86186186, 0.86286286, 0.86386386, 0.86486486,\n",
       "       0.86586587, 0.86686687, 0.86786787, 0.86886887, 0.86986987,\n",
       "       0.87087087, 0.87187187, 0.87287287, 0.87387387, 0.87487487,\n",
       "       0.87587588, 0.87687688, 0.87787788, 0.87887888, 0.87987988,\n",
       "       0.88088088, 0.88188188, 0.88288288, 0.88388388, 0.88488488,\n",
       "       0.88588589, 0.88688689, 0.88788789, 0.88888889, 0.88988989,\n",
       "       0.89089089, 0.89189189, 0.89289289, 0.89389389, 0.89489489,\n",
       "       0.8958959 , 0.8968969 , 0.8978979 , 0.8988989 , 0.8998999 ,\n",
       "       0.9009009 , 0.9019019 , 0.9029029 , 0.9039039 , 0.9049049 ,\n",
       "       0.90590591, 0.90690691, 0.90790791, 0.90890891, 0.90990991,\n",
       "       0.91091091, 0.91191191, 0.91291291, 0.91391391, 0.91491491,\n",
       "       0.91591592, 0.91691692, 0.91791792, 0.91891892, 0.91991992,\n",
       "       0.92092092, 0.92192192, 0.92292292, 0.92392392, 0.92492492,\n",
       "       0.92592593, 0.92692693, 0.92792793, 0.92892893, 0.92992993,\n",
       "       0.93093093, 0.93193193, 0.93293293, 0.93393393, 0.93493493,\n",
       "       0.93593594, 0.93693694, 0.93793794, 0.93893894, 0.93993994,\n",
       "       0.94094094, 0.94194194, 0.94294294, 0.94394394, 0.94494494,\n",
       "       0.94594595, 0.94694695, 0.94794795, 0.94894895, 0.94994995,\n",
       "       0.95095095, 0.95195195, 0.95295295, 0.95395395, 0.95495495,\n",
       "       0.95595596, 0.95695696, 0.95795796, 0.95895896, 0.95995996,\n",
       "       0.96096096, 0.96196196, 0.96296296, 0.96396396, 0.96496496,\n",
       "       0.96596597, 0.96696697, 0.96796797, 0.96896897, 0.96996997,\n",
       "       0.97097097, 0.97197197, 0.97297297, 0.97397397, 0.97497497,\n",
       "       0.97597598, 0.97697698, 0.97797798, 0.97897898, 0.97997998,\n",
       "       0.98098098, 0.98198198, 0.98298298, 0.98398398, 0.98498498,\n",
       "       0.98598599, 0.98698699, 0.98798799, 0.98898899, 0.98998999,\n",
       "       0.99099099, 0.99199199, 0.99299299, 0.99399399, 0.99499499,\n",
       "       0.995996  , 0.996997  , 0.997998  , 0.998999  , 1.        ])"
      ]
     },
     "execution_count": 76,
     "metadata": {},
     "output_type": "execute_result"
    },
    {
     "data": {
      "text/plain": [
       "6.324555320336759e-05"
      ]
     },
     "execution_count": 76,
     "metadata": {},
     "output_type": "execute_result"
    },
    {
     "data": {
      "text/plain": [
       "6.324555320336759e-05"
      ]
     },
     "execution_count": 76,
     "metadata": {},
     "output_type": "execute_result"
    },
    {
     "data": {
      "text/plain": [
       "1000"
      ]
     },
     "execution_count": 76,
     "metadata": {},
     "output_type": "execute_result"
    }
   ],
   "source": [
    "np.linspace(0, 1, 1000)\n",
    "factor \n",
    "2*L**(-3/2)\n",
    "L "
   ]
  },
  {
   "cell_type": "code",
   "execution_count": 46,
   "id": "f2930ace",
   "metadata": {},
   "outputs": [
    {
     "data": {
      "text/plain": [
       "Counter({3: 1,\n",
       "         15: 1,\n",
       "         2: 9,\n",
       "         10: 3,\n",
       "         23: 1,\n",
       "         28: 1,\n",
       "         32: 1,\n",
       "         13: 1,\n",
       "         43: 1,\n",
       "         49: 1,\n",
       "         81: 2,\n",
       "         135: 1,\n",
       "         6: 3,\n",
       "         20: 1,\n",
       "         33: 1,\n",
       "         61: 1,\n",
       "         140: 1,\n",
       "         145: 1,\n",
       "         212: 1,\n",
       "         239: 1,\n",
       "         264: 1,\n",
       "         344: 1,\n",
       "         355: 1,\n",
       "         427: 1,\n",
       "         182: 1,\n",
       "         188: 2,\n",
       "         194: 1,\n",
       "         200: 1,\n",
       "         4: 2,\n",
       "         8: 4,\n",
       "         12: 1,\n",
       "         5: 3,\n",
       "         24: 2,\n",
       "         30: 1,\n",
       "         55: 2,\n",
       "         79: 1,\n",
       "         141: 1,\n",
       "         154: 1,\n",
       "         220: 1,\n",
       "         233: 1,\n",
       "         285: 1,\n",
       "         308: 1,\n",
       "         374: 2,\n",
       "         435: 1,\n",
       "         371: 1,\n",
       "         487: 1,\n",
       "         333: 1,\n",
       "         351: 1,\n",
       "         357: 1,\n",
       "         482: 1,\n",
       "         468: 2,\n",
       "         560: 1,\n",
       "         525: 1,\n",
       "         533: 1,\n",
       "         539: 1,\n",
       "         566: 1,\n",
       "         713: 1,\n",
       "         774: 1,\n",
       "         773: 1,\n",
       "         810: 1,\n",
       "         18: 1,\n",
       "         31: 1,\n",
       "         34: 1,\n",
       "         46: 1,\n",
       "         75: 1,\n",
       "         97: 1,\n",
       "         101: 1,\n",
       "         74: 1,\n",
       "         68: 2,\n",
       "         73: 1,\n",
       "         98: 1,\n",
       "         125: 1,\n",
       "         195: 1,\n",
       "         230: 1,\n",
       "         276: 1,\n",
       "         288: 1,\n",
       "         323: 1,\n",
       "         175: 1,\n",
       "         181: 1,\n",
       "         7: 1,\n",
       "         39: 1,\n",
       "         21: 1,\n",
       "         35: 1,\n",
       "         38: 1,\n",
       "         59: 1,\n",
       "         83: 1,\n",
       "         161: 1,\n",
       "         117: 1,\n",
       "         207: 1,\n",
       "         132: 1,\n",
       "         138: 1,\n",
       "         149: 1,\n",
       "         146: 1,\n",
       "         162: 1,\n",
       "         244: 1,\n",
       "         263: 1,\n",
       "         400: 1,\n",
       "         502: 1,\n",
       "         522: 1,\n",
       "         534: 1,\n",
       "         540: 1,\n",
       "         612: 1,\n",
       "         703: 1})"
      ]
     },
     "execution_count": 46,
     "metadata": {},
     "output_type": "execute_result"
    },
    {
     "data": {
      "text/plain": [
       "810"
      ]
     },
     "execution_count": 46,
     "metadata": {},
     "output_type": "execute_result"
    }
   ],
   "source": [
    "jam_size_counter\n",
    "\n",
    "int(max(jam_size_counter.keys()))"
   ]
  },
  {
   "cell_type": "code",
   "execution_count": 29,
   "id": "ae649282",
   "metadata": {},
   "outputs": [
    {
     "data": {
      "text/plain": [
       "46847"
      ]
     },
     "execution_count": 29,
     "metadata": {},
     "output_type": "execute_result"
    },
    {
     "data": {
      "text/plain": [
       "250000.0"
      ]
     },
     "execution_count": 29,
     "metadata": {},
     "output_type": "execute_result"
    }
   ],
   "source": [
    "plt.figure(figsize=(12,6))\n",
    "plt.loglog(x, y, marker='o')\n",
    "plt.title(\"Log-Log Plot Example\")\n",
    "plt.xlabel(\"X axis\")\n",
    "plt.ylabel(\"Y axis\")\n",
    "\n",
    "# 显示图表\n",
    "plt.show()"
   ]
  },
  {
   "cell_type": "code",
   "execution_count": 50,
   "id": "7a9dd74f",
   "metadata": {},
   "outputs": [
    {
     "data": {
      "text/plain": [
       "<Figure size 864x432 with 0 Axes>"
      ]
     },
     "execution_count": 50,
     "metadata": {},
     "output_type": "execute_result"
    },
    {
     "data": {
      "text/plain": [
       "Text(0.5, 1.0, 'Jam Lifespans')"
      ]
     },
     "execution_count": 50,
     "metadata": {},
     "output_type": "execute_result"
    },
    {
     "data": {
      "text/plain": [
       "[<matplotlib.lines.Line2D at 0x5c47748>]"
      ]
     },
     "execution_count": 50,
     "metadata": {},
     "output_type": "execute_result"
    },
    {
     "data": {
      "text/plain": [
       "Text(0.5, 0, 'Jam lifespan')"
      ]
     },
     "execution_count": 50,
     "metadata": {},
     "output_type": "execute_result"
    },
    {
     "data": {
      "text/plain": [
       "Text(0, 0.5, 'Number of jams')"
      ]
     },
     "execution_count": 50,
     "metadata": {},
     "output_type": "execute_result"
    },
    {
     "data": {
      "text/plain": [
       "<matplotlib.lines.Line2D at 0x5c47160>"
      ]
     },
     "execution_count": 50,
     "metadata": {},
     "output_type": "execute_result"
    },
    {
     "data": {
      "image/png": "[encoded data removed]",
      "text/plain": [
       "<Figure size 864x432 with 1 Axes>"
      ]
     },
     "metadata": {
      "needs_background": "light"
     },
     "output_type": "display_data"
    },
    {
     "data": {
      "text/plain": [
       "<Figure size 864x432 with 0 Axes>"
      ]
     },
     "execution_count": 50,
     "metadata": {},
     "output_type": "execute_result"
    },
    {
     "data": {
      "text/plain": [
       "Text(0.5, 1.0, 'Jam Sizes')"
      ]
     },
     "execution_count": 50,
     "metadata": {},
     "output_type": "execute_result"
    },
    {
     "data": {
      "text/plain": [
       "[<matplotlib.lines.Line2D at 0x22a81f58>]"
      ]
     },
     "execution_count": 50,
     "metadata": {},
     "output_type": "execute_result"
    },
    {
     "data": {
      "text/plain": [
       "Text(0.5, 0, 'Jam size')"
      ]
     },
     "execution_count": 50,
     "metadata": {},
     "output_type": "execute_result"
    },
    {
     "data": {
      "text/plain": [
       "Text(0, 0.5, 'Number of jams')"
      ]
     },
     "execution_count": 50,
     "metadata": {},
     "output_type": "execute_result"
    },
    {
     "data": {
      "image/png": "[encoded data removed]",
      "text/plain": [
       "<Figure size 864x432 with 1 Axes>"
      ]
     },
     "metadata": {
      "needs_background": "light"
     },
     "output_type": "display_data"
    }
   ],
   "source": [
    "plt.figure(figsize=(12,6))\n",
    "plt.title(f'Jam Lifespans')\n",
    "plt.loglog(range(1, int(max(lifespan_counter.keys()))), [lifespan_counter[i] for i in range(1, int(max(lifespan_counter.keys())))], 'o')\n",
    "plt.xlabel('Jam lifespan')\n",
    "plt.ylabel('Number of jams')\n",
    "\n",
    "# Add a vertical line at T\n",
    "plt.axvline(x=T, color='red', linestyle='--')\n",
    "plt.show()\n",
    "\n",
    "plt.figure(figsize=(12,6))\n",
    "plt.title(f'Jam Sizes') \n",
    "plt.loglog(range(1, int(max(jam_size_counter.keys()))), [jam_size_counter[i] for i in range(1, int(max(jam_size_counter.keys())))], 'o')\n",
    "plt.xlabel('Jam size')\n",
    "plt.ylabel('Number of jams')\n",
    "plt.show()"
   ]
  },
  {
   "cell_type": "code",
   "execution_count": null,
   "id": "499c0dab",
   "metadata": {},
   "outputs": [],
   "source": []
  },
  {
   "cell_type": "code",
   "execution_count": null,
   "id": "3c8c4710",
   "metadata": {},
   "outputs": [],
   "source": []
  },
  {
   "cell_type": "code",
   "execution_count": null,
   "id": "aba0aaa4",
   "metadata": {},
   "outputs": [],
   "source": []
  }
 ],
 "metadata": {
  "kernelspec": {
   "display_name": "Python 3",
   "language": "python",
   "name": "python3"
  },
  "language_info": {
   "codemirror_mode": {
    "name": "ipython",
    "version": 3
   },
   "file_extension": ".py",
   "mimetype": "text/x-python",
   "name": "python",
   "nbconvert_exporter": "python",
   "pygments_lexer": "ipython3",
   "version": "3.8.8"
  }
 },
 "nbformat": 4,
 "nbformat_minor": 5
}
