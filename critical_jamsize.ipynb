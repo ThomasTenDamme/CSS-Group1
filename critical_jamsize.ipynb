{
 "cells": [
  {
   "cell_type": "code",
   "execution_count": 2,
   "metadata": {},
   "outputs": [],
   "source": [
    "import importlib\n",
    "import modules\n",
    "import cellpylib as cpl\n",
    "import numpy as np\n",
    "import matplotlib.pyplot as plt\n",
    "import scipy\n",
    "\n",
    "importlib.reload(modules)\n",
    "\n",
    "from modules import run_model_stochastic\n",
    "from modules import CA\n"
   ]
  },
  {
   "cell_type": "code",
   "execution_count": 5,
   "metadata": {},
   "outputs": [],
   "source": [
    "def func(x, a, b):\n",
    "    return [a * x_i ** -b for x_i in x]\n",
    "\n",
    "def single_fit(x, y):\n",
    "    popt1, pcov1 = scipy.optimize.curve_fit(func, x, y, p0=[1, 0.5])\n",
    "    a1, b1 = popt1\n",
    "\n",
    "    return a1, b1\n",
    "        \n",
    "def double_fit(x, y):\n",
    "    highest_b2 = 0\n",
    "\n",
    "    for index in range(int(len(x)*0.2), int(len(x)*0.8)):\n",
    "        popt1, pcov1 = scipy.optimize.curve_fit(func, x[0:index], y[0:index], p0=[1, 0.5], maxfev=5000)\n",
    "        a1, b1 = popt1\n",
    "\n",
    "        popt2, pcov2 = scipy.optimize.curve_fit(func, x[index:], y[index:], p0=[1, 0.5], maxfev=5000)\n",
    "        a2, b2 = popt2\n",
    "\n",
    "        if b2 > highest_b2:\n",
    "            # Find steepest line\n",
    "            highest_b2 = b2\n",
    "\n",
    "            best_a1, best_b1, best_a2, best_b2 = a1, b1, a2, b2\n",
    "\n",
    "            optimal_index = index\n",
    "\n",
    "    return best_a1, best_b1, best_a2, best_b2, optimal_index\n",
    "\n",
    "def find_intersection(x_data, a1, b1, a2, b2):\n",
    "    # Finds the first intersection which will automatically be the point where y1 > y2\n",
    "    x = np.linspace(1, np.max(x_data), np.max(x_data))\n",
    "    y1 = func(x, a1, b1)\n",
    "    y2 = func(x, a2, b2)\n",
    "    for index in range(len(x)):\n",
    "        if y1[index] >= y2[index]:\n",
    "            return x[index]\n",
    "        \n",
    "    return None\n",
    "\n",
    "def plot_fit(x, y, a1, b1, a2, b2):\n",
    "    plt.clf()\n",
    "    plt.loglog(x, y, 'o', markersize=2)\n",
    "    plt.xlim(0, 1.1*np.max(x))\n",
    "    plt.ylim(0, 1.1*np.max(y))\n",
    "    plt.loglog(x, func(x, a1, b1))\n",
    "    plt.loglog(x, func(x, a2, b2))\n",
    "    plt.show()\n",
    "\n",
    "def find_critical_size(density_list, n_simulations, L, T, n_repetitions):\n",
    "    critical_size_dict = {}\n",
    "    critical_size = None\n",
    "    for p in density_list:\n",
    "        for n in range(n_simulations): \n",
    "            print(p, n, critical_size)\n",
    "            lifespan_counter, final_jams_counted = run_model_stochastic(p, L, T, n_repetitions, v_max=5)\n",
    "            lists = sorted(final_jams_counted.items()) # sorted by key, return a list of tuples\n",
    "\n",
    "            x_data, y_data = zip(*lists)\n",
    "            a_optimal1, b_optimal1, a_optimal2, b_optimal2, optimal_index = double_fit(x_data, y_data)\n",
    "\n",
    "            critical_size = find_intersection(x_data, a_optimal1, b_optimal1, a_optimal2, b_optimal2)\n",
    "\n",
    "            if critical_size == None:\n",
    "                # If lines do not intersect skip to the next density\n",
    "                if p in critical_size_dict:\n",
    "                    del critical_size_dict[p]        \n",
    "                break\n",
    "\n",
    "            else:\n",
    "                if p not in critical_size_dict:\n",
    "                    critical_size_dict[p] = [critical_size]\n",
    "                else:\n",
    "                    critical_size_dict[p] += [critical_size]\n",
    "\n",
    "    return critical_size_dict\n",
    "        "
   ]
  },
  {
   "cell_type": "code",
   "execution_count": 7,
   "metadata": {},
   "outputs": [
    {
     "name": "stdout",
     "output_type": "stream",
     "text": [
      "0.5 0 None\n",
      "0.5 1 1379.0\n",
      "0.5 2 1283.0\n",
      "0.5 3 1356.0\n",
      "0.5 4 1296.0\n",
      "0.5 5 1380.0\n",
      "0.5 6 1350.0\n",
      "0.5 7 1358.0\n",
      "0.5 8 1359.0\n",
      "0.5 9 1298.0\n",
      "0.5625 0 1308.0\n",
      "0.5625 1 1542.0\n",
      "0.5625 2 1547.0\n",
      "0.5625 3 1627.0\n",
      "0.5625 4 1585.0\n",
      "0.5625 5 1529.0\n",
      "0.5625 6 1567.0\n",
      "0.5625 7 1566.0\n",
      "0.5625 8 1559.0\n",
      "0.5625 9 1543.0\n",
      "0.625 0 1535.0\n",
      "0.625 1 1736.0\n",
      "0.625 2 1763.0\n",
      "0.625 3 1721.0\n",
      "0.625 4 1834.0\n",
      "0.625 5 1792.0\n",
      "0.625 6 1806.0\n",
      "0.625 7 1786.0\n",
      "0.625 8 1788.0\n",
      "0.625 9 1808.0\n",
      "0.6875 0 1789.0\n",
      "0.6875 1 1997.0\n",
      "0.6875 2 2009.0\n",
      "0.6875 3 2048.0\n",
      "0.6875 4 2039.0\n",
      "0.6875 5 2041.0\n",
      "0.6875 6 2054.0\n",
      "0.6875 7 2055.0\n",
      "0.6875 8 1994.0\n",
      "0.6875 9 2041.0\n",
      "0.75 0 2040.0\n",
      "0.75 1 2302.0\n",
      "0.75 2 2340.0\n",
      "0.75 3 2386.0\n",
      "0.75 4 2351.0\n",
      "0.75 5 2331.0\n",
      "0.75 6 2317.0\n",
      "0.75 7 2339.0\n",
      "0.75 8 2328.0\n",
      "0.75 9 2351.0\n"
     ]
    }
   ],
   "source": [
    "density_list = np.linspace(0.50, 0.75, 5)\n",
    "n_simulations = 10\n",
    "L=1000\n",
    "T=int(L/2)\n",
    "n_repetitions = 100\n",
    "\n",
    "critical_size_dict = find_critical_size(density_list, n_simulations, L, T, n_repetitions)"
   ]
  },
  {
   "cell_type": "code",
   "execution_count": 8,
   "metadata": {},
   "outputs": [
    {
     "name": "stdout",
     "output_type": "stream",
     "text": [
      "{0.5: [1379.0, 1283.0, 1356.0, 1296.0, 1380.0, 1350.0, 1358.0, 1359.0, 1298.0, 1308.0], 0.5625: [1542.0, 1547.0, 1627.0, 1585.0, 1529.0, 1567.0, 1566.0, 1559.0, 1543.0, 1535.0], 0.625: [1736.0, 1763.0, 1721.0, 1834.0, 1792.0, 1806.0, 1786.0, 1788.0, 1808.0, 1789.0], 0.6875: [1997.0, 2009.0, 2048.0, 2039.0, 2041.0, 2054.0, 2055.0, 1994.0, 2041.0, 2040.0], 0.75: [2302.0, 2340.0, 2386.0, 2351.0, 2331.0, 2317.0, 2339.0, 2328.0, 2351.0, 2371.0]}\n"
     ]
    }
   ],
   "source": [
    "print(critical_size_dict)"
   ]
  },
  {
   "cell_type": "code",
   "execution_count": 10,
   "metadata": {},
   "outputs": [
    {
     "data": {
      "image/png": "[encoded data removed]",
      "text/plain": [
       "<Figure size 640x480 with 1 Axes>"
      ]
     },
     "metadata": {},
     "output_type": "display_data"
    }
   ],
   "source": [
    "for key in critical_size_dict:\n",
    "    for value in critical_size_dict[key]:\n",
    "        plt.plot(key, value,'o',color='red', markersize=1)"
   ]
  },
  {
   "cell_type": "code",
   "execution_count": null,
   "metadata": {},
   "outputs": [],
   "source": [
    "p = 0.6\n",
    "L = 100\n",
    "T = 50\n",
    "n_repetitions = 1000\n",
    "lifespan_counter, final_jams_counted = run_model_stochastic(p, L, T, n_repetitions, v_max=5)\n",
    "lists = sorted(final_jams_counted.items()) # sorted by key, return a list of tuples\n",
    "x_data, y_data = zip(*lists)\n",
    "plt.loglog(x_data, y_data, 'o', markersize = 2)\n",
    "\n",
    "def plot_fit_saver(x, y, a1, b1, a2, b2, index):\n",
    "    plt.clf()\n",
    "    plt.loglog(x, y, 'o', markersize=2)\n",
    "    plt.xlim(0, 1.1*np.max(x))\n",
    "    plt.ylim(0, 1.1*np.max(y))\n",
    "    plt.loglog(x, func(x, a1, b1))\n",
    "    plt.loglog(x, func(x, a2, b2))\n",
    "    plt.savefig(f'Animation/fig{index}.png')\n",
    "\n",
    "def double_fit_saver(x, y):\n",
    "    highest_b2 = 0\n",
    "\n",
    "    for index in range(int(len(x)*0.2), int(len(x)*0.8)):\n",
    "        popt1, pcov1 = scipy.optimize.curve_fit(func, x[0:index], y[0:index], p0=[1, 0.5], maxfev=5000)\n",
    "        a1, b1 = popt1\n",
    "\n",
    "        popt2, pcov2 = scipy.optimize.curve_fit(func, x[index:], y[index:], p0=[1, 0.5], maxfev=5000)\n",
    "        a2, b2 = popt2\n",
    "\n",
    "        if b2 > highest_b2:\n",
    "            # Find steepest line\n",
    "            highest_b2 = b2\n",
    "\n",
    "            best_a1, best_b1, best_a2, best_b2 = a1, b1, a2, b2\n",
    "\n",
    "            optimal_index = index\n",
    "\n",
    "        plot_fit_saver(x, y, a1, b1, a2, b2, index)   \n",
    "        \n",
    "    return best_a1, best_b1, best_a2, best_b2, optimal_index\n",
    "\n",
    "double_fit_saver(x_data, y_data)"
   ]
  },
  {
   "cell_type": "code",
   "execution_count": null,
   "metadata": {},
   "outputs": [],
   "source": [
    "filenames = [f'Animation/fig{index}.png' for index in range(int(len(x_data)*0.2), int(len(x_data)*0.8))]\n",
    "print(filenames)\n"
   ]
  },
  {
   "cell_type": "code",
   "execution_count": null,
   "metadata": {},
   "outputs": [],
   "source": [
    "import imageio\n",
    "with imageio.get_writer('Animation/critical_size.gif', mode='I') as writer:      #https://stackoverflow.com/questions/753190/programmatically-generate-video-or-animated-gif-in-python\n",
    "    for filename in filenames:\n",
    "        image = imageio.imread(filename)\n",
    "        writer.append_data(image)"
   ]
  },
  {
   "cell_type": "code",
   "execution_count": null,
   "metadata": {},
   "outputs": [],
   "source": [
    "import matplotlib.pyplot as plt\n",
    "critical_size_dict = {0.55: [1250.0, 1107.0, 1094.0, 1095.0, 1264.0, 1212.0, 1107.0, 1170.0, 1164.0, 1079.0], 0.6000000000000001: [920.0, 908.0, 966.0, 899.0, 923.0, 924.0, 921.0, 891.0, 904.0, 943.0], 0.65: [861.0, 876.0, 884.0, 888.0, 896.0, 852.0, 854.0, 895.0, 906.0, 880.0], 0.7: [861.0, 863.0, 849.0, 881.0, 835.0, 851.0, 815.0, 862.0, 850.0, 870.0], 0.75: [896.0, 938.0, 858.0, 854.0, 824.0, 848.0, 964.0, 860.0, 842.0, 843.0]}\n",
    "\n",
    "for key in critical_size_dict:\n",
    "    for value in critical_size_dict[key]:\n",
    "        plt.plot(float(key), float(value), 'o', color='red')\n",
    "\n",
    "plt.show()"
   ]
  }
 ],
 "metadata": {
  "kernelspec": {
   "display_name": "base",
   "language": "python",
   "name": "python3"
  },
  "language_info": {
   "codemirror_mode": {
    "name": "ipython",
    "version": 3
   },
   "file_extension": ".py",
   "mimetype": "text/x-python",
   "name": "python",
   "nbconvert_exporter": "python",
   "pygments_lexer": "ipython3",
   "version": "3.10.11"
  },
  "orig_nbformat": 4
 },
 "nbformat": 4,
 "nbformat_minor": 2
}
