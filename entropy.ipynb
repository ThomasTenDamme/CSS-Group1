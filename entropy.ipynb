{
 "cells": [
  {
   "cell_type": "code",
   "execution_count": 2,
   "metadata": {},
   "outputs": [],
   "source": [
    "import importlib\n",
    "import modules\n",
    "from collections import Counter\n",
    "import numpy as np\n",
    "\n",
    "importlib.reload(modules)\n",
    "\n",
    "from modules import CA\n",
    "import matplotlib.pyplot as plt\n",
    "\n",
    "from modules import run_model_stochastic\n",
    "import random\n",
    "\n",
    "importlib.reload(modules)"
   ]
  },
  {
   "cell_type": "code",
   "execution_count": 4,
   "metadata": {},
   "outputs": [],
   "source": [
    "def kinematic_wave_model(initial_density, road_length, time_steps, dt, vmax, density_function, jam_threshold):\n",
    "    \"\"\"\n",
    "    Kinematic Wave model for traffic flow simulation.\n",
    "\n",
    "    Parameters:\n",
    "    - initial_density: Initial density profile along the road.\n",
    "    - road_length: Length of the road.\n",
    "    - time_steps: Number of time steps.\n",
    "    - dt: Time step size.\n",
    "    - vmax: Maximum speed of vehicles.\n",
    "    - density_function: Function representing the initial density profile.\n",
    "    - jam_threshold: Threshold density for identifying traffic jams.\n",
    "\n",
    "    Returns:\n",
    "    - density_history: List of density profiles at each time step.\n",
    "    - num_jams: List of the number of jams at each time step.\n",
    "    \"\"\"\n",
    "\n",
    "    density_history = [initial_density.copy()]\n",
    "    num_jams = []\n",
    "    speed = np.zeros((time_steps, len(initial_density)))\n",
    "\n",
    "    for t in range(time_steps):\n",
    "        current_density = density_history[-1]\n",
    "\n",
    "        # Calculate flow and speed\n",
    "        flow = current_density * vmax\n",
    "        \n",
    "        speed[t] = vmax * (1 - current_density)\n",
    "\n",
    "        # Update density using the conservation equation\n",
    "        density_change = (flow[:-1] - flow[1:]) * dt / road_length\n",
    "        current_density[1:] += density_change\n",
    "        current_density[0] += (flow[-1] - flow[0]) * dt / road_length\n",
    "\n",
    "        # Apply the density function for dynamic variations\n",
    "        current_density = density_function(current_density)\n",
    "\n",
    "        density_history.append(current_density.copy())\n",
    "\n",
    "        # Identify the number of jams\n",
    "        num_jam = np.sum(current_density > jam_threshold)\n",
    "        num_jams.append(num_jam)\n",
    "\n",
    "    return speed\n",
    "\n"
   ]
  },
  {
   "cell_type": "code",
   "execution_count": 32,
   "metadata": {},
   "outputs": [
    {
     "name": "stdout",
     "output_type": "stream",
     "text": [
      "0.3 0\n",
      "0.3 1\n",
      "0.3 2\n",
      "0.3 3\n",
      "0.3 4\n",
      "0.3 5\n",
      "0.3 6\n",
      "0.3 7\n"
     ]
    },
    {
     "ename": "KeyboardInterrupt",
     "evalue": "",
     "output_type": "error",
     "traceback": [
      "\u001b[0;31m---------------------------------------------------------------------------\u001b[0m",
      "\u001b[0;31mKeyboardInterrupt\u001b[0m                         Traceback (most recent call last)",
      "Cell \u001b[0;32mIn[32], line 14\u001b[0m\n\u001b[1;32m     12\u001b[0m \u001b[39mfor\u001b[39;00m n \u001b[39min\u001b[39;00m \u001b[39mrange\u001b[39m(trials):\n\u001b[1;32m     13\u001b[0m     \u001b[39mprint\u001b[39m(p,n)\n\u001b[0;32m---> 14\u001b[0m     lifespan_counter, jam_counter, all_evolutions \u001b[39m=\u001b[39m run_model_stochastic(p, L, T, n_repetitions, v_max, return_evolutions\u001b[39m=\u001b[39;49m\u001b[39mTrue\u001b[39;49;00m)\n\u001b[1;32m     15\u001b[0m     merged \u001b[39m=\u001b[39m \u001b[39mlist\u001b[39m(itertools\u001b[39m.\u001b[39mchain\u001b[39m.\u001b[39mfrom_iterable(\u001b[39mlist\u001b[39m(itertools\u001b[39m.\u001b[39mchain\u001b[39m.\u001b[39mfrom_iterable(all_evolutions))))\n\u001b[1;32m     16\u001b[0m     second_items \u001b[39m=\u001b[39m [tuple_item[\u001b[39m1\u001b[39m] \u001b[39mfor\u001b[39;00m tuple_item \u001b[39min\u001b[39;00m merged]\n",
      "File \u001b[0;32m~/Documents/GitHub/CSS-Group1/modules.py:379\u001b[0m, in \u001b[0;36mrun_model_stochastic\u001b[0;34m(p, L, T, n_repetitions, v_max, p_slowdown, triangular, visualize, return_evolutions)\u001b[0m\n\u001b[1;32m    376\u001b[0m \u001b[39mif\u001b[39;00m triangular:\n\u001b[1;32m    377\u001b[0m     location_states \u001b[39m=\u001b[39m triangulize_evolution(location_states)\n\u001b[0;32m--> 379\u001b[0m jams, lifespans \u001b[39m=\u001b[39m find_jams(location_states, add_lifespans\u001b[39m=\u001b[39;49m\u001b[39mTrue\u001b[39;49;00m)\n\u001b[1;32m    381\u001b[0m jam_sizes \u001b[39m=\u001b[39m [jam[\u001b[39m1\u001b[39m] \u001b[39mfor\u001b[39;00m jam \u001b[39min\u001b[39;00m jams]\n\u001b[1;32m    382\u001b[0m total_jam_sizes \u001b[39m+\u001b[39m\u001b[39m=\u001b[39m jam_sizes\n",
      "File \u001b[0;32m~/Documents/GitHub/CSS-Group1/modules.py:170\u001b[0m, in \u001b[0;36mfind_jams\u001b[0;34m(evolution, add_lifespans)\u001b[0m\n\u001b[1;32m    167\u001b[0m lifespans \u001b[39m=\u001b[39m [\u001b[39m1\u001b[39m] \u001b[39m*\u001b[39m \u001b[39mlen\u001b[39m(previous_jams)\n\u001b[1;32m    169\u001b[0m \u001b[39mfor\u001b[39;00m row \u001b[39min\u001b[39;00m evolution[\u001b[39m1\u001b[39m:]:\n\u001b[0;32m--> 170\u001b[0m     current_jams \u001b[39m=\u001b[39m row_jams(row)\n\u001b[1;32m    172\u001b[0m     \u001b[39m# The rightmost cell of every previous jam should now be one cell to the left in the current jam\u001b[39;00m\n\u001b[1;32m    173\u001b[0m     \u001b[39mfor\u001b[39;00m i, jam \u001b[39min\u001b[39;00m \u001b[39menumerate\u001b[39m(previous_jams):\n",
      "File \u001b[0;32m~/Documents/GitHub/CSS-Group1/modules.py:152\u001b[0m, in \u001b[0;36mfind_jams.<locals>.row_jams\u001b[0;34m(row)\u001b[0m\n\u001b[1;32m    149\u001b[0m start \u001b[39m=\u001b[39m \u001b[39mNone\u001b[39;00m\n\u001b[1;32m    151\u001b[0m \u001b[39mfor\u001b[39;00m i, value \u001b[39min\u001b[39;00m \u001b[39menumerate\u001b[39m(row):\n\u001b[0;32m--> 152\u001b[0m     \u001b[39mif\u001b[39;00m value \u001b[39m==\u001b[39m \u001b[39m1\u001b[39m:\n\u001b[1;32m    153\u001b[0m         \u001b[39mif\u001b[39;00m start \u001b[39mis\u001b[39;00m \u001b[39mNone\u001b[39;00m:\n\u001b[1;32m    154\u001b[0m             start \u001b[39m=\u001b[39m i\n",
      "\u001b[0;31mKeyboardInterrupt\u001b[0m: "
     ]
    }
   ],
   "source": [
    "density_list = np.linspace(0.3, 0.9, 100)\n",
    "L = 100\n",
    "T = 50\n",
    "n_repetitions = 100\n",
    "v_max = 5\n",
    "trials = 500\n",
    "shannon_entropy = {}\n",
    "\n",
    "import itertools\n",
    "\n",
    "for p in density_list:\n",
    "    print(p)\n",
    "    for n in range(trials):\n",
    "        lifespan_counter, jam_counter, all_evolutions = run_model_stochastic(p, L, T, n_repetitions, v_max, return_evolutions=True)\n",
    "        merged = list(itertools.chain.from_iterable(list(itertools.chain.from_iterable(all_evolutions))))\n",
    "        second_items = [tuple_item[1] for tuple_item in merged]\n",
    "        speeds = Counter(second_items)\n",
    "        \n",
    "        probabilities = [count / len(second_items) for count in speeds.values()]\n",
    "\n",
    "        # shannon_entropy[p] += -sum(p * np.log2(p) for p in probabilities)\n",
    "\n",
    "        if p not in shannon_entropy:\n",
    "                    shannon_entropy[p] = [-sum(p * np.log2(p) for p in probabilities)]\n",
    "        else:\n",
    "            shannon_entropy[p] += [-sum(p * np.log2(p) for p in probabilities)]\n"
   ]
  },
  {
   "cell_type": "code",
   "execution_count": 7,
   "metadata": {},
   "outputs": [
    {
     "name": "stdout",
     "output_type": "stream",
     "text": [
      "13.28771237954811\n"
     ]
    },
    {
     "data": {
      "image/png": "[encoded data removed]",
      "text/plain": [
       "<Figure size 640x480 with 1 Axes>"
      ]
     },
     "metadata": {},
     "output_type": "display_data"
    }
   ],
   "source": [
    "# Example Usage:\n",
    "\n",
    "road_length = 10.0\n",
    "time_steps = 100\n",
    "dt = 0.1\n",
    "vmax = 2\n",
    "jam_threshold = 0.8\n",
    "\n",
    "def density_function(density):\n",
    "    # Example of a density function that adds a sinusoidal perturbation\n",
    "    perturbation = np.sin(np.linspace(0, 2 * np.pi, len(density)))\n",
    "    return density + perturbation\n",
    "\n",
    "for n in range(trials):\n",
    "    initial_density = np.sin(np.linspace(0, 2 * np.pi, 100))\n",
    "    random.shuffle(initial_density)\n",
    "\n",
    "    speed = kinematic_wave_model(initial_density, road_length, time_steps, dt, vmax, density_function, jam_threshold).flatten()\n",
    "    counts_speed = Counter(speed)\n",
    "    probabilities = [count / len(speed) for count in counts_speed.values()]\n",
    "\n",
    "    shannon_entropy = -sum(p * np.log2(p) for p in probabilities)\n",
    "    print(shannon_entropy)\n",
    "\n",
    "    plt.plot(1, shannon_entropy, 'o', markersize=0.25, color='red')\n",
    "\n",
    "plt.ylabel(f'H')\n",
    "plt.xlabel(r'$\\rho$')\n",
    "plt.show()\n"
   ]
  }
 ],
 "metadata": {
  "kernelspec": {
   "display_name": "base",
   "language": "python",
   "name": "python3"
  },
  "language_info": {
   "codemirror_mode": {
    "name": "ipython",
    "version": 3
   },
   "file_extension": ".py",
   "mimetype": "text/x-python",
   "name": "python",
   "nbconvert_exporter": "python",
   "pygments_lexer": "ipython3",
   "version": "3.10.11"
  },
  "orig_nbformat": 4
 },
 "nbformat": 4,
 "nbformat_minor": 2
}
